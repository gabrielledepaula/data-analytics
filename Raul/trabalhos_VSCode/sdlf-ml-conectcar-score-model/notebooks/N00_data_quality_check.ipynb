{
 "cells": [
  {
   "cell_type": "markdown",
   "metadata": {},
   "source": [
    "<img src=\"../figures/banner.png\" alt=\"banner\" class=\"center\" style=\"max-width: 90%\">\n",
    "\n",
    "# Data Quality Check"
   ]
  },
  {
   "cell_type": "markdown",
   "metadata": {},
   "source": [
    "## Instructions\n",
    "\n",
    "* We need to use a large general purpose instance with 2 vCPU + 8 GiB memory. \n",
    "\n",
    "## Setup"
   ]
  },
  {
   "cell_type": "code",
   "execution_count": 78,
   "metadata": {},
   "outputs": [
    {
     "name": "stdout",
     "output_type": "stream",
     "text": [
      "/opt/conda/lib/python3.7/site-packages/secretstorage/dhcrypto.py:16: CryptographyDeprecationWarning: int_from_bytes is deprecated, use int.from_bytes instead\n",
      "  from cryptography.utils import int_from_bytes\n",
      "/opt/conda/lib/python3.7/site-packages/secretstorage/util.py:25: CryptographyDeprecationWarning: int_from_bytes is deprecated, use int.from_bytes instead\n",
      "  from cryptography.utils import int_from_bytes\n",
      "Requirement already satisfied: psycopg2-binary in /opt/conda/lib/python3.7/site-packages (2.9.2)\n",
      "Requirement already satisfied: sqlalchemy-redshift in /opt/conda/lib/python3.7/site-packages (0.8.8)\n",
      "Requirement already satisfied: sqlalchemy in /opt/conda/lib/python3.7/site-packages (1.3.13)\n",
      "Requirement already satisfied: packaging in /opt/conda/lib/python3.7/site-packages (from sqlalchemy-redshift) (20.1)\n",
      "Requirement already satisfied: six in /opt/conda/lib/python3.7/site-packages (from packaging->sqlalchemy-redshift) (1.14.0)\n",
      "Requirement already satisfied: pyparsing>=2.0.2 in /opt/conda/lib/python3.7/site-packages (from packaging->sqlalchemy-redshift) (2.4.6)\n",
      "\u001b[33mWARNING: Running pip as the 'root' user can result in broken permissions and conflicting behaviour with the system package manager. It is recommended to use a virtual environment instead: https://pip.pypa.io/warnings/venv\u001b[0m\n",
      "/opt/conda/lib/python3.7/site-packages/secretstorage/dhcrypto.py:16: CryptographyDeprecationWarning: int_from_bytes is deprecated, use int.from_bytes instead\n",
      "  from cryptography.utils import int_from_bytes\n",
      "/opt/conda/lib/python3.7/site-packages/secretstorage/util.py:25: CryptographyDeprecationWarning: int_from_bytes is deprecated, use int.from_bytes instead\n",
      "  from cryptography.utils import int_from_bytes\n",
      "Requirement already satisfied: plotnine==0.8.0 in /opt/conda/lib/python3.7/site-packages (0.8.0)\n",
      "Requirement already satisfied: mizani>=0.7.3 in /opt/conda/lib/python3.7/site-packages (from plotnine==0.8.0) (0.7.3)\n",
      "Requirement already satisfied: numpy>=1.19.0 in /opt/conda/lib/python3.7/site-packages (from plotnine==0.8.0) (1.20.3)\n",
      "Requirement already satisfied: patsy>=0.5.1 in /opt/conda/lib/python3.7/site-packages (from plotnine==0.8.0) (0.5.2)\n",
      "Requirement already satisfied: scipy>=1.5.0 in /opt/conda/lib/python3.7/site-packages (from plotnine==0.8.0) (1.7.3)\n",
      "Requirement already satisfied: matplotlib>=3.1.1 in /opt/conda/lib/python3.7/site-packages (from plotnine==0.8.0) (3.1.3)\n",
      "Requirement already satisfied: statsmodels>=0.12.1 in /opt/conda/lib/python3.7/site-packages (from plotnine==0.8.0) (0.13.1)\n",
      "Requirement already satisfied: descartes>=1.1.0 in /opt/conda/lib/python3.7/site-packages (from plotnine==0.8.0) (1.1.0)\n",
      "Requirement already satisfied: pandas>=1.1.0 in /opt/conda/lib/python3.7/site-packages (from plotnine==0.8.0) (1.3.4)\n",
      "Requirement already satisfied: pyparsing!=2.0.4,!=2.1.2,!=2.1.6,>=2.0.1 in /opt/conda/lib/python3.7/site-packages (from matplotlib>=3.1.1->plotnine==0.8.0) (2.4.6)\n",
      "Requirement already satisfied: kiwisolver>=1.0.1 in /opt/conda/lib/python3.7/site-packages (from matplotlib>=3.1.1->plotnine==0.8.0) (1.1.0)\n",
      "Requirement already satisfied: cycler>=0.10 in /opt/conda/lib/python3.7/site-packages (from matplotlib>=3.1.1->plotnine==0.8.0) (0.10.0)\n",
      "Requirement already satisfied: python-dateutil>=2.1 in /opt/conda/lib/python3.7/site-packages (from matplotlib>=3.1.1->plotnine==0.8.0) (2.8.1)\n",
      "Requirement already satisfied: palettable in /opt/conda/lib/python3.7/site-packages (from mizani>=0.7.3->plotnine==0.8.0) (3.3.0)\n",
      "Requirement already satisfied: pytz>=2017.3 in /opt/conda/lib/python3.7/site-packages (from pandas>=1.1.0->plotnine==0.8.0) (2019.3)\n",
      "Requirement already satisfied: six in /opt/conda/lib/python3.7/site-packages (from patsy>=0.5.1->plotnine==0.8.0) (1.14.0)\n",
      "Requirement already satisfied: setuptools in /opt/conda/lib/python3.7/site-packages (from kiwisolver>=1.0.1->matplotlib>=3.1.1->plotnine==0.8.0) (58.5.3)\n",
      "\u001b[33mWARNING: Running pip as the 'root' user can result in broken permissions and conflicting behaviour with the system package manager. It is recommended to use a virtual environment instead: https://pip.pypa.io/warnings/venv\u001b[0m\n",
      "/opt/conda/lib/python3.7/site-packages/secretstorage/dhcrypto.py:16: CryptographyDeprecationWarning: int_from_bytes is deprecated, use int.from_bytes instead\n",
      "  from cryptography.utils import int_from_bytes\n",
      "/opt/conda/lib/python3.7/site-packages/secretstorage/util.py:25: CryptographyDeprecationWarning: int_from_bytes is deprecated, use int.from_bytes instead\n",
      "  from cryptography.utils import int_from_bytes\n",
      "Requirement already satisfied: pandas_bokeh in /opt/conda/lib/python3.7/site-packages (0.5.5)\n",
      "Requirement already satisfied: pandas>=0.22.0 in /opt/conda/lib/python3.7/site-packages (from pandas_bokeh) (1.3.4)\n",
      "Requirement already satisfied: bokeh>=2.0 in /opt/conda/lib/python3.7/site-packages (from pandas_bokeh) (2.4.2)\n",
      "Requirement already satisfied: tornado>=5.1 in /opt/conda/lib/python3.7/site-packages (from bokeh>=2.0->pandas_bokeh) (6.1)\n",
      "Requirement already satisfied: typing-extensions>=3.10.0 in /opt/conda/lib/python3.7/site-packages (from bokeh>=2.0->pandas_bokeh) (3.10.0.2)\n",
      "Requirement already satisfied: pillow>=7.1.0 in /opt/conda/lib/python3.7/site-packages (from bokeh>=2.0->pandas_bokeh) (8.4.0)\n",
      "Requirement already satisfied: PyYAML>=3.10 in /opt/conda/lib/python3.7/site-packages (from bokeh>=2.0->pandas_bokeh) (6.0)\n",
      "Requirement already satisfied: packaging>=16.8 in /opt/conda/lib/python3.7/site-packages (from bokeh>=2.0->pandas_bokeh) (20.1)\n",
      "Requirement already satisfied: numpy>=1.11.3 in /opt/conda/lib/python3.7/site-packages (from bokeh>=2.0->pandas_bokeh) (1.20.3)\n",
      "Requirement already satisfied: Jinja2>=2.9 in /opt/conda/lib/python3.7/site-packages (from bokeh>=2.0->pandas_bokeh) (3.0.3)\n",
      "Requirement already satisfied: pytz>=2017.3 in /opt/conda/lib/python3.7/site-packages (from pandas>=0.22.0->pandas_bokeh) (2019.3)\n",
      "Requirement already satisfied: python-dateutil>=2.7.3 in /opt/conda/lib/python3.7/site-packages (from pandas>=0.22.0->pandas_bokeh) (2.8.1)\n",
      "Requirement already satisfied: MarkupSafe>=2.0 in /opt/conda/lib/python3.7/site-packages (from Jinja2>=2.9->bokeh>=2.0->pandas_bokeh) (2.0.1)\n",
      "Requirement already satisfied: pyparsing>=2.0.2 in /opt/conda/lib/python3.7/site-packages (from packaging>=16.8->bokeh>=2.0->pandas_bokeh) (2.4.6)\n",
      "Requirement already satisfied: six in /opt/conda/lib/python3.7/site-packages (from packaging>=16.8->bokeh>=2.0->pandas_bokeh) (1.14.0)\n",
      "\u001b[33mWARNING: Running pip as the 'root' user can result in broken permissions and conflicting behaviour with the system package manager. It is recommended to use a virtual environment instead: https://pip.pypa.io/warnings/venv\u001b[0m\n"
     ]
    }
   ],
   "source": [
    "!pip install psycopg2-binary sqlalchemy-redshift sqlalchemy\n",
    "!pip install plotnine==0.8.0\n",
    "!pip install pandas_bokeh "
   ]
  },
  {
   "cell_type": "code",
   "execution_count": 2,
   "metadata": {},
   "outputs": [
    {
     "data": {
      "text/html": [
       "\n",
       "    <div class=\"bk-root\">\n",
       "        <a href=\"https://bokeh.org\" target=\"_blank\" class=\"bk-logo bk-logo-small bk-logo-notebook\"></a>\n",
       "        <span id=\"1002\">Loading BokehJS ...</span>\n",
       "    </div>"
      ]
     },
     "metadata": {},
     "output_type": "display_data"
    },
    {
     "data": {
      "application/javascript": [
       "\n",
       "(function(root) {\n",
       "  function now() {\n",
       "    return new Date();\n",
       "  }\n",
       "\n",
       "  const force = true;\n",
       "\n",
       "  if (typeof root._bokeh_onload_callbacks === \"undefined\" || force === true) {\n",
       "    root._bokeh_onload_callbacks = [];\n",
       "    root._bokeh_is_loading = undefined;\n",
       "  }\n",
       "\n",
       "  const JS_MIME_TYPE = 'application/javascript';\n",
       "  const HTML_MIME_TYPE = 'text/html';\n",
       "  const EXEC_MIME_TYPE = 'application/vnd.bokehjs_exec.v0+json';\n",
       "  const CLASS_NAME = 'output_bokeh rendered_html';\n",
       "\n",
       "  /**\n",
       "   * Render data to the DOM node\n",
       "   */\n",
       "  function render(props, node) {\n",
       "    const script = document.createElement(\"script\");\n",
       "    node.appendChild(script);\n",
       "  }\n",
       "\n",
       "  /**\n",
       "   * Handle when an output is cleared or removed\n",
       "   */\n",
       "  function handleClearOutput(event, handle) {\n",
       "    const cell = handle.cell;\n",
       "\n",
       "    const id = cell.output_area._bokeh_element_id;\n",
       "    const server_id = cell.output_area._bokeh_server_id;\n",
       "    // Clean up Bokeh references\n",
       "    if (id != null && id in Bokeh.index) {\n",
       "      Bokeh.index[id].model.document.clear();\n",
       "      delete Bokeh.index[id];\n",
       "    }\n",
       "\n",
       "    if (server_id !== undefined) {\n",
       "      // Clean up Bokeh references\n",
       "      const cmd_clean = \"from bokeh.io.state import curstate; print(curstate().uuid_to_server['\" + server_id + \"'].get_sessions()[0].document.roots[0]._id)\";\n",
       "      cell.notebook.kernel.execute(cmd_clean, {\n",
       "        iopub: {\n",
       "          output: function(msg) {\n",
       "            const id = msg.content.text.trim();\n",
       "            if (id in Bokeh.index) {\n",
       "              Bokeh.index[id].model.document.clear();\n",
       "              delete Bokeh.index[id];\n",
       "            }\n",
       "          }\n",
       "        }\n",
       "      });\n",
       "      // Destroy server and session\n",
       "      const cmd_destroy = \"import bokeh.io.notebook as ion; ion.destroy_server('\" + server_id + \"')\";\n",
       "      cell.notebook.kernel.execute(cmd_destroy);\n",
       "    }\n",
       "  }\n",
       "\n",
       "  /**\n",
       "   * Handle when a new output is added\n",
       "   */\n",
       "  function handleAddOutput(event, handle) {\n",
       "    const output_area = handle.output_area;\n",
       "    const output = handle.output;\n",
       "\n",
       "    // limit handleAddOutput to display_data with EXEC_MIME_TYPE content only\n",
       "    if ((output.output_type != \"display_data\") || (!Object.prototype.hasOwnProperty.call(output.data, EXEC_MIME_TYPE))) {\n",
       "      return\n",
       "    }\n",
       "\n",
       "    const toinsert = output_area.element.find(\".\" + CLASS_NAME.split(' ')[0]);\n",
       "\n",
       "    if (output.metadata[EXEC_MIME_TYPE][\"id\"] !== undefined) {\n",
       "      toinsert[toinsert.length - 1].firstChild.textContent = output.data[JS_MIME_TYPE];\n",
       "      // store reference to embed id on output_area\n",
       "      output_area._bokeh_element_id = output.metadata[EXEC_MIME_TYPE][\"id\"];\n",
       "    }\n",
       "    if (output.metadata[EXEC_MIME_TYPE][\"server_id\"] !== undefined) {\n",
       "      const bk_div = document.createElement(\"div\");\n",
       "      bk_div.innerHTML = output.data[HTML_MIME_TYPE];\n",
       "      const script_attrs = bk_div.children[0].attributes;\n",
       "      for (let i = 0; i < script_attrs.length; i++) {\n",
       "        toinsert[toinsert.length - 1].firstChild.setAttribute(script_attrs[i].name, script_attrs[i].value);\n",
       "        toinsert[toinsert.length - 1].firstChild.textContent = bk_div.children[0].textContent\n",
       "      }\n",
       "      // store reference to server id on output_area\n",
       "      output_area._bokeh_server_id = output.metadata[EXEC_MIME_TYPE][\"server_id\"];\n",
       "    }\n",
       "  }\n",
       "\n",
       "  function register_renderer(events, OutputArea) {\n",
       "\n",
       "    function append_mime(data, metadata, element) {\n",
       "      // create a DOM node to render to\n",
       "      const toinsert = this.create_output_subarea(\n",
       "        metadata,\n",
       "        CLASS_NAME,\n",
       "        EXEC_MIME_TYPE\n",
       "      );\n",
       "      this.keyboard_manager.register_events(toinsert);\n",
       "      // Render to node\n",
       "      const props = {data: data, metadata: metadata[EXEC_MIME_TYPE]};\n",
       "      render(props, toinsert[toinsert.length - 1]);\n",
       "      element.append(toinsert);\n",
       "      return toinsert\n",
       "    }\n",
       "\n",
       "    /* Handle when an output is cleared or removed */\n",
       "    events.on('clear_output.CodeCell', handleClearOutput);\n",
       "    events.on('delete.Cell', handleClearOutput);\n",
       "\n",
       "    /* Handle when a new output is added */\n",
       "    events.on('output_added.OutputArea', handleAddOutput);\n",
       "\n",
       "    /**\n",
       "     * Register the mime type and append_mime function with output_area\n",
       "     */\n",
       "    OutputArea.prototype.register_mime_type(EXEC_MIME_TYPE, append_mime, {\n",
       "      /* Is output safe? */\n",
       "      safe: true,\n",
       "      /* Index of renderer in `output_area.display_order` */\n",
       "      index: 0\n",
       "    });\n",
       "  }\n",
       "\n",
       "  // register the mime type if in Jupyter Notebook environment and previously unregistered\n",
       "  if (root.Jupyter !== undefined) {\n",
       "    const events = require('base/js/events');\n",
       "    const OutputArea = require('notebook/js/outputarea').OutputArea;\n",
       "\n",
       "    if (OutputArea.prototype.mime_types().indexOf(EXEC_MIME_TYPE) == -1) {\n",
       "      register_renderer(events, OutputArea);\n",
       "    }\n",
       "  }\n",
       "\n",
       "  \n",
       "  if (typeof (root._bokeh_timeout) === \"undefined\" || force === true) {\n",
       "    root._bokeh_timeout = Date.now() + 5000;\n",
       "    root._bokeh_failed_load = false;\n",
       "  }\n",
       "\n",
       "  const NB_LOAD_WARNING = {'data': {'text/html':\n",
       "     \"<div style='background-color: #fdd'>\\n\"+\n",
       "     \"<p>\\n\"+\n",
       "     \"BokehJS does not appear to have successfully loaded. If loading BokehJS from CDN, this \\n\"+\n",
       "     \"may be due to a slow or bad network connection. Possible fixes:\\n\"+\n",
       "     \"</p>\\n\"+\n",
       "     \"<ul>\\n\"+\n",
       "     \"<li>re-rerun `output_notebook()` to attempt to load from CDN again, or</li>\\n\"+\n",
       "     \"<li>use INLINE resources instead, as so:</li>\\n\"+\n",
       "     \"</ul>\\n\"+\n",
       "     \"<code>\\n\"+\n",
       "     \"from bokeh.resources import INLINE\\n\"+\n",
       "     \"output_notebook(resources=INLINE)\\n\"+\n",
       "     \"</code>\\n\"+\n",
       "     \"</div>\"}};\n",
       "\n",
       "  function display_loaded() {\n",
       "    const el = document.getElementById(\"1002\");\n",
       "    if (el != null) {\n",
       "      el.textContent = \"BokehJS is loading...\";\n",
       "    }\n",
       "    if (root.Bokeh !== undefined) {\n",
       "      if (el != null) {\n",
       "        el.textContent = \"BokehJS \" + root.Bokeh.version + \" successfully loaded.\";\n",
       "      }\n",
       "    } else if (Date.now() < root._bokeh_timeout) {\n",
       "      setTimeout(display_loaded, 100)\n",
       "    }\n",
       "  }\n",
       "\n",
       "\n",
       "  function run_callbacks() {\n",
       "    try {\n",
       "      root._bokeh_onload_callbacks.forEach(function(callback) {\n",
       "        if (callback != null)\n",
       "          callback();\n",
       "      });\n",
       "    } finally {\n",
       "      delete root._bokeh_onload_callbacks\n",
       "    }\n",
       "    console.debug(\"Bokeh: all callbacks have finished\");\n",
       "  }\n",
       "\n",
       "  function load_libs(css_urls, js_urls, callback) {\n",
       "    if (css_urls == null) css_urls = [];\n",
       "    if (js_urls == null) js_urls = [];\n",
       "\n",
       "    root._bokeh_onload_callbacks.push(callback);\n",
       "    if (root._bokeh_is_loading > 0) {\n",
       "      console.debug(\"Bokeh: BokehJS is being loaded, scheduling callback at\", now());\n",
       "      return null;\n",
       "    }\n",
       "    if (js_urls == null || js_urls.length === 0) {\n",
       "      run_callbacks();\n",
       "      return null;\n",
       "    }\n",
       "    console.debug(\"Bokeh: BokehJS not loaded, scheduling load and callback at\", now());\n",
       "    root._bokeh_is_loading = css_urls.length + js_urls.length;\n",
       "\n",
       "    function on_load() {\n",
       "      root._bokeh_is_loading--;\n",
       "      if (root._bokeh_is_loading === 0) {\n",
       "        console.debug(\"Bokeh: all BokehJS libraries/stylesheets loaded\");\n",
       "        run_callbacks()\n",
       "      }\n",
       "    }\n",
       "\n",
       "    function on_error(url) {\n",
       "      console.error(\"failed to load \" + url);\n",
       "    }\n",
       "\n",
       "    for (let i = 0; i < css_urls.length; i++) {\n",
       "      const url = css_urls[i];\n",
       "      const element = document.createElement(\"link\");\n",
       "      element.onload = on_load;\n",
       "      element.onerror = on_error.bind(null, url);\n",
       "      element.rel = \"stylesheet\";\n",
       "      element.type = \"text/css\";\n",
       "      element.href = url;\n",
       "      console.debug(\"Bokeh: injecting link tag for BokehJS stylesheet: \", url);\n",
       "      document.body.appendChild(element);\n",
       "    }\n",
       "\n",
       "    for (let i = 0; i < js_urls.length; i++) {\n",
       "      const url = js_urls[i];\n",
       "      const element = document.createElement('script');\n",
       "      element.onload = on_load;\n",
       "      element.onerror = on_error.bind(null, url);\n",
       "      element.async = false;\n",
       "      element.src = url;\n",
       "      console.debug(\"Bokeh: injecting script tag for BokehJS library: \", url);\n",
       "      document.head.appendChild(element);\n",
       "    }\n",
       "  };\n",
       "\n",
       "  function inject_raw_css(css) {\n",
       "    const element = document.createElement(\"style\");\n",
       "    element.appendChild(document.createTextNode(css));\n",
       "    document.body.appendChild(element);\n",
       "  }\n",
       "\n",
       "  \n",
       "  const js_urls = [\"https://cdn.bokeh.org/bokeh/release/bokeh-2.4.2.min.js\", \"https://cdn.bokeh.org/bokeh/release/bokeh-gl-2.4.2.min.js\", \"https://cdn.bokeh.org/bokeh/release/bokeh-widgets-2.4.2.min.js\", \"https://cdn.bokeh.org/bokeh/release/bokeh-tables-2.4.2.min.js\", \"https://cdn.bokeh.org/bokeh/release/bokeh-mathjax-2.4.2.min.js\"];\n",
       "  const css_urls = [];\n",
       "  \n",
       "\n",
       "  const inline_js = [\n",
       "    function(Bokeh) {\n",
       "      Bokeh.set_log_level(\"info\");\n",
       "    },\n",
       "    function(Bokeh) {\n",
       "    \n",
       "    \n",
       "    }\n",
       "  ];\n",
       "\n",
       "  function run_inline_js() {\n",
       "    \n",
       "    if (root.Bokeh !== undefined || force === true) {\n",
       "      \n",
       "    for (let i = 0; i < inline_js.length; i++) {\n",
       "      inline_js[i].call(root, root.Bokeh);\n",
       "    }\n",
       "    if (force === true) {\n",
       "        display_loaded();\n",
       "      }} else if (Date.now() < root._bokeh_timeout) {\n",
       "      setTimeout(run_inline_js, 100);\n",
       "    } else if (!root._bokeh_failed_load) {\n",
       "      console.log(\"Bokeh: BokehJS failed to load within specified timeout.\");\n",
       "      root._bokeh_failed_load = true;\n",
       "    } else if (force !== true) {\n",
       "      const cell = $(document.getElementById(\"1002\")).parents('.cell').data().cell;\n",
       "      cell.output_area.append_execute_result(NB_LOAD_WARNING)\n",
       "    }\n",
       "\n",
       "  }\n",
       "\n",
       "  if (root._bokeh_is_loading === 0) {\n",
       "    console.debug(\"Bokeh: BokehJS loaded, going straight to plotting\");\n",
       "    run_inline_js();\n",
       "  } else {\n",
       "    load_libs(css_urls, js_urls, function() {\n",
       "      console.debug(\"Bokeh: BokehJS plotting callback run at\", now());\n",
       "      run_inline_js();\n",
       "    });\n",
       "  }\n",
       "}(window));"
      ],
      "application/vnd.bokehjs_load.v0+json": "\n(function(root) {\n  function now() {\n    return new Date();\n  }\n\n  const force = true;\n\n  if (typeof root._bokeh_onload_callbacks === \"undefined\" || force === true) {\n    root._bokeh_onload_callbacks = [];\n    root._bokeh_is_loading = undefined;\n  }\n\n  \n\n  \n  if (typeof (root._bokeh_timeout) === \"undefined\" || force === true) {\n    root._bokeh_timeout = Date.now() + 5000;\n    root._bokeh_failed_load = false;\n  }\n\n  const NB_LOAD_WARNING = {'data': {'text/html':\n     \"<div style='background-color: #fdd'>\\n\"+\n     \"<p>\\n\"+\n     \"BokehJS does not appear to have successfully loaded. If loading BokehJS from CDN, this \\n\"+\n     \"may be due to a slow or bad network connection. Possible fixes:\\n\"+\n     \"</p>\\n\"+\n     \"<ul>\\n\"+\n     \"<li>re-rerun `output_notebook()` to attempt to load from CDN again, or</li>\\n\"+\n     \"<li>use INLINE resources instead, as so:</li>\\n\"+\n     \"</ul>\\n\"+\n     \"<code>\\n\"+\n     \"from bokeh.resources import INLINE\\n\"+\n     \"output_notebook(resources=INLINE)\\n\"+\n     \"</code>\\n\"+\n     \"</div>\"}};\n\n  function display_loaded() {\n    const el = document.getElementById(\"1002\");\n    if (el != null) {\n      el.textContent = \"BokehJS is loading...\";\n    }\n    if (root.Bokeh !== undefined) {\n      if (el != null) {\n        el.textContent = \"BokehJS \" + root.Bokeh.version + \" successfully loaded.\";\n      }\n    } else if (Date.now() < root._bokeh_timeout) {\n      setTimeout(display_loaded, 100)\n    }\n  }\n\n\n  function run_callbacks() {\n    try {\n      root._bokeh_onload_callbacks.forEach(function(callback) {\n        if (callback != null)\n          callback();\n      });\n    } finally {\n      delete root._bokeh_onload_callbacks\n    }\n    console.debug(\"Bokeh: all callbacks have finished\");\n  }\n\n  function load_libs(css_urls, js_urls, callback) {\n    if (css_urls == null) css_urls = [];\n    if (js_urls == null) js_urls = [];\n\n    root._bokeh_onload_callbacks.push(callback);\n    if (root._bokeh_is_loading > 0) {\n      console.debug(\"Bokeh: BokehJS is being loaded, scheduling callback at\", now());\n      return null;\n    }\n    if (js_urls == null || js_urls.length === 0) {\n      run_callbacks();\n      return null;\n    }\n    console.debug(\"Bokeh: BokehJS not loaded, scheduling load and callback at\", now());\n    root._bokeh_is_loading = css_urls.length + js_urls.length;\n\n    function on_load() {\n      root._bokeh_is_loading--;\n      if (root._bokeh_is_loading === 0) {\n        console.debug(\"Bokeh: all BokehJS libraries/stylesheets loaded\");\n        run_callbacks()\n      }\n    }\n\n    function on_error(url) {\n      console.error(\"failed to load \" + url);\n    }\n\n    for (let i = 0; i < css_urls.length; i++) {\n      const url = css_urls[i];\n      const element = document.createElement(\"link\");\n      element.onload = on_load;\n      element.onerror = on_error.bind(null, url);\n      element.rel = \"stylesheet\";\n      element.type = \"text/css\";\n      element.href = url;\n      console.debug(\"Bokeh: injecting link tag for BokehJS stylesheet: \", url);\n      document.body.appendChild(element);\n    }\n\n    for (let i = 0; i < js_urls.length; i++) {\n      const url = js_urls[i];\n      const element = document.createElement('script');\n      element.onload = on_load;\n      element.onerror = on_error.bind(null, url);\n      element.async = false;\n      element.src = url;\n      console.debug(\"Bokeh: injecting script tag for BokehJS library: \", url);\n      document.head.appendChild(element);\n    }\n  };\n\n  function inject_raw_css(css) {\n    const element = document.createElement(\"style\");\n    element.appendChild(document.createTextNode(css));\n    document.body.appendChild(element);\n  }\n\n  \n  const js_urls = [\"https://cdn.bokeh.org/bokeh/release/bokeh-2.4.2.min.js\", \"https://cdn.bokeh.org/bokeh/release/bokeh-gl-2.4.2.min.js\", \"https://cdn.bokeh.org/bokeh/release/bokeh-widgets-2.4.2.min.js\", \"https://cdn.bokeh.org/bokeh/release/bokeh-tables-2.4.2.min.js\", \"https://cdn.bokeh.org/bokeh/release/bokeh-mathjax-2.4.2.min.js\"];\n  const css_urls = [];\n  \n\n  const inline_js = [\n    function(Bokeh) {\n      Bokeh.set_log_level(\"info\");\n    },\n    function(Bokeh) {\n    \n    \n    }\n  ];\n\n  function run_inline_js() {\n    \n    if (root.Bokeh !== undefined || force === true) {\n      \n    for (let i = 0; i < inline_js.length; i++) {\n      inline_js[i].call(root, root.Bokeh);\n    }\n    if (force === true) {\n        display_loaded();\n      }} else if (Date.now() < root._bokeh_timeout) {\n      setTimeout(run_inline_js, 100);\n    } else if (!root._bokeh_failed_load) {\n      console.log(\"Bokeh: BokehJS failed to load within specified timeout.\");\n      root._bokeh_failed_load = true;\n    } else if (force !== true) {\n      const cell = $(document.getElementById(\"1002\")).parents('.cell').data().cell;\n      cell.output_area.append_execute_result(NB_LOAD_WARNING)\n    }\n\n  }\n\n  if (root._bokeh_is_loading === 0) {\n    console.debug(\"Bokeh: BokehJS loaded, going straight to plotting\");\n    run_inline_js();\n  } else {\n    load_libs(css_urls, js_urls, function() {\n      console.debug(\"Bokeh: BokehJS plotting callback run at\", now());\n      run_inline_js();\n    });\n  }\n}(window));"
     },
     "metadata": {},
     "output_type": "display_data"
    }
   ],
   "source": [
    "# Load the libraries\n",
    "from sqlalchemy import create_engine\n",
    "import boto3\n",
    "import json\n",
    "\n",
    "import pandas as pd\n",
    "import numpy as np\n",
    "\n",
    "from plotnine import *\n",
    "import matplotlib.pyplot as plt\n",
    "import seaborn as sns\n",
    "\n",
    "import pandas_bokeh                               # This is Pandas-bokeh\n",
    "#pd.set_option('plotting.backend', 'pandas_bokeh') # This is Pandas-bokeh\n",
    "pandas_bokeh.output_notebook() # https://github.com/PatrikHlobil/Pandas-Bokeh\n",
    "\n",
    "\n",
    "# Configure pandas output\n",
    "pd.options.display.max_rows = 100\n",
    "pd.options.display.max_columns = 999"
   ]
  },
  {
   "cell_type": "markdown",
   "metadata": {},
   "source": [
    "## Download data"
   ]
  },
  {
   "cell_type": "markdown",
   "metadata": {},
   "source": [
    "* Setting up the connection to Redshift. Notice that redshift credentials are stored in the secret manager service, for security purposes. The idea is not to hard code those credentials in the Jupyter code."
   ]
  },
  {
   "cell_type": "code",
   "execution_count": 3,
   "metadata": {},
   "outputs": [
    {
     "name": "stderr",
     "output_type": "stream",
     "text": [
      "/opt/conda/lib/python3.7/site-packages/pkg_resources/__init__.py:119: PkgResourcesDeprecationWarning: 4.0.0-unsupported is an invalid version and will not be supported in a future release\n"
     ]
    }
   ],
   "source": [
    "# Credentials\n",
    "secretsmanager = boto3.client(\"secretsmanager\")\n",
    "secret = secretsmanager.get_secret_value(SecretId=\"dante_ruiz/redshift/user\")\n",
    "cred = json.loads(secret[\"SecretString\"])\n",
    "user_name = cred[\"username\"]\n",
    "user_pw = cred[\"password\"]\n",
    "\n",
    "# Redshift\n",
    "redshift_cluster_identifier = \"sdlf-cntcar-redshift-dev\"\n",
    "redshift_host = \"sdlf-cntcar-redshift-dev.capkkn406tig.us-east-2.redshift.amazonaws.com\"\n",
    "database_name_redshift = \"conectcar\"\n",
    "redshift_port = \"5439\"\n",
    "schema_redshift = \"cntcar_work\"\n",
    "table_name = \"\"\n",
    "\n",
    "# Setup redshift connection\n",
    "connection_string = \"redshift+psycopg2://%s:%s@%s:%s/%s\" % (user_name,user_pw,redshift_host,redshift_port,database_name_redshift)\n",
    "engine = create_engine(connection_string)"
   ]
  },
  {
   "cell_type": "markdown",
   "metadata": {},
   "source": [
    "You can download the data from the cluster and later on save it in the sagemaker storage if you do not want to connect every time to the cluster."
   ]
  },
  {
   "cell_type": "code",
   "execution_count": 4,
   "metadata": {},
   "outputs": [],
   "source": [
    "#%%time\n",
    "query = '''\n",
    "    SELECT * \n",
    "    FROM cntcar_ds_work.v02_customer_union;'''\n",
    "df_last_transaction = pd.read_sql( query, engine)"
   ]
  },
  {
   "cell_type": "code",
   "execution_count": 5,
   "metadata": {},
   "outputs": [],
   "source": [
    "# Save the data locally to SageMaker storage\n",
    "df_last_transaction.to_parquet(\"../data/raw/input.parquet\", index = False)"
   ]
  },
  {
   "cell_type": "markdown",
   "metadata": {},
   "source": [
    "* If you want to load the extract of data without connecting to readshift, load the parquet file."
   ]
  },
  {
   "cell_type": "code",
   "execution_count": 6,
   "metadata": {},
   "outputs": [],
   "source": [
    "# Load data from sagemaker storage\n",
    "df_last_transaction = pd.read_parquet(\"../data/raw/input.parquet\")"
   ]
  },
  {
   "cell_type": "markdown",
   "metadata": {},
   "source": [
    "* Lets describe the dataset fields:\n",
    "\n",
    "    + General:\n",
    "        - `clienteid`: Customer id\n",
    "        - `data_nascimento`: Birth date\n",
    "        - `customerage`: Age of the client\n",
    "        - `estado`: Client state\n",
    "        - `sex`: Client sex\n",
    "        - `estadocivilid`: Client civil state\n",
    "        - `pessoa_fisica`: Is he an individual or a corporation.\n",
    "        - `nomeplano`: Plan\n",
    "        \n",
    "    + Customer last transaction data:\n",
    "        - `transacaoid`: Transaction id\n",
    "        - `lasttransactiondate`: Last transaction date\n",
    "        - `adesaoid`: Tag id of the car that made the transaction.      \n",
    "        - `lasttransactionvalue`: Total transaction value.\n",
    "        - `saldoid`: Account balance id\n",
    "        - `balancebeforelasttransaction`: Balance before the last transaction.\n",
    "        - `hadcreditavailabel`: The client has a loan with connect car at the moment? (yes or no)\n",
    "        - `dayswithcreditavailabel`: If he has a loan, since when? (days)\n",
    "        - `saldoanteriord`: If he has a loan, by how much is this loan?\n",
    "        - `tipooperacaoid`: If he has a loan, what caused the loan (highway or parking lot) || 7 AND 22 = HIGHWAY / 14 = PARKING LOT\n",
    "        - `vehicletype`: Type of vehicle (leve / heavy)\n",
    "        - `axes`: Number of axes of the vehicle\n",
    "        - `actualbalance`: Current balance\n",
    "        - `lastrechargedate`: Last charge date\n",
    "        - `lastrechargevalue`: Last recharge value\n",
    "        - `methodofpayment`: Method of payment\n",
    "        - `daysowningloan`: Days owing a loan.\n",
    "        - `doesstillhasdebit`: Does he still have debit.\n",
    "\n",
    "    + Customer financial history\n",
    "        - `totalloans` -- 1. How many times the client has generated a credit with ConnecCar?\n",
    "        - `avgdayspayback` -- 2. Average time to repay (days)?\n",
    "        - `totalloans_highway` -- 3. How many times he has generated a credit for highways?\n",
    "        - `totaloans_parkinglot` -- 4.   How many times he has generated a credit for parking lots?\n",
    "        - `totalloans_membershipsubscription` -- 10. How many times he has generated a credit for customer membership subscriptions?\n",
    "        - `totaltransactions` -- 5.  How many transactions he has made (successful or unsuccessful)?\n",
    "        - `totaltransactions_highway` -- 6.  How many times he has used the tag for highways?\n",
    "        - `totatransactions_parkinglot` -- 7.    How many times he has used the tag for parking lots?\n",
    "        - `totaltransactions_membershipsubscription` -- 11.  How many times he has used the tag for customer membership subscriptions?\n",
    "        - `avaragebalance` -- 8. Average balance (in the entire year)?\n",
    "        - `avaragerecharge` -- 9. Average recharge (in the entire year)?\n",
    "\n",
    "        "
   ]
  },
  {
   "cell_type": "markdown",
   "metadata": {},
   "source": [
    "### Shape inspection"
   ]
  },
  {
   "cell_type": "markdown",
   "metadata": {},
   "source": [
    "As you can see we preprocessed gigabytes of data in the cluster, and narrow down our dataset to barley 200MB. Lets pick a view to how data was imported."
   ]
  },
  {
   "cell_type": "code",
   "execution_count": 7,
   "metadata": {},
   "outputs": [
    {
     "name": "stdout",
     "output_type": "stream",
     "text": [
      "<class 'pandas.core.frame.DataFrame'>\n",
      "RangeIndex: 1314068 entries, 0 to 1314067\n",
      "Data columns (total 35 columns):\n",
      " #   Column                                    Non-Null Count    Dtype         \n",
      "---  ------                                    --------------    -----         \n",
      " 0   clienteid                                 1314068 non-null  int64         \n",
      " 1   transacaoid                               1314068 non-null  int64         \n",
      " 2   lasttransactiondate                       1314068 non-null  datetime64[ns]\n",
      " 3   adesaoid                                  1314068 non-null  int64         \n",
      " 4   lasttransactionvalue                      1314068 non-null  float64       \n",
      " 5   saldoid                                   944248 non-null   float64       \n",
      " 6   hadcreditavailabel                        1314068 non-null  object        \n",
      " 7   dayswithcreditavailabel                   1245067 non-null  float64       \n",
      " 8   balancebeforelasttransaction              1314068 non-null  float64       \n",
      " 9   tipooperacaoid                            1314068 non-null  int64         \n",
      " 10  operationtype                             1102274 non-null  object        \n",
      " 11  vehicletype                               1213065 non-null  object        \n",
      " 12  axes                                      312356 non-null   float64       \n",
      " 13  actualbalance                             1314061 non-null  float64       \n",
      " 14  lastrechargevalue                         1192975 non-null  float64       \n",
      " 15  lastrechargedate                          1192975 non-null  datetime64[ns]\n",
      " 16  methodofpayment                           1314068 non-null  object        \n",
      " 17  daysowningloan                            1314068 non-null  int64         \n",
      " 18  doesstillhasdebit                         1314068 non-null  object        \n",
      " 19  data_nascimento                           1291060 non-null  datetime64[ns]\n",
      " 20  customerage                               1291060 non-null  float64       \n",
      " 21  estadocivilid                             985399 non-null   float64       \n",
      " 22  estado                                    1314068 non-null  object        \n",
      " 23  nomeplano                                 1313597 non-null  object        \n",
      " 24  totalloans                                440764 non-null   float64       \n",
      " 25  avgdayspayback                            319221 non-null   float64       \n",
      " 26  totalloans_highway                        440764 non-null   float64       \n",
      " 27  totaloans_parkinglot                      440764 non-null   float64       \n",
      " 28  totalloans_membershipsubscription         440764 non-null   float64       \n",
      " 29  totaltransactions                         1314068 non-null  int64         \n",
      " 30  totaltransactions_highway                 1314068 non-null  int64         \n",
      " 31  totatransactions_parkinglot               1314068 non-null  int64         \n",
      " 32  totaltransactions_membershipsubscription  1314068 non-null  int64         \n",
      " 33  avaragebalance                            1314068 non-null  float64       \n",
      " 34  avaragerecharge                           1273618 non-null  float64       \n",
      "dtypes: datetime64[ns](3), float64(16), int64(9), object(7)\n",
      "memory usage: 350.9+ MB\n"
     ]
    }
   ],
   "source": [
    "#%%time\n",
    "# 1314068\n",
    "df_last_transaction.info()"
   ]
  },
  {
   "cell_type": "markdown",
   "metadata": {},
   "source": [
    "Lets summarise how many rows our dataset has:"
   ]
  },
  {
   "cell_type": "code",
   "execution_count": 8,
   "metadata": {},
   "outputs": [
    {
     "name": "stdout",
     "output_type": "stream",
     "text": [
      "Num of rows: 1314068\n",
      "Num of cols: 35\n"
     ]
    }
   ],
   "source": [
    "df_shape = df_last_transaction.shape\n",
    "print(f\"Num of rows: {df_shape[0]}\") # 1317717 (November 26th)\n",
    "print(f\"Num of cols: {df_shape[1]}\") # 18"
   ]
  },
  {
   "cell_type": "markdown",
   "metadata": {},
   "source": [
    "### Null values"
   ]
  },
  {
   "cell_type": "markdown",
   "metadata": {},
   "source": [
    "Are there any null values that can be easily spotted?\n",
    "\n",
    "* eixos\n",
    "* salidoid\n",
    "* estadocivilid\n",
    "* age\n",
    "* classificacao\n",
    "* pessoa_fisica\n",
    "* estado\n",
    "* dayswithcreditavailabel\n",
    "* valord\n",
    "\n",
    "\n"
   ]
  },
  {
   "cell_type": "code",
   "execution_count": 11,
   "metadata": {},
   "outputs": [
    {
     "data": {
      "text/html": [
       "<div>\n",
       "<style scoped>\n",
       "    .dataframe tbody tr th:only-of-type {\n",
       "        vertical-align: middle;\n",
       "    }\n",
       "\n",
       "    .dataframe tbody tr th {\n",
       "        vertical-align: top;\n",
       "    }\n",
       "\n",
       "    .dataframe thead th {\n",
       "        text-align: right;\n",
       "    }\n",
       "</style>\n",
       "<table border=\"1\" class=\"dataframe\">\n",
       "  <thead>\n",
       "    <tr style=\"text-align: right;\">\n",
       "      <th></th>\n",
       "      <th>num_obs</th>\n",
       "      <th>pct</th>\n",
       "    </tr>\n",
       "  </thead>\n",
       "  <tbody>\n",
       "    <tr>\n",
       "      <th>axes</th>\n",
       "      <td>1001712</td>\n",
       "      <td>76.2</td>\n",
       "    </tr>\n",
       "    <tr>\n",
       "      <th>avgdayspayback</th>\n",
       "      <td>994847</td>\n",
       "      <td>75.7</td>\n",
       "    </tr>\n",
       "    <tr>\n",
       "      <th>totalloans</th>\n",
       "      <td>873304</td>\n",
       "      <td>66.5</td>\n",
       "    </tr>\n",
       "    <tr>\n",
       "      <th>totalloans_highway</th>\n",
       "      <td>873304</td>\n",
       "      <td>66.5</td>\n",
       "    </tr>\n",
       "    <tr>\n",
       "      <th>totaloans_parkinglot</th>\n",
       "      <td>873304</td>\n",
       "      <td>66.5</td>\n",
       "    </tr>\n",
       "    <tr>\n",
       "      <th>totalloans_membershipsubscription</th>\n",
       "      <td>873304</td>\n",
       "      <td>66.5</td>\n",
       "    </tr>\n",
       "    <tr>\n",
       "      <th>saldoid</th>\n",
       "      <td>369820</td>\n",
       "      <td>28.1</td>\n",
       "    </tr>\n",
       "    <tr>\n",
       "      <th>estadocivilid</th>\n",
       "      <td>328669</td>\n",
       "      <td>25.0</td>\n",
       "    </tr>\n",
       "    <tr>\n",
       "      <th>operationtype</th>\n",
       "      <td>211794</td>\n",
       "      <td>16.1</td>\n",
       "    </tr>\n",
       "    <tr>\n",
       "      <th>lastrechargedate</th>\n",
       "      <td>121093</td>\n",
       "      <td>9.2</td>\n",
       "    </tr>\n",
       "    <tr>\n",
       "      <th>lastrechargevalue</th>\n",
       "      <td>121093</td>\n",
       "      <td>9.2</td>\n",
       "    </tr>\n",
       "    <tr>\n",
       "      <th>vehicletype</th>\n",
       "      <td>101003</td>\n",
       "      <td>7.7</td>\n",
       "    </tr>\n",
       "    <tr>\n",
       "      <th>dayswithcreditavailabel</th>\n",
       "      <td>69001</td>\n",
       "      <td>5.3</td>\n",
       "    </tr>\n",
       "    <tr>\n",
       "      <th>avaragerecharge</th>\n",
       "      <td>40450</td>\n",
       "      <td>3.1</td>\n",
       "    </tr>\n",
       "    <tr>\n",
       "      <th>data_nascimento</th>\n",
       "      <td>23008</td>\n",
       "      <td>1.8</td>\n",
       "    </tr>\n",
       "    <tr>\n",
       "      <th>customerage</th>\n",
       "      <td>23008</td>\n",
       "      <td>1.8</td>\n",
       "    </tr>\n",
       "    <tr>\n",
       "      <th>nomeplano</th>\n",
       "      <td>471</td>\n",
       "      <td>0.0</td>\n",
       "    </tr>\n",
       "    <tr>\n",
       "      <th>actualbalance</th>\n",
       "      <td>7</td>\n",
       "      <td>0.0</td>\n",
       "    </tr>\n",
       "    <tr>\n",
       "      <th>totaltransactions</th>\n",
       "      <td>0</td>\n",
       "      <td>0.0</td>\n",
       "    </tr>\n",
       "    <tr>\n",
       "      <th>totaltransactions_highway</th>\n",
       "      <td>0</td>\n",
       "      <td>0.0</td>\n",
       "    </tr>\n",
       "    <tr>\n",
       "      <th>totatransactions_parkinglot</th>\n",
       "      <td>0</td>\n",
       "      <td>0.0</td>\n",
       "    </tr>\n",
       "    <tr>\n",
       "      <th>totaltransactions_membershipsubscription</th>\n",
       "      <td>0</td>\n",
       "      <td>0.0</td>\n",
       "    </tr>\n",
       "    <tr>\n",
       "      <th>avaragebalance</th>\n",
       "      <td>0</td>\n",
       "      <td>0.0</td>\n",
       "    </tr>\n",
       "    <tr>\n",
       "      <th>clienteid</th>\n",
       "      <td>0</td>\n",
       "      <td>0.0</td>\n",
       "    </tr>\n",
       "    <tr>\n",
       "      <th>estado</th>\n",
       "      <td>0</td>\n",
       "      <td>0.0</td>\n",
       "    </tr>\n",
       "    <tr>\n",
       "      <th>doesstillhasdebit</th>\n",
       "      <td>0</td>\n",
       "      <td>0.0</td>\n",
       "    </tr>\n",
       "    <tr>\n",
       "      <th>transacaoid</th>\n",
       "      <td>0</td>\n",
       "      <td>0.0</td>\n",
       "    </tr>\n",
       "    <tr>\n",
       "      <th>methodofpayment</th>\n",
       "      <td>0</td>\n",
       "      <td>0.0</td>\n",
       "    </tr>\n",
       "    <tr>\n",
       "      <th>tipooperacaoid</th>\n",
       "      <td>0</td>\n",
       "      <td>0.0</td>\n",
       "    </tr>\n",
       "    <tr>\n",
       "      <th>balancebeforelasttransaction</th>\n",
       "      <td>0</td>\n",
       "      <td>0.0</td>\n",
       "    </tr>\n",
       "    <tr>\n",
       "      <th>hadcreditavailabel</th>\n",
       "      <td>0</td>\n",
       "      <td>0.0</td>\n",
       "    </tr>\n",
       "    <tr>\n",
       "      <th>lasttransactionvalue</th>\n",
       "      <td>0</td>\n",
       "      <td>0.0</td>\n",
       "    </tr>\n",
       "    <tr>\n",
       "      <th>adesaoid</th>\n",
       "      <td>0</td>\n",
       "      <td>0.0</td>\n",
       "    </tr>\n",
       "    <tr>\n",
       "      <th>lasttransactiondate</th>\n",
       "      <td>0</td>\n",
       "      <td>0.0</td>\n",
       "    </tr>\n",
       "    <tr>\n",
       "      <th>daysowningloan</th>\n",
       "      <td>0</td>\n",
       "      <td>0.0</td>\n",
       "    </tr>\n",
       "  </tbody>\n",
       "</table>\n",
       "</div>"
      ],
      "text/plain": [
       "                                          num_obs   pct\n",
       "axes                                      1001712  76.2\n",
       "avgdayspayback                             994847  75.7\n",
       "totalloans                                 873304  66.5\n",
       "totalloans_highway                         873304  66.5\n",
       "totaloans_parkinglot                       873304  66.5\n",
       "totalloans_membershipsubscription          873304  66.5\n",
       "saldoid                                    369820  28.1\n",
       "estadocivilid                              328669  25.0\n",
       "operationtype                              211794  16.1\n",
       "lastrechargedate                           121093   9.2\n",
       "lastrechargevalue                          121093   9.2\n",
       "vehicletype                                101003   7.7\n",
       "dayswithcreditavailabel                     69001   5.3\n",
       "avaragerecharge                             40450   3.1\n",
       "data_nascimento                             23008   1.8\n",
       "customerage                                 23008   1.8\n",
       "nomeplano                                     471   0.0\n",
       "actualbalance                                   7   0.0\n",
       "totaltransactions                               0   0.0\n",
       "totaltransactions_highway                       0   0.0\n",
       "totatransactions_parkinglot                     0   0.0\n",
       "totaltransactions_membershipsubscription        0   0.0\n",
       "avaragebalance                                  0   0.0\n",
       "clienteid                                       0   0.0\n",
       "estado                                          0   0.0\n",
       "doesstillhasdebit                               0   0.0\n",
       "transacaoid                                     0   0.0\n",
       "methodofpayment                                 0   0.0\n",
       "tipooperacaoid                                  0   0.0\n",
       "balancebeforelasttransaction                    0   0.0\n",
       "hadcreditavailabel                              0   0.0\n",
       "lasttransactionvalue                            0   0.0\n",
       "adesaoid                                        0   0.0\n",
       "lasttransactiondate                             0   0.0\n",
       "daysowningloan                                  0   0.0"
      ]
     },
     "execution_count": 11,
     "metadata": {},
     "output_type": "execute_result"
    }
   ],
   "source": [
    "(pd.concat([\n",
    "    df_last_transaction.isna().sum().sort_values(ascending = False), \n",
    "    df_last_transaction.isna().mean().sort_values(ascending = False).round(3).mul(100)], \n",
    "    axis = 1)\n",
    " .rename(columns={0:'num_obs', 1: 'pct'}))"
   ]
  },
  {
   "cell_type": "markdown",
   "metadata": {},
   "source": [
    "Lets summarise how many rows our dataset has:"
   ]
  },
  {
   "cell_type": "code",
   "execution_count": 8,
   "metadata": {},
   "outputs": [
    {
     "name": "stdout",
     "output_type": "stream",
     "text": [
      "Num of rows: 1256657\n",
      "Num of cols: 23\n"
     ]
    }
   ],
   "source": [
    "df_shape = df_last_transaction.shape\n",
    "print(f\"Num of rows: {df_shape[0]}\") # 1317717 (November 26th)\n",
    "print(f\"Num of cols: {df_shape[1]}\") # 18"
   ]
  },
  {
   "cell_type": "markdown",
   "metadata": {},
   "source": [
    "### Null values"
   ]
  },
  {
   "cell_type": "markdown",
   "metadata": {},
   "source": [
    "Are there any null values that can be easily spotted?\n",
    "\n",
    "* eixos\n",
    "* salidoid\n",
    "* estadocivilid\n",
    "* age\n",
    "* classificacao\n",
    "* pessoa_fisica\n",
    "* estado\n",
    "* dayswithcreditavailabel\n",
    "* valord\n",
    "\n",
    "\n"
   ]
  },
  {
   "cell_type": "markdown",
   "metadata": {},
   "source": [
    "### Do we have unique customers?\n",
    "\n",
    "* We have unique customers."
   ]
  },
  {
   "cell_type": "code",
   "execution_count": 13,
   "metadata": {},
   "outputs": [
    {
     "data": {
      "text/plain": [
       "1"
      ]
     },
     "execution_count": 13,
     "metadata": {},
     "output_type": "execute_result"
    }
   ],
   "source": [
    "df_last_transaction.groupby(['clienteid']).size().max()"
   ]
  },
  {
   "cell_type": "markdown",
   "metadata": {},
   "source": [
    "## Last transaction"
   ]
  },
  {
   "cell_type": "markdown",
   "metadata": {},
   "source": [
    "### clienteid"
   ]
  },
  {
   "cell_type": "markdown",
   "metadata": {},
   "source": [
    "* Unique clients."
   ]
  },
  {
   "cell_type": "code",
   "execution_count": 14,
   "metadata": {},
   "outputs": [
    {
     "data": {
      "text/plain": [
       "1314068"
      ]
     },
     "execution_count": 14,
     "metadata": {},
     "output_type": "execute_result"
    }
   ],
   "source": [
    "# Total clients in rows\n",
    "df_last_transaction.clienteid.count()"
   ]
  },
  {
   "cell_type": "code",
   "execution_count": 15,
   "metadata": {},
   "outputs": [
    {
     "data": {
      "text/plain": [
       "1314068"
      ]
     },
     "execution_count": 15,
     "metadata": {},
     "output_type": "execute_result"
    }
   ],
   "source": [
    "# Total unique clients\n",
    "len(df_last_transaction.clienteid.unique())"
   ]
  },
  {
   "cell_type": "markdown",
   "metadata": {},
   "source": [
    "### transacaoid"
   ]
  },
  {
   "cell_type": "code",
   "execution_count": 16,
   "metadata": {},
   "outputs": [
    {
     "data": {
      "text/plain": [
       "1314068"
      ]
     },
     "execution_count": 16,
     "metadata": {},
     "output_type": "execute_result"
    }
   ],
   "source": [
    "# Total transactions in rows\n",
    "df_last_transaction.transacaoid.count()"
   ]
  },
  {
   "cell_type": "code",
   "execution_count": 17,
   "metadata": {},
   "outputs": [
    {
     "data": {
      "text/plain": [
       "1314068"
      ]
     },
     "execution_count": 17,
     "metadata": {},
     "output_type": "execute_result"
    }
   ],
   "source": [
    "# Total unique transactions\n",
    "len(df_last_transaction.transacaoid.unique())"
   ]
  },
  {
   "cell_type": "markdown",
   "metadata": {},
   "source": [
    "### lasttransactiondate"
   ]
  },
  {
   "cell_type": "code",
   "execution_count": 18,
   "metadata": {},
   "outputs": [
    {
     "name": "stdout",
     "output_type": "stream",
     "text": [
      "Minimum last transaction from a customer: 2013-01-12\n",
      "Maximum last transaction from a customer: 2021-12-02\n"
     ]
    }
   ],
   "source": [
    "print(f\"Minimum last transaction from a customer: {df_last_transaction.lasttransactiondate.dt.date.min()}\")\n",
    "print(f\"Maximum last transaction from a customer: {df_last_transaction.lasttransactiondate.dt.date.max()}\")"
   ]
  },
  {
   "cell_type": "markdown",
   "metadata": {},
   "source": [
    "### lasttransactionvalue"
   ]
  },
  {
   "cell_type": "markdown",
   "metadata": {},
   "source": [
    "* Quantiles of last transaction value in BRZ."
   ]
  },
  {
   "cell_type": "code",
   "execution_count": 19,
   "metadata": {},
   "outputs": [
    {
     "data": {
      "text/html": [
       "<div>\n",
       "<style scoped>\n",
       "    .dataframe tbody tr th:only-of-type {\n",
       "        vertical-align: middle;\n",
       "    }\n",
       "\n",
       "    .dataframe tbody tr th {\n",
       "        vertical-align: top;\n",
       "    }\n",
       "\n",
       "    .dataframe thead th {\n",
       "        text-align: right;\n",
       "    }\n",
       "</style>\n",
       "<table border=\"1\" class=\"dataframe\">\n",
       "  <thead>\n",
       "    <tr style=\"text-align: right;\">\n",
       "      <th></th>\n",
       "      <th>count</th>\n",
       "      <th>mean</th>\n",
       "      <th>std</th>\n",
       "      <th>min</th>\n",
       "      <th>1%</th>\n",
       "      <th>25%</th>\n",
       "      <th>50%</th>\n",
       "      <th>75%</th>\n",
       "      <th>99%</th>\n",
       "      <th>max</th>\n",
       "    </tr>\n",
       "  </thead>\n",
       "  <tbody>\n",
       "    <tr>\n",
       "      <th>lasttransactionvalue</th>\n",
       "      <td>1314068.0</td>\n",
       "      <td>7.94</td>\n",
       "      <td>10.6</td>\n",
       "      <td>0.0</td>\n",
       "      <td>0.0</td>\n",
       "      <td>3.0</td>\n",
       "      <td>5.57</td>\n",
       "      <td>10.8</td>\n",
       "      <td>30.2</td>\n",
       "      <td>5044.7</td>\n",
       "    </tr>\n",
       "  </tbody>\n",
       "</table>\n",
       "</div>"
      ],
      "text/plain": [
       "                          count  mean   std  min   1%  25%   50%   75%   99%  \\\n",
       "lasttransactionvalue  1314068.0  7.94  10.6  0.0  0.0  3.0  5.57  10.8  30.2   \n",
       "\n",
       "                         max  \n",
       "lasttransactionvalue  5044.7  "
      ]
     },
     "execution_count": 19,
     "metadata": {},
     "output_type": "execute_result"
    }
   ],
   "source": [
    "df_last_transaction[['lasttransactionvalue']].describe([0.01,0.25, 0.75, .99]).T.round(2)"
   ]
  },
  {
   "cell_type": "markdown",
   "metadata": {},
   "source": [
    "* Last 1% transaction values come from Trucks. \n",
    "    - Pay additional cost for wieght and axes.\n",
    "    - Trucks normally have a higher price.\n",
    "    \n",
    "* Parking lots can have very expensive last transactions because they are charged by time."
   ]
  },
  {
   "cell_type": "markdown",
   "metadata": {},
   "source": [
    "* 1 BRZ = 0.18 USD"
   ]
  },
  {
   "cell_type": "code",
   "execution_count": 20,
   "metadata": {},
   "outputs": [
    {
     "data": {
      "text/html": [
       "<div>\n",
       "<style scoped>\n",
       "    .dataframe tbody tr th:only-of-type {\n",
       "        vertical-align: middle;\n",
       "    }\n",
       "\n",
       "    .dataframe tbody tr th {\n",
       "        vertical-align: top;\n",
       "    }\n",
       "\n",
       "    .dataframe thead th {\n",
       "        text-align: right;\n",
       "    }\n",
       "</style>\n",
       "<table border=\"1\" class=\"dataframe\">\n",
       "  <thead>\n",
       "    <tr style=\"text-align: right;\">\n",
       "      <th></th>\n",
       "      <th>count</th>\n",
       "      <th>mean</th>\n",
       "      <th>std</th>\n",
       "      <th>min</th>\n",
       "      <th>1%</th>\n",
       "      <th>25%</th>\n",
       "      <th>50%</th>\n",
       "      <th>75%</th>\n",
       "      <th>99%</th>\n",
       "      <th>max</th>\n",
       "    </tr>\n",
       "  </thead>\n",
       "  <tbody>\n",
       "    <tr>\n",
       "      <th>lasttransactionvalue</th>\n",
       "      <td>233615.01</td>\n",
       "      <td>1.41</td>\n",
       "      <td>1.88</td>\n",
       "      <td>0.0</td>\n",
       "      <td>0.0</td>\n",
       "      <td>0.53</td>\n",
       "      <td>0.99</td>\n",
       "      <td>1.92</td>\n",
       "      <td>5.37</td>\n",
       "      <td>896.85</td>\n",
       "    </tr>\n",
       "  </tbody>\n",
       "</table>\n",
       "</div>"
      ],
      "text/plain": [
       "                          count  mean   std  min   1%   25%   50%   75%   99%  \\\n",
       "lasttransactionvalue  233615.01  1.41  1.88  0.0  0.0  0.53  0.99  1.92  5.37   \n",
       "\n",
       "                         max  \n",
       "lasttransactionvalue  896.85  "
      ]
     },
     "execution_count": 20,
     "metadata": {},
     "output_type": "execute_result"
    }
   ],
   "source": [
    "df_last_transaction[['lasttransactionvalue']].describe([0.01,0.25, 0.75, .99]).T.mul(0.17778).round(2)"
   ]
  },
  {
   "cell_type": "markdown",
   "metadata": {},
   "source": [
    "* No NAs or NULLs"
   ]
  },
  {
   "cell_type": "code",
   "execution_count": 21,
   "metadata": {},
   "outputs": [
    {
     "data": {
      "text/plain": [
       "lasttransactionvalue    0\n",
       "dtype: int64"
      ]
     },
     "execution_count": 21,
     "metadata": {},
     "output_type": "execute_result"
    }
   ],
   "source": [
    "df_last_transaction[['lasttransactionvalue']].isna().sum()"
   ]
  },
  {
   "cell_type": "markdown",
   "metadata": {},
   "source": [
    "* Right skewed distribution.\n",
    "* Possible outliers."
   ]
  },
  {
   "cell_type": "code",
   "execution_count": 24,
   "metadata": {},
   "outputs": [
    {
     "data": {
      "image/png": "[encoded data removed]",
      "text/plain": [
       "<Figure size 720x432 with 1 Axes>"
      ]
     },
     "metadata": {
      "needs_background": "light"
     },
     "output_type": "display_data"
    }
   ],
   "source": [
    "# Filtering first 99%\n",
    "df_last_transaction_filtered = (\n",
    "    df_last_transaction[['lasttransactionvalue']]\n",
    "    .query('lasttransactionvalue <= 31')\n",
    ")\n",
    "\n",
    "bin_width = 1\n",
    "\n",
    "fig, ax = plt.subplots(figsize = (10,6))\n",
    "(\n",
    "    df_last_transaction_filtered[['lasttransactionvalue']]\n",
    "        .hist(bins = np.arange(\n",
    "                min(df_last_transaction_filtered.lasttransactionvalue), \n",
    "                max(df_last_transaction_filtered.lasttransactionvalue) + bin_width, \n",
    "                bin_width),\n",
    "              ax = ax\n",
    "        ) \n",
    ")\n",
    "plt.title(\"Histogram of lasttransactionvalue for the first 99% of the observations.\")\n",
    "plt.show()"
   ]
  },
  {
   "cell_type": "markdown",
   "metadata": {},
   "source": [
    "### adesaoid"
   ]
  },
  {
   "cell_type": "markdown",
   "metadata": {},
   "source": [
    "* Unique tags"
   ]
  },
  {
   "cell_type": "code",
   "execution_count": 25,
   "metadata": {},
   "outputs": [
    {
     "data": {
      "text/plain": [
       "adesaoid    1314068\n",
       "dtype: int64"
      ]
     },
     "execution_count": 25,
     "metadata": {},
     "output_type": "execute_result"
    }
   ],
   "source": [
    "df_last_transaction[['adesaoid']].count()"
   ]
  },
  {
   "cell_type": "code",
   "execution_count": 26,
   "metadata": {},
   "outputs": [
    {
     "data": {
      "text/plain": [
       "1314068"
      ]
     },
     "execution_count": 26,
     "metadata": {},
     "output_type": "execute_result"
    }
   ],
   "source": [
    "len(df_last_transaction['adesaoid'].unique())"
   ]
  },
  {
   "cell_type": "code",
   "execution_count": 27,
   "metadata": {},
   "outputs": [
    {
     "data": {
      "text/plain": [
       "1"
      ]
     },
     "execution_count": 27,
     "metadata": {},
     "output_type": "execute_result"
    }
   ],
   "source": [
    "df_last_transaction['adesaoid'].value_counts().sort_values(ascending = False).max()"
   ]
  },
  {
   "cell_type": "markdown",
   "metadata": {},
   "source": [
    "### saldoid"
   ]
  },
  {
   "cell_type": "markdown",
   "metadata": {},
   "source": [
    "* Unique tags"
   ]
  },
  {
   "cell_type": "code",
   "execution_count": 28,
   "metadata": {},
   "outputs": [
    {
     "data": {
      "text/plain": [
       "944248"
      ]
     },
     "execution_count": 28,
     "metadata": {},
     "output_type": "execute_result"
    }
   ],
   "source": [
    "df_last_transaction['saldoid'].count()"
   ]
  },
  {
   "cell_type": "code",
   "execution_count": 29,
   "metadata": {},
   "outputs": [
    {
     "data": {
      "text/plain": [
       "944248"
      ]
     },
     "execution_count": 29,
     "metadata": {},
     "output_type": "execute_result"
    }
   ],
   "source": [
    "len(df_last_transaction['saldoid'].unique())"
   ]
  },
  {
   "cell_type": "markdown",
   "metadata": {},
   "source": [
    "* There is a repeated saldoid."
   ]
  },
  {
   "cell_type": "code",
   "execution_count": 11,
   "metadata": {},
   "outputs": [
    {
     "data": {
      "text/plain": [
       "23654883.0    2\n",
       "17332196.0    1\n",
       "23145381.0    1\n",
       "23087760.0    1\n",
       "23648872.0    1\n",
       "             ..\n",
       "23478406.0    1\n",
       "23556188.0    1\n",
       "23796442.0    1\n",
       "23667165.0    1\n",
       "23172158.0    1\n",
       "Name: saldoid, Length: 944247, dtype: int64"
      ]
     },
     "execution_count": 11,
     "metadata": {},
     "output_type": "execute_result"
    }
   ],
   "source": [
    "df_last_transaction['saldoid'].value_counts().sort_values(ascending = False)"
   ]
  },
  {
   "cell_type": "code",
   "execution_count": 12,
   "metadata": {},
   "outputs": [
    {
     "data": {
      "text/html": [
       "<div>\n",
       "<style scoped>\n",
       "    .dataframe tbody tr th:only-of-type {\n",
       "        vertical-align: middle;\n",
       "    }\n",
       "\n",
       "    .dataframe tbody tr th {\n",
       "        vertical-align: top;\n",
       "    }\n",
       "\n",
       "    .dataframe thead th {\n",
       "        text-align: right;\n",
       "    }\n",
       "</style>\n",
       "<table border=\"1\" class=\"dataframe\">\n",
       "  <thead>\n",
       "    <tr style=\"text-align: right;\">\n",
       "      <th></th>\n",
       "      <th>clienteid</th>\n",
       "      <th>transacaoid</th>\n",
       "      <th>lasttransactiondate</th>\n",
       "      <th>adesaoid</th>\n",
       "      <th>lasttransactionvalue</th>\n",
       "      <th>saldoid</th>\n",
       "      <th>hadcreditavailabel</th>\n",
       "      <th>dayswithcreditavailabel</th>\n",
       "      <th>balancebeforelasttransaction</th>\n",
       "      <th>tipooperacaoid</th>\n",
       "      <th>operationtype</th>\n",
       "      <th>vehicletype</th>\n",
       "      <th>axes</th>\n",
       "      <th>actualbalance</th>\n",
       "      <th>lastrechargevalue</th>\n",
       "      <th>lastrechargedate</th>\n",
       "      <th>methodofpayment</th>\n",
       "      <th>daysowningloan</th>\n",
       "      <th>doesstillhasdebit</th>\n",
       "      <th>data_nascimento</th>\n",
       "      <th>customerage</th>\n",
       "      <th>estadocivilid</th>\n",
       "      <th>estado</th>\n",
       "      <th>nomeplano</th>\n",
       "      <th>totalloans</th>\n",
       "      <th>avgdayspayback</th>\n",
       "      <th>totalloans_highway</th>\n",
       "      <th>totaloans_parkinglot</th>\n",
       "      <th>totalloans_membershipsubscription</th>\n",
       "      <th>totaltransactions</th>\n",
       "      <th>totaltransactions_highway</th>\n",
       "      <th>totatransactions_parkinglot</th>\n",
       "      <th>totaltransactions_membershipsubscription</th>\n",
       "      <th>avaragebalance</th>\n",
       "      <th>avaragerecharge</th>\n",
       "    </tr>\n",
       "  </thead>\n",
       "  <tbody>\n",
       "    <tr>\n",
       "      <th>242486</th>\n",
       "      <td>1568513</td>\n",
       "      <td>519426270</td>\n",
       "      <td>2021-12-02 23:59:08.300</td>\n",
       "      <td>4329229</td>\n",
       "      <td>3.4</td>\n",
       "      <td>23654883.0</td>\n",
       "      <td>NO</td>\n",
       "      <td>0.0</td>\n",
       "      <td>-2634472.63</td>\n",
       "      <td>7</td>\n",
       "      <td>HIGHWAY</td>\n",
       "      <td>Leve</td>\n",
       "      <td>NaN</td>\n",
       "      <td>-2214307.54</td>\n",
       "      <td>NaN</td>\n",
       "      <td>NaT</td>\n",
       "      <td>OTHERS</td>\n",
       "      <td>1</td>\n",
       "      <td>NO</td>\n",
       "      <td>NaT</td>\n",
       "      <td>NaN</td>\n",
       "      <td>NaN</td>\n",
       "      <td>São Paulo</td>\n",
       "      <td>Pós-Pago Empresarial</td>\n",
       "      <td>321607.0</td>\n",
       "      <td>NaN</td>\n",
       "      <td>263346.0</td>\n",
       "      <td>254.0</td>\n",
       "      <td>0.0</td>\n",
       "      <td>321607</td>\n",
       "      <td>263346</td>\n",
       "      <td>254</td>\n",
       "      <td>0</td>\n",
       "      <td>-1286614.28</td>\n",
       "      <td>NaN</td>\n",
       "    </tr>\n",
       "    <tr>\n",
       "      <th>1252643</th>\n",
       "      <td>1655403</td>\n",
       "      <td>511529862</td>\n",
       "      <td>2021-11-12 16:38:39.930</td>\n",
       "      <td>4874605</td>\n",
       "      <td>0.0</td>\n",
       "      <td>23654883.0</td>\n",
       "      <td>NO</td>\n",
       "      <td>0.0</td>\n",
       "      <td>-2312943.87</td>\n",
       "      <td>22</td>\n",
       "      <td>HIGHWAY</td>\n",
       "      <td>Leve</td>\n",
       "      <td>2.0</td>\n",
       "      <td>2.50</td>\n",
       "      <td>NaN</td>\n",
       "      <td>NaT</td>\n",
       "      <td>OTHERS</td>\n",
       "      <td>0</td>\n",
       "      <td>YES</td>\n",
       "      <td>1978-04-29</td>\n",
       "      <td>43.0</td>\n",
       "      <td>NaN</td>\n",
       "      <td>São Paulo</td>\n",
       "      <td>Completo</td>\n",
       "      <td>2.0</td>\n",
       "      <td>NaN</td>\n",
       "      <td>2.0</td>\n",
       "      <td>2.0</td>\n",
       "      <td>0.0</td>\n",
       "      <td>8</td>\n",
       "      <td>5</td>\n",
       "      <td>2</td>\n",
       "      <td>1</td>\n",
       "      <td>-513977.44</td>\n",
       "      <td>NaN</td>\n",
       "    </tr>\n",
       "  </tbody>\n",
       "</table>\n",
       "</div>"
      ],
      "text/plain": [
       "         clienteid  transacaoid     lasttransactiondate  adesaoid  \\\n",
       "242486     1568513    519426270 2021-12-02 23:59:08.300   4329229   \n",
       "1252643    1655403    511529862 2021-11-12 16:38:39.930   4874605   \n",
       "\n",
       "         lasttransactionvalue     saldoid hadcreditavailabel  \\\n",
       "242486                    3.4  23654883.0                 NO   \n",
       "1252643                   0.0  23654883.0                 NO   \n",
       "\n",
       "         dayswithcreditavailabel  balancebeforelasttransaction  \\\n",
       "242486                       0.0                   -2634472.63   \n",
       "1252643                      0.0                   -2312943.87   \n",
       "\n",
       "         tipooperacaoid operationtype vehicletype  axes  actualbalance  \\\n",
       "242486                7       HIGHWAY        Leve   NaN    -2214307.54   \n",
       "1252643              22       HIGHWAY        Leve   2.0           2.50   \n",
       "\n",
       "         lastrechargevalue lastrechargedate methodofpayment  daysowningloan  \\\n",
       "242486                 NaN              NaT          OTHERS               1   \n",
       "1252643                NaN              NaT          OTHERS               0   \n",
       "\n",
       "        doesstillhasdebit data_nascimento  customerage  estadocivilid  \\\n",
       "242486                 NO             NaT          NaN            NaN   \n",
       "1252643               YES      1978-04-29         43.0            NaN   \n",
       "\n",
       "            estado             nomeplano  totalloans  avgdayspayback  \\\n",
       "242486   São Paulo  Pós-Pago Empresarial    321607.0             NaN   \n",
       "1252643  São Paulo              Completo         2.0             NaN   \n",
       "\n",
       "         totalloans_highway  totaloans_parkinglot  \\\n",
       "242486             263346.0                 254.0   \n",
       "1252643                 2.0                   2.0   \n",
       "\n",
       "         totalloans_membershipsubscription  totaltransactions  \\\n",
       "242486                                 0.0             321607   \n",
       "1252643                                0.0                  8   \n",
       "\n",
       "         totaltransactions_highway  totatransactions_parkinglot  \\\n",
       "242486                      263346                          254   \n",
       "1252643                          5                            2   \n",
       "\n",
       "         totaltransactions_membershipsubscription  avaragebalance  \\\n",
       "242486                                          0     -1286614.28   \n",
       "1252643                                         1      -513977.44   \n",
       "\n",
       "         avaragerecharge  \n",
       "242486               NaN  \n",
       "1252643              NaN  "
      ]
     },
     "execution_count": 12,
     "metadata": {},
     "output_type": "execute_result"
    }
   ],
   "source": [
    "df_last_transaction.query('saldoid == 23654883.0')"
   ]
  },
  {
   "cell_type": "markdown",
   "metadata": {},
   "source": [
    "### hadcreditavailabel"
   ]
  },
  {
   "cell_type": "markdown",
   "metadata": {},
   "source": [
    "* `NO` means they generated a loan in their last transaction to complete it.\n",
    "* `YES` means they did not generated a loan in their last transaction and that they do not have a loan with ConectCar, at the moment."
   ]
  },
  {
   "cell_type": "code",
   "execution_count": 32,
   "metadata": {},
   "outputs": [
    {
     "data": {
      "text/plain": [
       "YES    1033317\n",
       "NO      280751\n",
       "Name: hadcreditavailabel, dtype: int64"
      ]
     },
     "execution_count": 32,
     "metadata": {},
     "output_type": "execute_result"
    }
   ],
   "source": [
    "df_last_transaction['hadcreditavailabel'].value_counts()"
   ]
  },
  {
   "cell_type": "code",
   "execution_count": 33,
   "metadata": {},
   "outputs": [
    {
     "data": {
      "text/plain": [
       "YES    0.78635\n",
       "NO     0.21365\n",
       "Name: hadcreditavailabel, dtype: float64"
      ]
     },
     "execution_count": 33,
     "metadata": {},
     "output_type": "execute_result"
    }
   ],
   "source": [
    "df_last_transaction['hadcreditavailabel'].value_counts(normalize = True)"
   ]
  },
  {
   "cell_type": "markdown",
   "metadata": {},
   "source": [
    "* No NAs."
   ]
  },
  {
   "cell_type": "code",
   "execution_count": 34,
   "metadata": {},
   "outputs": [
    {
     "data": {
      "text/plain": [
       "0"
      ]
     },
     "execution_count": 34,
     "metadata": {},
     "output_type": "execute_result"
    }
   ],
   "source": [
    "df_last_transaction['hadcreditavailabel'].isna().sum()"
   ]
  },
  {
   "cell_type": "markdown",
   "metadata": {},
   "source": [
    "### dayswithcreditavailabel"
   ]
  },
  {
   "cell_type": "markdown",
   "metadata": {},
   "source": [
    "* Days with credit available."
   ]
  },
  {
   "cell_type": "code",
   "execution_count": 35,
   "metadata": {},
   "outputs": [
    {
     "data": {
      "text/html": [
       "<div>\n",
       "<style scoped>\n",
       "    .dataframe tbody tr th:only-of-type {\n",
       "        vertical-align: middle;\n",
       "    }\n",
       "\n",
       "    .dataframe tbody tr th {\n",
       "        vertical-align: top;\n",
       "    }\n",
       "\n",
       "    .dataframe thead th {\n",
       "        text-align: right;\n",
       "    }\n",
       "</style>\n",
       "<table border=\"1\" class=\"dataframe\">\n",
       "  <thead>\n",
       "    <tr style=\"text-align: right;\">\n",
       "      <th></th>\n",
       "      <th>count</th>\n",
       "      <th>mean</th>\n",
       "      <th>std</th>\n",
       "      <th>min</th>\n",
       "      <th>1%</th>\n",
       "      <th>25%</th>\n",
       "      <th>50%</th>\n",
       "      <th>75%</th>\n",
       "      <th>99%</th>\n",
       "      <th>max</th>\n",
       "    </tr>\n",
       "  </thead>\n",
       "  <tbody>\n",
       "    <tr>\n",
       "      <th>dayswithcreditavailabel</th>\n",
       "      <td>1245067.0</td>\n",
       "      <td>238.44</td>\n",
       "      <td>343.45</td>\n",
       "      <td>0.0</td>\n",
       "      <td>0.0</td>\n",
       "      <td>4.0</td>\n",
       "      <td>79.0</td>\n",
       "      <td>341.0</td>\n",
       "      <td>1496.0</td>\n",
       "      <td>3041.0</td>\n",
       "    </tr>\n",
       "  </tbody>\n",
       "</table>\n",
       "</div>"
      ],
      "text/plain": [
       "                             count    mean     std  min   1%  25%   50%  \\\n",
       "dayswithcreditavailabel  1245067.0  238.44  343.45  0.0  0.0  4.0  79.0   \n",
       "\n",
       "                           75%     99%     max  \n",
       "dayswithcreditavailabel  341.0  1496.0  3041.0  "
      ]
     },
     "execution_count": 35,
     "metadata": {},
     "output_type": "execute_result"
    }
   ],
   "source": [
    "df_last_transaction[['dayswithcreditavailabel']].describe([0.01,0.25, 0.75, .99]).T.round(2)"
   ]
  },
  {
   "cell_type": "markdown",
   "metadata": {},
   "source": [
    "* TODO: Investigate if this is for the customers that no longer use the tag."
   ]
  },
  {
   "cell_type": "markdown",
   "metadata": {},
   "source": [
    "* There are around 5% of the observations with NA values for this variable.\n",
    "* They can be imputed."
   ]
  },
  {
   "cell_type": "code",
   "execution_count": 36,
   "metadata": {},
   "outputs": [
    {
     "data": {
      "text/plain": [
       "69001"
      ]
     },
     "execution_count": 36,
     "metadata": {},
     "output_type": "execute_result"
    }
   ],
   "source": [
    "df_last_transaction['dayswithcreditavailabel'].isna().sum()"
   ]
  },
  {
   "cell_type": "markdown",
   "metadata": {},
   "source": [
    "* Right skewed distribution.\n",
    "* Possible outliers, because they have more than one account."
   ]
  },
  {
   "cell_type": "code",
   "execution_count": 38,
   "metadata": {},
   "outputs": [
    {
     "data": {
      "image/png": "[encoded data removed]",
      "text/plain": [
       "<Figure size 720x432 with 1 Axes>"
      ]
     },
     "metadata": {
      "needs_background": "light"
     },
     "output_type": "display_data"
    }
   ],
   "source": [
    "# Filtering first 75%\n",
    "df_last_transaction_filtered = (\n",
    "    df_last_transaction[['dayswithcreditavailabel']]\n",
    "    .query('dayswithcreditavailabel <= 365')\n",
    ")\n",
    "\n",
    "bin_width = 10\n",
    "\n",
    "fig, ax = plt.subplots(figsize = (10,6))\n",
    "(\n",
    "    df_last_transaction_filtered[['dayswithcreditavailabel']]\n",
    "        .hist(bins = np.arange(\n",
    "                min(df_last_transaction_filtered.dayswithcreditavailabel), \n",
    "                max(df_last_transaction_filtered.dayswithcreditavailabel) + bin_width, \n",
    "                bin_width),\n",
    "              ax = ax\n",
    "        ) \n",
    ")\n",
    "plt.title(\"Histogram of dayswithcreditavailabel for the first 75% of the observations.\")\n",
    "plt.show()"
   ]
  },
  {
   "cell_type": "markdown",
   "metadata": {},
   "source": [
    "### balancebeforelasttransaction"
   ]
  },
  {
   "cell_type": "markdown",
   "metadata": {},
   "source": [
    "* Quantiles of last transaction value in BRZ."
   ]
  },
  {
   "cell_type": "code",
   "execution_count": 39,
   "metadata": {},
   "outputs": [
    {
     "data": {
      "text/html": [
       "<div>\n",
       "<style scoped>\n",
       "    .dataframe tbody tr th:only-of-type {\n",
       "        vertical-align: middle;\n",
       "    }\n",
       "\n",
       "    .dataframe tbody tr th {\n",
       "        vertical-align: top;\n",
       "    }\n",
       "\n",
       "    .dataframe thead th {\n",
       "        text-align: right;\n",
       "    }\n",
       "</style>\n",
       "<table border=\"1\" class=\"dataframe\">\n",
       "  <thead>\n",
       "    <tr style=\"text-align: right;\">\n",
       "      <th></th>\n",
       "      <th>count</th>\n",
       "      <th>mean</th>\n",
       "      <th>std</th>\n",
       "      <th>min</th>\n",
       "      <th>1%</th>\n",
       "      <th>25%</th>\n",
       "      <th>50%</th>\n",
       "      <th>75%</th>\n",
       "      <th>99%</th>\n",
       "      <th>max</th>\n",
       "    </tr>\n",
       "  </thead>\n",
       "  <tbody>\n",
       "    <tr>\n",
       "      <th>balancebeforelasttransaction</th>\n",
       "      <td>1314068.0</td>\n",
       "      <td>-5.6</td>\n",
       "      <td>30495.76</td>\n",
       "      <td>-25523012.53</td>\n",
       "      <td>-99.5</td>\n",
       "      <td>7.38</td>\n",
       "      <td>34.1</td>\n",
       "      <td>63.4</td>\n",
       "      <td>246.15</td>\n",
       "      <td>141277.13</td>\n",
       "    </tr>\n",
       "  </tbody>\n",
       "</table>\n",
       "</div>"
      ],
      "text/plain": [
       "                                  count  mean       std          min    1%  \\\n",
       "balancebeforelasttransaction  1314068.0  -5.6  30495.76 -25523012.53 -99.5   \n",
       "\n",
       "                               25%   50%   75%     99%        max  \n",
       "balancebeforelasttransaction  7.38  34.1  63.4  246.15  141277.13  "
      ]
     },
     "execution_count": 39,
     "metadata": {},
     "output_type": "execute_result"
    }
   ],
   "source": [
    "df_last_transaction[['balancebeforelasttransaction']].describe([0.01,0.25, 0.75, .99]).T.round(2)"
   ]
  },
  {
   "cell_type": "markdown",
   "metadata": {},
   "source": [
    "TODO:\n",
    "* Companies with lots of tags. They make many recharges for the entire year.\n",
    "* The minimum is strange. Maybe impute it."
   ]
  },
  {
   "cell_type": "markdown",
   "metadata": {},
   "source": [
    "* 1 BRZ = 0.18 USD"
   ]
  },
  {
   "cell_type": "code",
   "execution_count": 40,
   "metadata": {},
   "outputs": [
    {
     "data": {
      "text/html": [
       "<div>\n",
       "<style scoped>\n",
       "    .dataframe tbody tr th:only-of-type {\n",
       "        vertical-align: middle;\n",
       "    }\n",
       "\n",
       "    .dataframe tbody tr th {\n",
       "        vertical-align: top;\n",
       "    }\n",
       "\n",
       "    .dataframe thead th {\n",
       "        text-align: right;\n",
       "    }\n",
       "</style>\n",
       "<table border=\"1\" class=\"dataframe\">\n",
       "  <thead>\n",
       "    <tr style=\"text-align: right;\">\n",
       "      <th></th>\n",
       "      <th>count</th>\n",
       "      <th>mean</th>\n",
       "      <th>std</th>\n",
       "      <th>min</th>\n",
       "      <th>1%</th>\n",
       "      <th>25%</th>\n",
       "      <th>50%</th>\n",
       "      <th>75%</th>\n",
       "      <th>99%</th>\n",
       "      <th>max</th>\n",
       "    </tr>\n",
       "  </thead>\n",
       "  <tbody>\n",
       "    <tr>\n",
       "      <th>balancebeforelasttransaction</th>\n",
       "      <td>233615.01</td>\n",
       "      <td>-1.0</td>\n",
       "      <td>5421.54</td>\n",
       "      <td>-4537481.17</td>\n",
       "      <td>-17.69</td>\n",
       "      <td>1.31</td>\n",
       "      <td>6.06</td>\n",
       "      <td>11.27</td>\n",
       "      <td>43.76</td>\n",
       "      <td>25116.25</td>\n",
       "    </tr>\n",
       "  </tbody>\n",
       "</table>\n",
       "</div>"
      ],
      "text/plain": [
       "                                  count  mean      std         min     1%  \\\n",
       "balancebeforelasttransaction  233615.01  -1.0  5421.54 -4537481.17 -17.69   \n",
       "\n",
       "                               25%   50%    75%    99%       max  \n",
       "balancebeforelasttransaction  1.31  6.06  11.27  43.76  25116.25  "
      ]
     },
     "execution_count": 40,
     "metadata": {},
     "output_type": "execute_result"
    }
   ],
   "source": [
    "df_last_transaction[['balancebeforelasttransaction']].describe([0.01,0.25, 0.75, .99]).T.mul(0.17778).round(2)"
   ]
  },
  {
   "cell_type": "markdown",
   "metadata": {},
   "source": [
    "* No NAs or NULLs"
   ]
  },
  {
   "cell_type": "code",
   "execution_count": 41,
   "metadata": {},
   "outputs": [
    {
     "data": {
      "text/plain": [
       "balancebeforelasttransaction    0\n",
       "dtype: int64"
      ]
     },
     "execution_count": 41,
     "metadata": {},
     "output_type": "execute_result"
    }
   ],
   "source": [
    "df_last_transaction[['balancebeforelasttransaction']].isna().sum()"
   ]
  },
  {
   "cell_type": "markdown",
   "metadata": {},
   "source": [
    "* Left and Right skewed distribution.\n",
    "* Possible outliers."
   ]
  },
  {
   "cell_type": "code",
   "execution_count": 42,
   "metadata": {},
   "outputs": [
    {
     "data": {
      "image/png": "[encoded data removed]",
      "text/plain": [
       "<Figure size 720x432 with 1 Axes>"
      ]
     },
     "metadata": {
      "needs_background": "light"
     },
     "output_type": "display_data"
    }
   ],
   "source": [
    "# Filtering 98% of the data\n",
    "df_last_transaction_filtered = (\n",
    "    df_last_transaction[['balancebeforelasttransaction']]\n",
    "    .query('balancebeforelasttransaction >= -100 and balancebeforelasttransaction <= 247')\n",
    ")\n",
    "df_last_transaction_filtered\n",
    "\n",
    "bin_width = 10\n",
    "\n",
    "fig, ax = plt.subplots(figsize = (10,6))\n",
    "(\n",
    "    df_last_transaction_filtered[['balancebeforelasttransaction']]\n",
    "        .hist(bins = np.arange(\n",
    "                min(df_last_transaction_filtered.balancebeforelasttransaction), \n",
    "                max(df_last_transaction_filtered.balancebeforelasttransaction) + bin_width, \n",
    "                bin_width),\n",
    "              ax = ax\n",
    "        ) \n",
    ")\n",
    "plt.title(\"Histogram of balancebeforelasttransaction for 98% of the observations.\")\n",
    "plt.show()"
   ]
  },
  {
   "cell_type": "markdown",
   "metadata": {},
   "source": [
    "### tipooperacaoid"
   ]
  },
  {
   "cell_type": "markdown",
   "metadata": {},
   "source": [
    "* Mapping:\n",
    "    - 7: 'highway', \n",
    "    - 14: 'highway', \n",
    "    - 22: 'parking_lot'"
   ]
  },
  {
   "cell_type": "markdown",
   "metadata": {},
   "source": [
    "- Most obsesrvations are highways."
   ]
  },
  {
   "cell_type": "code",
   "execution_count": 43,
   "metadata": {},
   "outputs": [
    {
     "data": {
      "text/plain": [
       "highway        929714\n",
       "NaN            378894\n",
       "parking_lot      5460\n",
       "Name: tipooperacaoid, dtype: int64"
      ]
     },
     "execution_count": 43,
     "metadata": {},
     "output_type": "execute_result"
    }
   ],
   "source": [
    "(df_last_transaction['tipooperacaoid']\n",
    "     .map({7: 'highway', 14: 'highway', 22: 'parking_lot', np.nan: 'missing'})\n",
    "     .value_counts(dropna = False))"
   ]
  },
  {
   "cell_type": "code",
   "execution_count": 44,
   "metadata": {},
   "outputs": [
    {
     "data": {
      "image/png": "[encoded data removed]",
      "text/plain": [
       "<Figure size 432x288 with 1 Axes>"
      ]
     },
     "metadata": {
      "needs_background": "light"
     },
     "output_type": "display_data"
    }
   ],
   "source": [
    "(df_last_transaction['tipooperacaoid']\n",
    "     .map({7: 'highway', 14: 'highway', 22: 'parking_lot', np.nan: 'missing'})\n",
    "     .value_counts(dropna = False)\n",
    "     .plot(kind = 'bar', title = \"tipooperacaoid summary\"));"
   ]
  },
  {
   "cell_type": "markdown",
   "metadata": {},
   "source": [
    "* Null values"
   ]
  },
  {
   "cell_type": "code",
   "execution_count": 45,
   "metadata": {},
   "outputs": [
    {
     "data": {
      "text/plain": [
       "0"
      ]
     },
     "execution_count": 45,
     "metadata": {},
     "output_type": "execute_result"
    }
   ],
   "source": [
    "df_last_transaction['tipooperacaoid'].isna().sum()"
   ]
  },
  {
   "cell_type": "markdown",
   "metadata": {},
   "source": [
    "### vehicletype"
   ]
  },
  {
   "cell_type": "markdown",
   "metadata": {},
   "source": [
    "* Most last transactions are from Leve vehicles.\n",
    "* NaNs are much more than Pesado vehicles."
   ]
  },
  {
   "cell_type": "code",
   "execution_count": 46,
   "metadata": {},
   "outputs": [
    {
     "data": {
      "text/plain": [
       "Leve      1184858\n",
       "NaN        101003\n",
       "Pesado      28207\n",
       "Name: vehicletype, dtype: int64"
      ]
     },
     "execution_count": 46,
     "metadata": {},
     "output_type": "execute_result"
    }
   ],
   "source": [
    "(df_last_transaction['vehicletype']\n",
    "     #.map({7: 'highway', 14: 'highway', 22: 'parking_lot', np.nan: 'missing'})\n",
    "     .value_counts(dropna = False))"
   ]
  },
  {
   "cell_type": "code",
   "execution_count": 47,
   "metadata": {},
   "outputs": [
    {
     "data": {
      "image/png": "[encoded data removed]",
      "text/plain": [
       "<Figure size 432x288 with 1 Axes>"
      ]
     },
     "metadata": {
      "needs_background": "light"
     },
     "output_type": "display_data"
    }
   ],
   "source": [
    "(df_last_transaction['vehicletype']\n",
    "     .value_counts(dropna = False)\n",
    "     .plot(kind = 'bar', title = \"vehicletype summary\"));"
   ]
  },
  {
   "cell_type": "markdown",
   "metadata": {},
   "source": [
    "### axes"
   ]
  },
  {
   "cell_type": "markdown",
   "metadata": {},
   "source": [
    "* There are two major categories: missing infornation or two axes, and others.\n",
    "* Not sure if this will help us predict."
   ]
  },
  {
   "cell_type": "code",
   "execution_count": 48,
   "metadata": {},
   "outputs": [
    {
     "data": {
      "text/plain": [
       "NaN     1001712\n",
       "2.0      305109\n",
       "3.0        6772\n",
       "4.0         408\n",
       "1.0          61\n",
       "22.0          2\n",
       "32.0          1\n",
       "5.0           1\n",
       "25.0          1\n",
       "99.0          1\n",
       "Name: axes, dtype: int64"
      ]
     },
     "execution_count": 48,
     "metadata": {},
     "output_type": "execute_result"
    }
   ],
   "source": [
    "(df_last_transaction['axes']\n",
    "     #.map({7: 'highway', 14: 'highway', 22: 'parking_lot', np.nan: 'missing'})\n",
    "     .value_counts(dropna = False))"
   ]
  },
  {
   "cell_type": "code",
   "execution_count": 49,
   "metadata": {},
   "outputs": [
    {
     "data": {
      "image/png": "[encoded data removed]",
      "text/plain": [
       "<Figure size 432x288 with 1 Axes>"
      ]
     },
     "metadata": {
      "needs_background": "light"
     },
     "output_type": "display_data"
    }
   ],
   "source": [
    "(df_last_transaction['axes']\n",
    "     .value_counts(dropna = False)\n",
    "     .plot(kind = 'bar', title = \"axes summary\"));"
   ]
  },
  {
   "cell_type": "markdown",
   "metadata": {},
   "source": [
    "* Motorcycles are not the case.\n",
    "* Two axes are cars."
   ]
  },
  {
   "cell_type": "markdown",
   "metadata": {},
   "source": [
    "### actualbalance\n"
   ]
  },
  {
   "cell_type": "markdown",
   "metadata": {},
   "source": [
    "* Quantiles of last transaction value in BRZ."
   ]
  },
  {
   "cell_type": "code",
   "execution_count": 50,
   "metadata": {},
   "outputs": [
    {
     "data": {
      "text/html": [
       "<div>\n",
       "<style scoped>\n",
       "    .dataframe tbody tr th:only-of-type {\n",
       "        vertical-align: middle;\n",
       "    }\n",
       "\n",
       "    .dataframe tbody tr th {\n",
       "        vertical-align: top;\n",
       "    }\n",
       "\n",
       "    .dataframe thead th {\n",
       "        text-align: right;\n",
       "    }\n",
       "</style>\n",
       "<table border=\"1\" class=\"dataframe\">\n",
       "  <thead>\n",
       "    <tr style=\"text-align: right;\">\n",
       "      <th></th>\n",
       "      <th>count</th>\n",
       "      <th>mean</th>\n",
       "      <th>std</th>\n",
       "      <th>min</th>\n",
       "      <th>1%</th>\n",
       "      <th>25%</th>\n",
       "      <th>50%</th>\n",
       "      <th>75%</th>\n",
       "      <th>99%</th>\n",
       "      <th>max</th>\n",
       "    </tr>\n",
       "  </thead>\n",
       "  <tbody>\n",
       "    <tr>\n",
       "      <th>actualbalance</th>\n",
       "      <td>1314061.0</td>\n",
       "      <td>-5.23</td>\n",
       "      <td>27505.61</td>\n",
       "      <td>-25000145.42</td>\n",
       "      <td>-46.6</td>\n",
       "      <td>0.0</td>\n",
       "      <td>18.0</td>\n",
       "      <td>55.5</td>\n",
       "      <td>228.0</td>\n",
       "      <td>155020.37</td>\n",
       "    </tr>\n",
       "  </tbody>\n",
       "</table>\n",
       "</div>"
      ],
      "text/plain": [
       "                   count  mean       std          min    1%  25%   50%   75%  \\\n",
       "actualbalance  1314061.0 -5.23  27505.61 -25000145.42 -46.6  0.0  18.0  55.5   \n",
       "\n",
       "                 99%        max  \n",
       "actualbalance  228.0  155020.37  "
      ]
     },
     "execution_count": 50,
     "metadata": {},
     "output_type": "execute_result"
    }
   ],
   "source": [
    "df_last_transaction[['actualbalance']].describe([0.01,0.25, 0.75, .99]).T.round(2)"
   ]
  },
  {
   "cell_type": "markdown",
   "metadata": {},
   "source": [
    "* 1 BRZ = 0.18 USD"
   ]
  },
  {
   "cell_type": "code",
   "execution_count": 51,
   "metadata": {},
   "outputs": [
    {
     "data": {
      "text/html": [
       "<div>\n",
       "<style scoped>\n",
       "    .dataframe tbody tr th:only-of-type {\n",
       "        vertical-align: middle;\n",
       "    }\n",
       "\n",
       "    .dataframe tbody tr th {\n",
       "        vertical-align: top;\n",
       "    }\n",
       "\n",
       "    .dataframe thead th {\n",
       "        text-align: right;\n",
       "    }\n",
       "</style>\n",
       "<table border=\"1\" class=\"dataframe\">\n",
       "  <thead>\n",
       "    <tr style=\"text-align: right;\">\n",
       "      <th></th>\n",
       "      <th>count</th>\n",
       "      <th>mean</th>\n",
       "      <th>std</th>\n",
       "      <th>min</th>\n",
       "      <th>1%</th>\n",
       "      <th>25%</th>\n",
       "      <th>50%</th>\n",
       "      <th>75%</th>\n",
       "      <th>99%</th>\n",
       "      <th>max</th>\n",
       "    </tr>\n",
       "  </thead>\n",
       "  <tbody>\n",
       "    <tr>\n",
       "      <th>actualbalance</th>\n",
       "      <td>233613.76</td>\n",
       "      <td>-0.93</td>\n",
       "      <td>4889.95</td>\n",
       "      <td>-4444525.85</td>\n",
       "      <td>-8.28</td>\n",
       "      <td>0.0</td>\n",
       "      <td>3.2</td>\n",
       "      <td>9.87</td>\n",
       "      <td>40.53</td>\n",
       "      <td>27559.52</td>\n",
       "    </tr>\n",
       "  </tbody>\n",
       "</table>\n",
       "</div>"
      ],
      "text/plain": [
       "                   count  mean      std         min    1%  25%  50%   75%  \\\n",
       "actualbalance  233613.76 -0.93  4889.95 -4444525.85 -8.28  0.0  3.2  9.87   \n",
       "\n",
       "                 99%       max  \n",
       "actualbalance  40.53  27559.52  "
      ]
     },
     "execution_count": 51,
     "metadata": {},
     "output_type": "execute_result"
    }
   ],
   "source": [
    "df_last_transaction[['actualbalance']].describe([0.01,0.25, 0.75, .99]).T.mul(0.17778).round(2)"
   ]
  },
  {
   "cell_type": "markdown",
   "metadata": {},
   "source": [
    "* Marginal NAs\n",
    "* They can be imputed"
   ]
  },
  {
   "cell_type": "code",
   "execution_count": 52,
   "metadata": {},
   "outputs": [
    {
     "data": {
      "text/plain": [
       "actualbalance    7\n",
       "dtype: int64"
      ]
     },
     "execution_count": 52,
     "metadata": {},
     "output_type": "execute_result"
    }
   ],
   "source": [
    "df_last_transaction[['actualbalance']].isna().sum()"
   ]
  },
  {
   "cell_type": "markdown",
   "metadata": {},
   "source": [
    "* Left and Right skewed distribution.\n",
    "* Possible outliers."
   ]
  },
  {
   "cell_type": "code",
   "execution_count": 53,
   "metadata": {},
   "outputs": [
    {
     "data": {
      "image/png": "[encoded data removed]",
      "text/plain": [
       "<Figure size 720x432 with 1 Axes>"
      ]
     },
     "metadata": {
      "needs_background": "light"
     },
     "output_type": "display_data"
    }
   ],
   "source": [
    "# Filtering 98% of the data\n",
    "df_last_transaction_filtered = (\n",
    "    df_last_transaction[['actualbalance']]\n",
    "    .query('actualbalance >= -40 and actualbalance <= 230')\n",
    ")\n",
    "df_last_transaction_filtered\n",
    "\n",
    "bin_width = 10\n",
    "\n",
    "fig, ax = plt.subplots(figsize = (10,6))\n",
    "(\n",
    "    df_last_transaction_filtered[['actualbalance']]\n",
    "        .hist(bins = np.arange(\n",
    "                min(df_last_transaction_filtered.actualbalance), \n",
    "                max(df_last_transaction_filtered.actualbalance) + bin_width, \n",
    "                bin_width),\n",
    "              ax = ax\n",
    "        ) \n",
    ")\n",
    "plt.title(\"Histogram of actualbalance for 98% of the observations.\")\n",
    "plt.show()"
   ]
  },
  {
   "cell_type": "markdown",
   "metadata": {},
   "source": [
    "### lastrechargevalue"
   ]
  },
  {
   "cell_type": "markdown",
   "metadata": {},
   "source": [
    "* Quantiles of last recharge value in BRZ.\n",
    "* Why can a recharge be negative?\n",
    "* Most recharges are made on multiples of 50."
   ]
  },
  {
   "cell_type": "code",
   "execution_count": 54,
   "metadata": {},
   "outputs": [
    {
     "data": {
      "text/plain": [
       "50.0     635203\n",
       "100.0    283463\n",
       "150.0     79888\n",
       "30.0      71359\n",
       "220.0     67723\n",
       "70.0      15729\n",
       "20.0       9494\n",
       "500.0      7421\n",
       "350.0      7111\n",
       "5.0        3944\n",
       "Name: lastrechargevalue, dtype: int64"
      ]
     },
     "execution_count": 54,
     "metadata": {},
     "output_type": "execute_result"
    }
   ],
   "source": [
    "df_last_transaction['lastrechargevalue'].value_counts().head(10)"
   ]
  },
  {
   "cell_type": "code",
   "execution_count": 55,
   "metadata": {},
   "outputs": [
    {
     "data": {
      "text/html": [
       "<div>\n",
       "<style scoped>\n",
       "    .dataframe tbody tr th:only-of-type {\n",
       "        vertical-align: middle;\n",
       "    }\n",
       "\n",
       "    .dataframe tbody tr th {\n",
       "        vertical-align: top;\n",
       "    }\n",
       "\n",
       "    .dataframe thead th {\n",
       "        text-align: right;\n",
       "    }\n",
       "</style>\n",
       "<table border=\"1\" class=\"dataframe\">\n",
       "  <thead>\n",
       "    <tr style=\"text-align: right;\">\n",
       "      <th></th>\n",
       "      <th>count</th>\n",
       "      <th>mean</th>\n",
       "      <th>std</th>\n",
       "      <th>min</th>\n",
       "      <th>1%</th>\n",
       "      <th>25%</th>\n",
       "      <th>50%</th>\n",
       "      <th>75%</th>\n",
       "      <th>99%</th>\n",
       "      <th>max</th>\n",
       "    </tr>\n",
       "  </thead>\n",
       "  <tbody>\n",
       "    <tr>\n",
       "      <th>lastrechargevalue</th>\n",
       "      <td>1192975.0</td>\n",
       "      <td>83.78</td>\n",
       "      <td>94.78</td>\n",
       "      <td>-557.95</td>\n",
       "      <td>20.0</td>\n",
       "      <td>50.0</td>\n",
       "      <td>50.0</td>\n",
       "      <td>100.0</td>\n",
       "      <td>350.0</td>\n",
       "      <td>20000.0</td>\n",
       "    </tr>\n",
       "  </tbody>\n",
       "</table>\n",
       "</div>"
      ],
      "text/plain": [
       "                       count   mean    std     min    1%   25%   50%    75%  \\\n",
       "lastrechargevalue  1192975.0  83.78  94.78 -557.95  20.0  50.0  50.0  100.0   \n",
       "\n",
       "                     99%      max  \n",
       "lastrechargevalue  350.0  20000.0  "
      ]
     },
     "execution_count": 55,
     "metadata": {},
     "output_type": "execute_result"
    }
   ],
   "source": [
    "df_last_transaction[['lastrechargevalue']].describe([0.01,0.25, 0.75, .99]).T.round(2)"
   ]
  },
  {
   "cell_type": "markdown",
   "metadata": {},
   "source": [
    "* There could be clients that have many tags and make recharges for all tags.\n",
    "* NEGATIVE transactions. Wrong charges made by the system. Compensations.\n",
    "* PERHAPS impute them."
   ]
  },
  {
   "cell_type": "markdown",
   "metadata": {},
   "source": [
    "* 1 BRZ = 0.18 USD"
   ]
  },
  {
   "cell_type": "code",
   "execution_count": 56,
   "metadata": {},
   "outputs": [
    {
     "data": {
      "text/html": [
       "<div>\n",
       "<style scoped>\n",
       "    .dataframe tbody tr th:only-of-type {\n",
       "        vertical-align: middle;\n",
       "    }\n",
       "\n",
       "    .dataframe tbody tr th {\n",
       "        vertical-align: top;\n",
       "    }\n",
       "\n",
       "    .dataframe thead th {\n",
       "        text-align: right;\n",
       "    }\n",
       "</style>\n",
       "<table border=\"1\" class=\"dataframe\">\n",
       "  <thead>\n",
       "    <tr style=\"text-align: right;\">\n",
       "      <th></th>\n",
       "      <th>count</th>\n",
       "      <th>mean</th>\n",
       "      <th>std</th>\n",
       "      <th>min</th>\n",
       "      <th>1%</th>\n",
       "      <th>25%</th>\n",
       "      <th>50%</th>\n",
       "      <th>75%</th>\n",
       "      <th>99%</th>\n",
       "      <th>max</th>\n",
       "    </tr>\n",
       "  </thead>\n",
       "  <tbody>\n",
       "    <tr>\n",
       "      <th>lastrechargevalue</th>\n",
       "      <td>212087.1</td>\n",
       "      <td>14.89</td>\n",
       "      <td>16.85</td>\n",
       "      <td>-99.19</td>\n",
       "      <td>3.56</td>\n",
       "      <td>8.89</td>\n",
       "      <td>8.89</td>\n",
       "      <td>17.78</td>\n",
       "      <td>62.22</td>\n",
       "      <td>3555.6</td>\n",
       "    </tr>\n",
       "  </tbody>\n",
       "</table>\n",
       "</div>"
      ],
      "text/plain": [
       "                      count   mean    std    min    1%   25%   50%    75%  \\\n",
       "lastrechargevalue  212087.1  14.89  16.85 -99.19  3.56  8.89  8.89  17.78   \n",
       "\n",
       "                     99%     max  \n",
       "lastrechargevalue  62.22  3555.6  "
      ]
     },
     "execution_count": 56,
     "metadata": {},
     "output_type": "execute_result"
    }
   ],
   "source": [
    "df_last_transaction[['lastrechargevalue']].describe([0.01,0.25, 0.75, .99]).T.mul(0.17778).round(2)"
   ]
  },
  {
   "cell_type": "markdown",
   "metadata": {},
   "source": [
    "* Marginal NAs\n",
    "* They can be imputed"
   ]
  },
  {
   "cell_type": "code",
   "execution_count": 57,
   "metadata": {},
   "outputs": [
    {
     "data": {
      "text/plain": [
       "lastrechargevalue    121093\n",
       "dtype: int64"
      ]
     },
     "execution_count": 57,
     "metadata": {},
     "output_type": "execute_result"
    }
   ],
   "source": [
    "df_last_transaction[['lastrechargevalue']].isna().sum()"
   ]
  },
  {
   "cell_type": "markdown",
   "metadata": {},
   "source": [
    "* Left and Right skewed distribution.\n",
    "* Possible outliers."
   ]
  },
  {
   "cell_type": "code",
   "execution_count": 58,
   "metadata": {},
   "outputs": [
    {
     "data": {
      "image/png": "[encoded data removed]",
      "text/plain": [
       "<Figure size 720x432 with 1 Axes>"
      ]
     },
     "metadata": {
      "needs_background": "light"
     },
     "output_type": "display_data"
    }
   ],
   "source": [
    "# Filtering 98% of the data\n",
    "df_last_transaction_filtered = (\n",
    "    df_last_transaction[['lastrechargevalue']]\n",
    "    .query('lastrechargevalue >= -40 and lastrechargevalue <= 230')\n",
    ")\n",
    "df_last_transaction_filtered\n",
    "\n",
    "bin_width = 10\n",
    "\n",
    "fig, ax = plt.subplots(figsize = (10,6))\n",
    "(\n",
    "    df_last_transaction_filtered[['lastrechargevalue']]\n",
    "        .hist(bins = np.arange(\n",
    "                min(df_last_transaction_filtered.lastrechargevalue), \n",
    "                max(df_last_transaction_filtered.lastrechargevalue) + bin_width, \n",
    "                bin_width),\n",
    "              ax = ax\n",
    "        ) \n",
    ")\n",
    "plt.title(\"Histogram of lastrechargevalue for 98% of the observations.\")\n",
    "plt.show()"
   ]
  },
  {
   "cell_type": "markdown",
   "metadata": {},
   "source": [
    "### lastrechargedate"
   ]
  },
  {
   "cell_type": "markdown",
   "metadata": {},
   "source": [
    "* There are customers that have not recharged since their last transaction that took place since 2012.\n",
    "* This must be clients that left the company."
   ]
  },
  {
   "cell_type": "code",
   "execution_count": 59,
   "metadata": {},
   "outputs": [
    {
     "name": "stdout",
     "output_type": "stream",
     "text": [
      "Minimum last recharge from a customer: 2012-12-28\n",
      "Maximum last recharge from a customer: 2021-12-02\n"
     ]
    }
   ],
   "source": [
    "print(f\"Minimum last recharge from a customer: {df_last_transaction.lastrechargedate.dt.date.dropna().min()}\")\n",
    "print(f\"Maximum last recharge from a customer: {df_last_transaction.lastrechargedate.dt.date.dropna().max()}\")"
   ]
  },
  {
   "cell_type": "markdown",
   "metadata": {},
   "source": [
    "### methodofpayment"
   ]
  },
  {
   "cell_type": "markdown",
   "metadata": {},
   "source": [
    "* THERE ARE NOT CREDIT CARD PAYMENTS"
   ]
  },
  {
   "cell_type": "code",
   "execution_count": 15,
   "metadata": {},
   "outputs": [
    {
     "data": {
      "text/plain": [
       "OTHERS    1314068\n",
       "Name: methodofpayment, dtype: int64"
      ]
     },
     "execution_count": 15,
     "metadata": {},
     "output_type": "execute_result"
    }
   ],
   "source": [
    "(df_last_transaction['methodofpayment']\n",
    "     #.map({7: 'highway', 14: 'highway', 22: 'parking_lot', np.nan: 'missing'})\n",
    "     .value_counts(dropna = False))"
   ]
  },
  {
   "cell_type": "code",
   "execution_count": 16,
   "metadata": {},
   "outputs": [
    {
     "data": {
      "image/png": "[encoded data removed]",
      "text/plain": [
       "<Figure size 432x288 with 1 Axes>"
      ]
     },
     "metadata": {
      "needs_background": "light"
     },
     "output_type": "display_data"
    }
   ],
   "source": [
    "(df_last_transaction['methodofpayment']\n",
    "     .value_counts(dropna = False)\n",
    "     .plot(kind = 'bar', title = \"vehicletype summary\"));"
   ]
  },
  {
   "cell_type": "markdown",
   "metadata": {},
   "source": [
    "* TODO: Lucas is going to help me check this one."
   ]
  },
  {
   "cell_type": "markdown",
   "metadata": {},
   "source": [
    "### daysowningloan"
   ]
  },
  {
   "cell_type": "markdown",
   "metadata": {},
   "source": [
    "* Why 25% of the observations with hadcreditavailabel==\"NO\" and doesstillhasdebit==\"NO\" have more than 349 days with the loan."
   ]
  },
  {
   "cell_type": "code",
   "execution_count": 62,
   "metadata": {},
   "outputs": [
    {
     "data": {
      "text/html": [
       "<div>\n",
       "<style scoped>\n",
       "    .dataframe tbody tr th:only-of-type {\n",
       "        vertical-align: middle;\n",
       "    }\n",
       "\n",
       "    .dataframe tbody tr th {\n",
       "        vertical-align: top;\n",
       "    }\n",
       "\n",
       "    .dataframe thead th {\n",
       "        text-align: right;\n",
       "    }\n",
       "</style>\n",
       "<table border=\"1\" class=\"dataframe\">\n",
       "  <thead>\n",
       "    <tr style=\"text-align: right;\">\n",
       "      <th></th>\n",
       "      <th></th>\n",
       "      <th>count</th>\n",
       "      <th>mean</th>\n",
       "      <th>std</th>\n",
       "      <th>min</th>\n",
       "      <th>25%</th>\n",
       "      <th>50%</th>\n",
       "      <th>75%</th>\n",
       "      <th>max</th>\n",
       "    </tr>\n",
       "    <tr>\n",
       "      <th>hadcreditavailabel</th>\n",
       "      <th>doesstillhasdebit</th>\n",
       "      <th></th>\n",
       "      <th></th>\n",
       "      <th></th>\n",
       "      <th></th>\n",
       "      <th></th>\n",
       "      <th></th>\n",
       "      <th></th>\n",
       "      <th></th>\n",
       "    </tr>\n",
       "  </thead>\n",
       "  <tbody>\n",
       "    <tr>\n",
       "      <th rowspan=\"2\" valign=\"top\">NO</th>\n",
       "      <th>NO</th>\n",
       "      <td>143164.0</td>\n",
       "      <td>864.549223</td>\n",
       "      <td>541.586031</td>\n",
       "      <td>1.0</td>\n",
       "      <td>358.0</td>\n",
       "      <td>868.0</td>\n",
       "      <td>1323.0</td>\n",
       "      <td>3072.0</td>\n",
       "    </tr>\n",
       "    <tr>\n",
       "      <th>YES</th>\n",
       "      <td>137587.0</td>\n",
       "      <td>0.000000</td>\n",
       "      <td>0.000000</td>\n",
       "      <td>0.0</td>\n",
       "      <td>0.0</td>\n",
       "      <td>0.0</td>\n",
       "      <td>0.0</td>\n",
       "      <td>0.0</td>\n",
       "    </tr>\n",
       "    <tr>\n",
       "      <th>YES</th>\n",
       "      <th>HAD NO DEBITS ON HIS LAST TRANSACTION</th>\n",
       "      <td>1033317.0</td>\n",
       "      <td>0.000000</td>\n",
       "      <td>0.000000</td>\n",
       "      <td>0.0</td>\n",
       "      <td>0.0</td>\n",
       "      <td>0.0</td>\n",
       "      <td>0.0</td>\n",
       "      <td>0.0</td>\n",
       "    </tr>\n",
       "  </tbody>\n",
       "</table>\n",
       "</div>"
      ],
      "text/plain": [
       "                                                              count  \\\n",
       "hadcreditavailabel doesstillhasdebit                                  \n",
       "NO                 NO                                      143164.0   \n",
       "                   YES                                     137587.0   \n",
       "YES                HAD NO DEBITS ON HIS LAST TRANSACTION  1033317.0   \n",
       "\n",
       "                                                                mean  \\\n",
       "hadcreditavailabel doesstillhasdebit                                   \n",
       "NO                 NO                                     864.549223   \n",
       "                   YES                                      0.000000   \n",
       "YES                HAD NO DEBITS ON HIS LAST TRANSACTION    0.000000   \n",
       "\n",
       "                                                                 std  min  \\\n",
       "hadcreditavailabel doesstillhasdebit                                        \n",
       "NO                 NO                                     541.586031  1.0   \n",
       "                   YES                                      0.000000  0.0   \n",
       "YES                HAD NO DEBITS ON HIS LAST TRANSACTION    0.000000  0.0   \n",
       "\n",
       "                                                            25%    50%  \\\n",
       "hadcreditavailabel doesstillhasdebit                                     \n",
       "NO                 NO                                     358.0  868.0   \n",
       "                   YES                                      0.0    0.0   \n",
       "YES                HAD NO DEBITS ON HIS LAST TRANSACTION    0.0    0.0   \n",
       "\n",
       "                                                             75%     max  \n",
       "hadcreditavailabel doesstillhasdebit                                      \n",
       "NO                 NO                                     1323.0  3072.0  \n",
       "                   YES                                       0.0     0.0  \n",
       "YES                HAD NO DEBITS ON HIS LAST TRANSACTION     0.0     0.0  "
      ]
     },
     "execution_count": 62,
     "metadata": {},
     "output_type": "execute_result"
    }
   ],
   "source": [
    "df_last_transaction.groupby(['hadcreditavailabel', 'doesstillhasdebit'])['daysowningloan'].describe()"
   ]
  },
  {
   "cell_type": "markdown",
   "metadata": {},
   "source": [
    "* TODO: See this table by last year transaction."
   ]
  },
  {
   "cell_type": "code",
   "execution_count": 17,
   "metadata": {},
   "outputs": [
    {
     "data": {
      "image/png": "[encoded data removed]",
      "text/plain": [
       "<Figure size 720x432 with 1 Axes>"
      ]
     },
     "metadata": {
      "needs_background": "light"
     },
     "output_type": "display_data"
    }
   ],
   "source": [
    "df_last_transaction_filtered = (df_last_transaction\n",
    "     .query('hadcreditavailabel==\"NO\" and doesstillhasdebit==\"NO\"')\n",
    "     .filter(['daysowningloan']))\n",
    "\n",
    "bin_width = 15\n",
    "fig, ax = plt.subplots(figsize = (10,6))\n",
    "(df_last_transaction_filtered[['daysowningloan']]\n",
    "     .hist(ax = ax, \n",
    "           bins = np.arange(\n",
    "                min(df_last_transaction_filtered.daysowningloan), \n",
    "                max(df_last_transaction_filtered.daysowningloan) + bin_width, \n",
    "                bin_width)) \n",
    ")\n",
    "plt.title('Distribution of delinquency for customers that still have a loan from their last transaction')\n",
    "plt.xlabel('daysowningloan')\n",
    "plt.show()"
   ]
  },
  {
   "cell_type": "markdown",
   "metadata": {},
   "source": [
    "### doesstillhasdebit"
   ]
  },
  {
   "cell_type": "code",
   "execution_count": 64,
   "metadata": {},
   "outputs": [
    {
     "data": {
      "text/plain": [
       "HAD NO DEBITS ON HIS LAST TRANSACTION    1033317\n",
       "NO                                        143164\n",
       "YES                                       137587\n",
       "Name: doesstillhasdebit, dtype: int64"
      ]
     },
     "execution_count": 64,
     "metadata": {},
     "output_type": "execute_result"
    }
   ],
   "source": [
    "(df_last_transaction['doesstillhasdebit']\n",
    "     #.map({7: 'highway', 14: 'highway', 22: 'parking_lot', np.nan: 'missing'})\n",
    "     .value_counts(dropna = False))"
   ]
  },
  {
   "cell_type": "code",
   "execution_count": 65,
   "metadata": {},
   "outputs": [
    {
     "data": {
      "image/png": "[encoded data removed]",
      "text/plain": [
       "<Figure size 432x288 with 1 Axes>"
      ]
     },
     "metadata": {
      "needs_background": "light"
     },
     "output_type": "display_data"
    }
   ],
   "source": [
    "(df_last_transaction['doesstillhasdebit']\n",
    "     .value_counts(dropna = False)\n",
    "     .plot(kind = 'bar', title = \"doesstillhasdebit summary\"));"
   ]
  },
  {
   "cell_type": "markdown",
   "metadata": {},
   "source": [
    "### data_nascimento"
   ]
  },
  {
   "cell_type": "code",
   "execution_count": 66,
   "metadata": {},
   "outputs": [
    {
     "data": {
      "image/png": "[encoded data removed]",
      "text/plain": [
       "<Figure size 432x288 with 1 Axes>"
      ]
     },
     "metadata": {
      "needs_background": "light"
     },
     "output_type": "display_data"
    }
   ],
   "source": [
    "plt.hist(df_last_transaction['data_nascimento'].dt.year)\n",
    "plt.title(\"Histogram of birth date\")\n",
    "plt.show()"
   ]
  },
  {
   "cell_type": "markdown",
   "metadata": {},
   "source": [
    "### customerage"
   ]
  },
  {
   "cell_type": "code",
   "execution_count": 67,
   "metadata": {},
   "outputs": [
    {
     "data": {
      "image/png": "[encoded data removed]",
      "text/plain": [
       "<Figure size 432x288 with 1 Axes>"
      ]
     },
     "metadata": {
      "needs_background": "light"
     },
     "output_type": "display_data"
    }
   ],
   "source": [
    "plt.hist(df_last_transaction['customerage'])\n",
    "plt.title(\"Histogram of customerage\")\n",
    "plt.show()"
   ]
  },
  {
   "cell_type": "markdown",
   "metadata": {},
   "source": [
    "### estadocivilid"
   ]
  },
  {
   "cell_type": "code",
   "execution_count": 68,
   "metadata": {},
   "outputs": [
    {
     "data": {
      "text/plain": [
       "2.0    608089\n",
       "NaN    328669\n",
       "1.0    301136\n",
       "4.0     52129\n",
       "3.0     14517\n",
       "5.0      9528\n",
       "Name: estadocivilid, dtype: int64"
      ]
     },
     "execution_count": 68,
     "metadata": {},
     "output_type": "execute_result"
    }
   ],
   "source": [
    "(df_last_transaction['estadocivilid']\n",
    "     .value_counts(dropna = False))"
   ]
  },
  {
   "cell_type": "code",
   "execution_count": null,
   "metadata": {},
   "outputs": [],
   "source": [
    "* "
   ]
  },
  {
   "cell_type": "code",
   "execution_count": 69,
   "metadata": {},
   "outputs": [
    {
     "data": {
      "image/png": "[encoded data removed]",
      "text/plain": [
       "<Figure size 432x288 with 1 Axes>"
      ]
     },
     "metadata": {
      "needs_background": "light"
     },
     "output_type": "display_data"
    }
   ],
   "source": [
    "(df_last_transaction['estadocivilid']\n",
    "     .value_counts(dropna = False)\n",
    "     .plot(kind = 'bar', title = \"estadocivilid summary\"));"
   ]
  },
  {
   "cell_type": "markdown",
   "metadata": {},
   "source": [
    "* There are many nulls"
   ]
  },
  {
   "cell_type": "code",
   "execution_count": 70,
   "metadata": {},
   "outputs": [
    {
     "data": {
      "text/plain": [
       "328669"
      ]
     },
     "execution_count": 70,
     "metadata": {},
     "output_type": "execute_result"
    }
   ],
   "source": [
    "df_last_transaction['estadocivilid'].isna().sum()"
   ]
  },
  {
   "cell_type": "markdown",
   "metadata": {},
   "source": [
    "### estado"
   ]
  },
  {
   "cell_type": "markdown",
   "metadata": {},
   "source": [
    "* Most customers from Sao Paulo, and then the rest."
   ]
  },
  {
   "cell_type": "code",
   "execution_count": 71,
   "metadata": {},
   "outputs": [
    {
     "data": {
      "text/plain": [
       "São Paulo              858115\n",
       "Rio de Janeiro         120167\n",
       "Minas Gerais            80030\n",
       "Paraná                  67720\n",
       "Rio Grande do Sul       37975\n",
       "Bahia                   32663\n",
       "Santa Catarina          27773\n",
       "Pernambuco              15377\n",
       "Goiás                   14838\n",
       "Distrito Federal        12712\n",
       "Mato Grosso             11437\n",
       "Espírito Santo          10644\n",
       "Mato Grosso do Sul      10116\n",
       "Ceará                    4258\n",
       "Alagoas                  1812\n",
       "Pará                     1803\n",
       "Maranhão                  928\n",
       "Acre                      887\n",
       "Tocantins                 842\n",
       "Rio Grande do Norte       833\n",
       "Paraíba                   719\n",
       "Amazonas                  634\n",
       "Amapá                     540\n",
       "Rondônia                  400\n",
       "Sergipe                   380\n",
       "Piauí                     370\n",
       "Roraima                    95\n",
       "Name: estado, dtype: int64"
      ]
     },
     "execution_count": 71,
     "metadata": {},
     "output_type": "execute_result"
    }
   ],
   "source": [
    "(df_last_transaction['estado']\n",
    "     .value_counts(dropna = False))"
   ]
  },
  {
   "cell_type": "code",
   "execution_count": 72,
   "metadata": {},
   "outputs": [
    {
     "data": {
      "image/png": "[encoded data removed]",
      "text/plain": [
       "<Figure size 720x432 with 1 Axes>"
      ]
     },
     "metadata": {
      "needs_background": "light"
     },
     "output_type": "display_data"
    }
   ],
   "source": [
    "fig, ax = plt.subplots(figsize = (10,6))\n",
    "(df_last_transaction['estado']\n",
    "     .value_counts(dropna = False)\n",
    "     .plot(kind = 'bar', ax = ax))\n",
    "plt.title(\"Customers by City\")\n",
    "plt.show()"
   ]
  },
  {
   "cell_type": "markdown",
   "metadata": {},
   "source": [
    "### nomeplano"
   ]
  },
  {
   "cell_type": "markdown",
   "metadata": {},
   "source": [
    "TODO:\n",
    "    \n",
    "    * Lucas is going to help me with the description."
   ]
  },
  {
   "cell_type": "code",
   "execution_count": 73,
   "metadata": {},
   "outputs": [
    {
     "data": {
      "text/plain": [
       "Completo                608353\n",
       "Básico                  491452\n",
       "Abastece Aí             145892\n",
       "Rodovia                  23425\n",
       "Autocarga                15615\n",
       "Flex                     13394\n",
       "Pré-Pago Empresarial      9924\n",
       "Urbano                    4831\n",
       "Fiat                       604\n",
       "NaN                        471\n",
       "Pós-Pago Empresarial       106\n",
       "Locadora                     1\n",
       "Name: nomeplano, dtype: int64"
      ]
     },
     "execution_count": 73,
     "metadata": {},
     "output_type": "execute_result"
    }
   ],
   "source": [
    "(df_last_transaction['nomeplano']\n",
    "     .value_counts(dropna = False))"
   ]
  },
  {
   "cell_type": "code",
   "execution_count": 74,
   "metadata": {},
   "outputs": [
    {
     "data": {
      "image/png": "[encoded data removed]",
      "text/plain": [
       "<Figure size 720x432 with 1 Axes>"
      ]
     },
     "metadata": {
      "needs_background": "light"
     },
     "output_type": "display_data"
    }
   ],
   "source": [
    "fig, ax = plt.subplots(figsize = (10,6))\n",
    "(df_last_transaction['nomeplano']\n",
    "     .value_counts(dropna = False)\n",
    "     .plot(kind = 'bar', ax = ax))\n",
    "plt.title(\"Customers by nomeplano\")\n",
    "plt.show()"
   ]
  },
  {
   "cell_type": "markdown",
   "metadata": {},
   "source": [
    "* There are a few Nulls, that can be imputed."
   ]
  },
  {
   "cell_type": "code",
   "execution_count": 75,
   "metadata": {},
   "outputs": [
    {
     "data": {
      "text/plain": [
       "471"
      ]
     },
     "execution_count": 75,
     "metadata": {},
     "output_type": "execute_result"
    }
   ],
   "source": [
    "df_last_transaction['nomeplano'].isna().sum()"
   ]
  },
  {
   "cell_type": "markdown",
   "metadata": {},
   "source": [
    "## Customer Financial History"
   ]
  },
  {
   "cell_type": "markdown",
   "metadata": {},
   "source": [
    "### totalloans\n",
    "\n",
    "* Lucas told me that not all clients generate loans, this might be the case for the missing values.\n",
    "* Then the values can be imputed with zero."
   ]
  },
  {
   "cell_type": "code",
   "execution_count": 100,
   "metadata": {},
   "outputs": [
    {
     "data": {
      "text/plain": [
       "totalloans    873304\n",
       "dtype: int64"
      ]
     },
     "execution_count": 100,
     "metadata": {},
     "output_type": "execute_result"
    }
   ],
   "source": [
    "df_last_transaction[['totalloans']].isna().sum()"
   ]
  },
  {
   "cell_type": "code",
   "execution_count": 101,
   "metadata": {},
   "outputs": [
    {
     "data": {
      "text/plain": [
       "totalloans    0.664581\n",
       "dtype: float64"
      ]
     },
     "execution_count": 101,
     "metadata": {},
     "output_type": "execute_result"
    }
   ],
   "source": [
    "df_last_transaction[['totalloans']].isna().mean()"
   ]
  },
  {
   "cell_type": "code",
   "execution_count": 102,
   "metadata": {},
   "outputs": [
    {
     "data": {
      "text/html": [
       "<div>\n",
       "<style scoped>\n",
       "    .dataframe tbody tr th:only-of-type {\n",
       "        vertical-align: middle;\n",
       "    }\n",
       "\n",
       "    .dataframe tbody tr th {\n",
       "        vertical-align: top;\n",
       "    }\n",
       "\n",
       "    .dataframe thead th {\n",
       "        text-align: right;\n",
       "    }\n",
       "</style>\n",
       "<table border=\"1\" class=\"dataframe\">\n",
       "  <thead>\n",
       "    <tr style=\"text-align: right;\">\n",
       "      <th></th>\n",
       "      <th>count</th>\n",
       "      <th>mean</th>\n",
       "      <th>std</th>\n",
       "      <th>min</th>\n",
       "      <th>1%</th>\n",
       "      <th>25%</th>\n",
       "      <th>50%</th>\n",
       "      <th>75%</th>\n",
       "      <th>99%</th>\n",
       "      <th>max</th>\n",
       "    </tr>\n",
       "  </thead>\n",
       "  <tbody>\n",
       "    <tr>\n",
       "      <th>totalloans</th>\n",
       "      <td>440764.0</td>\n",
       "      <td>50.993214</td>\n",
       "      <td>13498.11162</td>\n",
       "      <td>1.0</td>\n",
       "      <td>1.0</td>\n",
       "      <td>1.0</td>\n",
       "      <td>3.0</td>\n",
       "      <td>9.0</td>\n",
       "      <td>171.0</td>\n",
       "      <td>8254224.0</td>\n",
       "    </tr>\n",
       "  </tbody>\n",
       "</table>\n",
       "</div>"
      ],
      "text/plain": [
       "               count       mean          std  min   1%  25%  50%  75%    99%  \\\n",
       "totalloans  440764.0  50.993214  13498.11162  1.0  1.0  1.0  3.0  9.0  171.0   \n",
       "\n",
       "                  max  \n",
       "totalloans  8254224.0  "
      ]
     },
     "execution_count": 102,
     "metadata": {},
     "output_type": "execute_result"
    }
   ],
   "source": [
    "df_last_transaction[['totalloans']].describe([0.01,0.25, 0.75, .99]).T"
   ]
  },
  {
   "cell_type": "code",
   "execution_count": 40,
   "metadata": {},
   "outputs": [
    {
     "data": {
      "image/png": "[encoded data removed]",
      "text/plain": [
       "<Figure size 720x432 with 1 Axes>"
      ]
     },
     "metadata": {
      "needs_background": "light"
     },
     "output_type": "display_data"
    }
   ],
   "source": [
    "# Filtering 99% of the data\n",
    "df_last_transaction_filtered = (\n",
    "    df_last_transaction[['totalloans']]\n",
    "    .query('totalloans <= 172')\n",
    ")\n",
    "\n",
    "bin_width = 1\n",
    "\n",
    "fig, ax = plt.subplots(figsize = (10,6))\n",
    "(\n",
    "    df_last_transaction_filtered[['totalloans']]\n",
    "        .hist(bins = np.arange(\n",
    "                np.min(df_last_transaction_filtered.totalloans), \n",
    "                np.max(df_last_transaction_filtered.totalloans) + bin_width, \n",
    "                bin_width),\n",
    "              ax = ax\n",
    "        ) \n",
    ")\n",
    "plt.title(\"Histogram of totalloans for 99% of the observations.\")\n",
    "plt.show()"
   ]
  },
  {
   "cell_type": "markdown",
   "metadata": {},
   "source": [
    "### avgdayspayback\n",
    "\n",
    "* Lucas told me that not all clients generate loans, this might be the case for the missing values.\n",
    "* Then the values can be imputed with zero.\n"
   ]
  },
  {
   "cell_type": "markdown",
   "metadata": {},
   "source": [
    "* The minium value is negative. Perhaps we can impute it."
   ]
  },
  {
   "cell_type": "code",
   "execution_count": 41,
   "metadata": {},
   "outputs": [
    {
     "data": {
      "text/html": [
       "<div>\n",
       "<style scoped>\n",
       "    .dataframe tbody tr th:only-of-type {\n",
       "        vertical-align: middle;\n",
       "    }\n",
       "\n",
       "    .dataframe tbody tr th {\n",
       "        vertical-align: top;\n",
       "    }\n",
       "\n",
       "    .dataframe thead th {\n",
       "        text-align: right;\n",
       "    }\n",
       "</style>\n",
       "<table border=\"1\" class=\"dataframe\">\n",
       "  <thead>\n",
       "    <tr style=\"text-align: right;\">\n",
       "      <th></th>\n",
       "      <th>count</th>\n",
       "      <th>mean</th>\n",
       "      <th>std</th>\n",
       "      <th>min</th>\n",
       "      <th>1%</th>\n",
       "      <th>25%</th>\n",
       "      <th>50%</th>\n",
       "      <th>75%</th>\n",
       "      <th>99%</th>\n",
       "      <th>max</th>\n",
       "    </tr>\n",
       "  </thead>\n",
       "  <tbody>\n",
       "    <tr>\n",
       "      <th>avgdayspayback</th>\n",
       "      <td>319221.0</td>\n",
       "      <td>43.02419</td>\n",
       "      <td>93.063137</td>\n",
       "      <td>-2.0</td>\n",
       "      <td>0.0</td>\n",
       "      <td>3.0</td>\n",
       "      <td>11.0</td>\n",
       "      <td>40.0</td>\n",
       "      <td>448.0</td>\n",
       "      <td>2196.0</td>\n",
       "    </tr>\n",
       "  </tbody>\n",
       "</table>\n",
       "</div>"
      ],
      "text/plain": [
       "                   count      mean        std  min   1%  25%   50%   75%  \\\n",
       "avgdayspayback  319221.0  43.02419  93.063137 -2.0  0.0  3.0  11.0  40.0   \n",
       "\n",
       "                  99%     max  \n",
       "avgdayspayback  448.0  2196.0  "
      ]
     },
     "execution_count": 41,
     "metadata": {},
     "output_type": "execute_result"
    }
   ],
   "source": [
    "df_last_transaction[['avgdayspayback']].describe([0.01,0.25, 0.75, .99]).T"
   ]
  },
  {
   "cell_type": "code",
   "execution_count": 98,
   "metadata": {},
   "outputs": [
    {
     "data": {
      "text/plain": [
       "avgdayspayback    994847\n",
       "dtype: int64"
      ]
     },
     "execution_count": 98,
     "metadata": {},
     "output_type": "execute_result"
    }
   ],
   "source": [
    "df_last_transaction[['avgdayspayback']].isna().sum()"
   ]
  },
  {
   "cell_type": "code",
   "execution_count": 99,
   "metadata": {},
   "outputs": [
    {
     "data": {
      "text/plain": [
       "avgdayspayback    0.757074\n",
       "dtype: float64"
      ]
     },
     "execution_count": 99,
     "metadata": {},
     "output_type": "execute_result"
    }
   ],
   "source": [
    "df_last_transaction[['avgdayspayback']].isna().mean()"
   ]
  },
  {
   "cell_type": "code",
   "execution_count": 45,
   "metadata": {},
   "outputs": [
    {
     "data": {
      "image/png": "[encoded data removed]",
      "text/plain": [
       "<Figure size 720x432 with 1 Axes>"
      ]
     },
     "metadata": {
      "needs_background": "light"
     },
     "output_type": "display_data"
    }
   ],
   "source": [
    "# Filtering 99% of the data\n",
    "df_last_transaction_filtered = (\n",
    "    df_last_transaction[['avgdayspayback']]\n",
    "    .query('avgdayspayback <= 40')\n",
    ")\n",
    "\n",
    "bin_width = 1\n",
    "\n",
    "fig, ax = plt.subplots(figsize = (10,6))\n",
    "(\n",
    "    df_last_transaction_filtered[['avgdayspayback']]\n",
    "        .hist(bins = np.arange(\n",
    "                np.min(df_last_transaction_filtered.avgdayspayback), \n",
    "                np.max(df_last_transaction_filtered.avgdayspayback) + bin_width, \n",
    "                bin_width),\n",
    "              ax = ax\n",
    "        ) \n",
    ")\n",
    "plt.title(\"Histogram of avgdayspayback for 99% of the observations.\")\n",
    "plt.show()"
   ]
  },
  {
   "cell_type": "markdown",
   "metadata": {},
   "source": [
    "### totalloans_highway\n",
    "\n",
    "* Lucas told me that not all clients generate loans, this might be the case for the missing values.\n",
    "* Then the values can be imputed with zero."
   ]
  },
  {
   "cell_type": "code",
   "execution_count": 96,
   "metadata": {},
   "outputs": [
    {
     "data": {
      "text/plain": [
       "totalloans_highway    873304\n",
       "dtype: int64"
      ]
     },
     "execution_count": 96,
     "metadata": {},
     "output_type": "execute_result"
    }
   ],
   "source": [
    "df_last_transaction[['totalloans_highway']].isna().sum()"
   ]
  },
  {
   "cell_type": "code",
   "execution_count": 97,
   "metadata": {},
   "outputs": [
    {
     "data": {
      "text/plain": [
       "totalloans_highway    0.664581\n",
       "dtype: float64"
      ]
     },
     "execution_count": 97,
     "metadata": {},
     "output_type": "execute_result"
    }
   ],
   "source": [
    "df_last_transaction[['totalloans_highway']].isna().mean()"
   ]
  },
  {
   "cell_type": "code",
   "execution_count": 46,
   "metadata": {},
   "outputs": [
    {
     "data": {
      "text/html": [
       "<div>\n",
       "<style scoped>\n",
       "    .dataframe tbody tr th:only-of-type {\n",
       "        vertical-align: middle;\n",
       "    }\n",
       "\n",
       "    .dataframe tbody tr th {\n",
       "        vertical-align: top;\n",
       "    }\n",
       "\n",
       "    .dataframe thead th {\n",
       "        text-align: right;\n",
       "    }\n",
       "</style>\n",
       "<table border=\"1\" class=\"dataframe\">\n",
       "  <thead>\n",
       "    <tr style=\"text-align: right;\">\n",
       "      <th></th>\n",
       "      <th>count</th>\n",
       "      <th>mean</th>\n",
       "      <th>std</th>\n",
       "      <th>min</th>\n",
       "      <th>1%</th>\n",
       "      <th>25%</th>\n",
       "      <th>50%</th>\n",
       "      <th>75%</th>\n",
       "      <th>99%</th>\n",
       "      <th>max</th>\n",
       "    </tr>\n",
       "  </thead>\n",
       "  <tbody>\n",
       "    <tr>\n",
       "      <th>totalloans_highway</th>\n",
       "      <td>440764.0</td>\n",
       "      <td>44.050211</td>\n",
       "      <td>12721.075638</td>\n",
       "      <td>0.0</td>\n",
       "      <td>0.0</td>\n",
       "      <td>1.0</td>\n",
       "      <td>2.0</td>\n",
       "      <td>5.0</td>\n",
       "      <td>130.0</td>\n",
       "      <td>7840391.0</td>\n",
       "    </tr>\n",
       "  </tbody>\n",
       "</table>\n",
       "</div>"
      ],
      "text/plain": [
       "                       count       mean           std  min   1%  25%  50%  \\\n",
       "totalloans_highway  440764.0  44.050211  12721.075638  0.0  0.0  1.0  2.0   \n",
       "\n",
       "                    75%    99%        max  \n",
       "totalloans_highway  5.0  130.0  7840391.0  "
      ]
     },
     "execution_count": 46,
     "metadata": {},
     "output_type": "execute_result"
    }
   ],
   "source": [
    "df_last_transaction[['totalloans_highway']].describe([0.01,0.25, 0.75, .99]).T"
   ]
  },
  {
   "cell_type": "code",
   "execution_count": 49,
   "metadata": {},
   "outputs": [
    {
     "data": {
      "image/png": "[encoded data removed]",
      "text/plain": [
       "<Figure size 720x432 with 1 Axes>"
      ]
     },
     "metadata": {
      "needs_background": "light"
     },
     "output_type": "display_data"
    }
   ],
   "source": [
    "# Filtering 99% of the data\n",
    "df_last_transaction_filtered = (\n",
    "    df_last_transaction[['totalloans_highway']]\n",
    "    .query('totalloans_highway <= 130')\n",
    ")\n",
    "\n",
    "bin_width = 1\n",
    "\n",
    "fig, ax = plt.subplots(figsize = (10,6))\n",
    "(\n",
    "    df_last_transaction_filtered[['totalloans_highway']]\n",
    "        .hist(bins = np.arange(\n",
    "                np.min(df_last_transaction_filtered.totalloans_highway), \n",
    "                np.max(df_last_transaction_filtered.totalloans_highway) + bin_width, \n",
    "                bin_width),\n",
    "              ax = ax\n",
    "        ) \n",
    ")\n",
    "plt.title(\"Histogram of totalloans_highway for 99% of the observations.\")\n",
    "plt.show()"
   ]
  },
  {
   "cell_type": "markdown",
   "metadata": {},
   "source": [
    "### totaloans_parkinglot\n",
    "\n",
    "* Lucas told me that not all clients generate loans, this might be the case for the missing values.\n",
    "* Then the values can be imputed with zero."
   ]
  },
  {
   "cell_type": "code",
   "execution_count": 94,
   "metadata": {},
   "outputs": [
    {
     "data": {
      "text/plain": [
       "totaloans_parkinglot    873304\n",
       "dtype: int64"
      ]
     },
     "execution_count": 94,
     "metadata": {},
     "output_type": "execute_result"
    }
   ],
   "source": [
    "df_last_transaction[['totaloans_parkinglot']].isna().sum()"
   ]
  },
  {
   "cell_type": "code",
   "execution_count": 95,
   "metadata": {},
   "outputs": [
    {
     "data": {
      "text/plain": [
       "totaloans_parkinglot    0.664581\n",
       "dtype: float64"
      ]
     },
     "execution_count": 95,
     "metadata": {},
     "output_type": "execute_result"
    }
   ],
   "source": [
    "df_last_transaction[['totaloans_parkinglot']].isna().mean()"
   ]
  },
  {
   "cell_type": "code",
   "execution_count": 46,
   "metadata": {},
   "outputs": [
    {
     "data": {
      "text/html": [
       "<div>\n",
       "<style scoped>\n",
       "    .dataframe tbody tr th:only-of-type {\n",
       "        vertical-align: middle;\n",
       "    }\n",
       "\n",
       "    .dataframe tbody tr th {\n",
       "        vertical-align: top;\n",
       "    }\n",
       "\n",
       "    .dataframe thead th {\n",
       "        text-align: right;\n",
       "    }\n",
       "</style>\n",
       "<table border=\"1\" class=\"dataframe\">\n",
       "  <thead>\n",
       "    <tr style=\"text-align: right;\">\n",
       "      <th></th>\n",
       "      <th>count</th>\n",
       "      <th>mean</th>\n",
       "      <th>std</th>\n",
       "      <th>min</th>\n",
       "      <th>1%</th>\n",
       "      <th>25%</th>\n",
       "      <th>50%</th>\n",
       "      <th>75%</th>\n",
       "      <th>99%</th>\n",
       "      <th>max</th>\n",
       "    </tr>\n",
       "  </thead>\n",
       "  <tbody>\n",
       "    <tr>\n",
       "      <th>totalloans_highway</th>\n",
       "      <td>440764.0</td>\n",
       "      <td>44.050211</td>\n",
       "      <td>12721.075638</td>\n",
       "      <td>0.0</td>\n",
       "      <td>0.0</td>\n",
       "      <td>1.0</td>\n",
       "      <td>2.0</td>\n",
       "      <td>5.0</td>\n",
       "      <td>130.0</td>\n",
       "      <td>7840391.0</td>\n",
       "    </tr>\n",
       "  </tbody>\n",
       "</table>\n",
       "</div>"
      ],
      "text/plain": [
       "                       count       mean           std  min   1%  25%  50%  \\\n",
       "totalloans_highway  440764.0  44.050211  12721.075638  0.0  0.0  1.0  2.0   \n",
       "\n",
       "                    75%    99%        max  \n",
       "totalloans_highway  5.0  130.0  7840391.0  "
      ]
     },
     "execution_count": 46,
     "metadata": {},
     "output_type": "execute_result"
    }
   ],
   "source": [
    "df_last_transaction[['totaloans_parkinglot']].describe([0.01,0.25, 0.75, .99]).T"
   ]
  },
  {
   "cell_type": "code",
   "execution_count": 52,
   "metadata": {},
   "outputs": [
    {
     "data": {
      "image/png": "[encoded data removed]",
      "text/plain": [
       "<Figure size 720x432 with 1 Axes>"
      ]
     },
     "metadata": {
      "needs_background": "light"
     },
     "output_type": "display_data"
    }
   ],
   "source": [
    "# Filtering 99% of the data\n",
    "df_last_transaction_filtered = (\n",
    "    df_last_transaction[['totaloans_parkinglot']]\n",
    "    .query('totaloans_parkinglot <= 130')\n",
    ")\n",
    "\n",
    "bin_width = 1\n",
    "\n",
    "fig, ax = plt.subplots(figsize = (10,6))\n",
    "(\n",
    "    df_last_transaction_filtered[['totaloans_parkinglot']]\n",
    "        .hist(bins = np.arange(\n",
    "                np.min(df_last_transaction_filtered.totaloans_parkinglot), \n",
    "                np.max(df_last_transaction_filtered.totaloans_parkinglot) + bin_width, \n",
    "                bin_width),\n",
    "              ax = ax\n",
    "        ) \n",
    ")\n",
    "plt.title(\"Histogram of totaloans_parkinglot for 99% of the observations.\")\n",
    "plt.show()"
   ]
  },
  {
   "cell_type": "markdown",
   "metadata": {},
   "source": [
    "### totalloans_membershipsubscription\n",
    "\n",
    "* Lucas told me that not all clients generate loans, this might be the case for the missing values.\n",
    "* Then the values can be imputed with zero."
   ]
  },
  {
   "cell_type": "code",
   "execution_count": 92,
   "metadata": {},
   "outputs": [
    {
     "data": {
      "text/plain": [
       "totalloans_membershipsubscription    873304\n",
       "dtype: int64"
      ]
     },
     "execution_count": 92,
     "metadata": {},
     "output_type": "execute_result"
    }
   ],
   "source": [
    "df_last_transaction[['totalloans_membershipsubscription']].isna().sum()"
   ]
  },
  {
   "cell_type": "code",
   "execution_count": 93,
   "metadata": {},
   "outputs": [
    {
     "data": {
      "text/plain": [
       "totalloans_membershipsubscription    0.664581\n",
       "dtype: float64"
      ]
     },
     "execution_count": 93,
     "metadata": {},
     "output_type": "execute_result"
    }
   ],
   "source": [
    "df_last_transaction[['totalloans_membershipsubscription']].isna().mean()"
   ]
  },
  {
   "cell_type": "code",
   "execution_count": 53,
   "metadata": {},
   "outputs": [
    {
     "data": {
      "text/html": [
       "<div>\n",
       "<style scoped>\n",
       "    .dataframe tbody tr th:only-of-type {\n",
       "        vertical-align: middle;\n",
       "    }\n",
       "\n",
       "    .dataframe tbody tr th {\n",
       "        vertical-align: top;\n",
       "    }\n",
       "\n",
       "    .dataframe thead th {\n",
       "        text-align: right;\n",
       "    }\n",
       "</style>\n",
       "<table border=\"1\" class=\"dataframe\">\n",
       "  <thead>\n",
       "    <tr style=\"text-align: right;\">\n",
       "      <th></th>\n",
       "      <th>count</th>\n",
       "      <th>mean</th>\n",
       "      <th>std</th>\n",
       "      <th>min</th>\n",
       "      <th>1%</th>\n",
       "      <th>25%</th>\n",
       "      <th>50%</th>\n",
       "      <th>75%</th>\n",
       "      <th>99%</th>\n",
       "      <th>max</th>\n",
       "    </tr>\n",
       "  </thead>\n",
       "  <tbody>\n",
       "    <tr>\n",
       "      <th>totalloans_membershipsubscription</th>\n",
       "      <td>440764.0</td>\n",
       "      <td>2.415642</td>\n",
       "      <td>5.866521</td>\n",
       "      <td>0.0</td>\n",
       "      <td>0.0</td>\n",
       "      <td>0.0</td>\n",
       "      <td>0.0</td>\n",
       "      <td>2.0</td>\n",
       "      <td>24.0</td>\n",
       "      <td>731.0</td>\n",
       "    </tr>\n",
       "  </tbody>\n",
       "</table>\n",
       "</div>"
      ],
      "text/plain": [
       "                                      count      mean       std  min   1%  \\\n",
       "totalloans_membershipsubscription  440764.0  2.415642  5.866521  0.0  0.0   \n",
       "\n",
       "                                   25%  50%  75%   99%    max  \n",
       "totalloans_membershipsubscription  0.0  0.0  2.0  24.0  731.0  "
      ]
     },
     "execution_count": 53,
     "metadata": {},
     "output_type": "execute_result"
    }
   ],
   "source": [
    "df_last_transaction[['totalloans_membershipsubscription']].describe([0.01,0.25, 0.75, .99]).T"
   ]
  },
  {
   "cell_type": "code",
   "execution_count": 55,
   "metadata": {},
   "outputs": [
    {
     "data": {
      "image/png": "[encoded data removed]",
      "text/plain": [
       "<Figure size 720x432 with 1 Axes>"
      ]
     },
     "metadata": {
      "needs_background": "light"
     },
     "output_type": "display_data"
    }
   ],
   "source": [
    "# Filtering 99% of the data\n",
    "df_last_transaction_filtered = (\n",
    "    df_last_transaction[['totalloans_membershipsubscription']]\n",
    "    .query('totalloans_membershipsubscription <= 24')\n",
    ")\n",
    "\n",
    "bin_width = 1\n",
    "\n",
    "fig, ax = plt.subplots(figsize = (10,6))\n",
    "(\n",
    "    df_last_transaction_filtered[['totalloans_membershipsubscription']]\n",
    "        .hist(bins = np.arange(\n",
    "                np.min(df_last_transaction_filtered.totalloans_membershipsubscription), \n",
    "                np.max(df_last_transaction_filtered.totalloans_membershipsubscription) + bin_width, \n",
    "                bin_width),\n",
    "              ax = ax\n",
    "        ) \n",
    ")\n",
    "plt.title(\"Histogram of totalloans_membershipsubscription for 99% of the observations.\")\n",
    "plt.show()"
   ]
  },
  {
   "cell_type": "markdown",
   "metadata": {},
   "source": [
    "### totaltransactions\n"
   ]
  },
  {
   "cell_type": "code",
   "execution_count": 90,
   "metadata": {},
   "outputs": [
    {
     "data": {
      "text/plain": [
       "totaltransactions    0\n",
       "dtype: int64"
      ]
     },
     "execution_count": 90,
     "metadata": {},
     "output_type": "execute_result"
    }
   ],
   "source": [
    "df_last_transaction[['totaltransactions']].isna().sum()"
   ]
  },
  {
   "cell_type": "code",
   "execution_count": 91,
   "metadata": {},
   "outputs": [
    {
     "data": {
      "text/plain": [
       "totaltransactions    0.0\n",
       "dtype: float64"
      ]
     },
     "execution_count": 91,
     "metadata": {},
     "output_type": "execute_result"
    }
   ],
   "source": [
    "df_last_transaction[['totaltransactions']].isna().mean()"
   ]
  },
  {
   "cell_type": "markdown",
   "metadata": {},
   "source": [
    "* OBSERVATION: Lucas told me that at the moment we only have successful transactions."
   ]
  },
  {
   "cell_type": "code",
   "execution_count": 57,
   "metadata": {},
   "outputs": [
    {
     "data": {
      "text/html": [
       "<div>\n",
       "<style scoped>\n",
       "    .dataframe tbody tr th:only-of-type {\n",
       "        vertical-align: middle;\n",
       "    }\n",
       "\n",
       "    .dataframe tbody tr th {\n",
       "        vertical-align: top;\n",
       "    }\n",
       "\n",
       "    .dataframe thead th {\n",
       "        text-align: right;\n",
       "    }\n",
       "</style>\n",
       "<table border=\"1\" class=\"dataframe\">\n",
       "  <thead>\n",
       "    <tr style=\"text-align: right;\">\n",
       "      <th></th>\n",
       "      <th>count</th>\n",
       "      <th>mean</th>\n",
       "      <th>std</th>\n",
       "      <th>min</th>\n",
       "      <th>1%</th>\n",
       "      <th>25%</th>\n",
       "      <th>50%</th>\n",
       "      <th>75%</th>\n",
       "      <th>99%</th>\n",
       "      <th>max</th>\n",
       "    </tr>\n",
       "  </thead>\n",
       "  <tbody>\n",
       "    <tr>\n",
       "      <th>totaltransactions</th>\n",
       "      <td>1314068.0</td>\n",
       "      <td>318.741651</td>\n",
       "      <td>8314.348426</td>\n",
       "      <td>1.0</td>\n",
       "      <td>1.0</td>\n",
       "      <td>28.0</td>\n",
       "      <td>96.0</td>\n",
       "      <td>281.0</td>\n",
       "      <td>2481.0</td>\n",
       "      <td>8254231.0</td>\n",
       "    </tr>\n",
       "  </tbody>\n",
       "</table>\n",
       "</div>"
      ],
      "text/plain": [
       "                       count        mean          std  min   1%   25%   50%  \\\n",
       "totaltransactions  1314068.0  318.741651  8314.348426  1.0  1.0  28.0  96.0   \n",
       "\n",
       "                     75%     99%        max  \n",
       "totaltransactions  281.0  2481.0  8254231.0  "
      ]
     },
     "execution_count": 57,
     "metadata": {},
     "output_type": "execute_result"
    }
   ],
   "source": [
    "df_last_transaction[['totaltransactions']].describe([0.01,0.25, 0.75, .99]).T"
   ]
  },
  {
   "cell_type": "code",
   "execution_count": 59,
   "metadata": {},
   "outputs": [
    {
     "data": {
      "image/png": "[encoded data removed]",
      "text/plain": [
       "<Figure size 720x432 with 1 Axes>"
      ]
     },
     "metadata": {
      "needs_background": "light"
     },
     "output_type": "display_data"
    }
   ],
   "source": [
    "# Filtering 99% of the data\n",
    "df_last_transaction_filtered = (\n",
    "    df_last_transaction[['totaltransactions']]\n",
    "    .query('totaltransactions <= 2481')\n",
    ")\n",
    "\n",
    "bin_width = 20\n",
    "\n",
    "fig, ax = plt.subplots(figsize = (10,6))\n",
    "(\n",
    "    df_last_transaction_filtered[['totaltransactions']]\n",
    "        .hist(bins = np.arange(\n",
    "                np.min(df_last_transaction_filtered.totaltransactions), \n",
    "                np.max(df_last_transaction_filtered.totaltransactions) + bin_width, \n",
    "                bin_width),\n",
    "              ax = ax\n",
    "        ) \n",
    ")\n",
    "plt.title(\"Histogram of totaltransactions for 99% of the observations.\")\n",
    "plt.show()"
   ]
  },
  {
   "cell_type": "markdown",
   "metadata": {},
   "source": [
    "### totaltransactions_highway \n"
   ]
  },
  {
   "cell_type": "code",
   "execution_count": 88,
   "metadata": {},
   "outputs": [
    {
     "data": {
      "text/plain": [
       "totaltransactions_highway    0\n",
       "dtype: int64"
      ]
     },
     "execution_count": 88,
     "metadata": {},
     "output_type": "execute_result"
    }
   ],
   "source": [
    "df_last_transaction[['totaltransactions_highway']].isna().sum()"
   ]
  },
  {
   "cell_type": "code",
   "execution_count": 89,
   "metadata": {},
   "outputs": [
    {
     "data": {
      "text/plain": [
       "totaltransactions_highway    0.0\n",
       "dtype: float64"
      ]
     },
     "execution_count": 89,
     "metadata": {},
     "output_type": "execute_result"
    }
   ],
   "source": [
    "df_last_transaction[['totaltransactions_highway']].isna().mean()"
   ]
  },
  {
   "cell_type": "code",
   "execution_count": 64,
   "metadata": {},
   "outputs": [
    {
     "data": {
      "text/html": [
       "<div>\n",
       "<style scoped>\n",
       "    .dataframe tbody tr th:only-of-type {\n",
       "        vertical-align: middle;\n",
       "    }\n",
       "\n",
       "    .dataframe tbody tr th {\n",
       "        vertical-align: top;\n",
       "    }\n",
       "\n",
       "    .dataframe thead th {\n",
       "        text-align: right;\n",
       "    }\n",
       "</style>\n",
       "<table border=\"1\" class=\"dataframe\">\n",
       "  <thead>\n",
       "    <tr style=\"text-align: right;\">\n",
       "      <th></th>\n",
       "      <th>count</th>\n",
       "      <th>mean</th>\n",
       "      <th>std</th>\n",
       "      <th>min</th>\n",
       "      <th>1%</th>\n",
       "      <th>25%</th>\n",
       "      <th>50%</th>\n",
       "      <th>75%</th>\n",
       "      <th>99%</th>\n",
       "      <th>max</th>\n",
       "    </tr>\n",
       "  </thead>\n",
       "  <tbody>\n",
       "    <tr>\n",
       "      <th>totaltransactions_highway</th>\n",
       "      <td>1314068.0</td>\n",
       "      <td>282.134741</td>\n",
       "      <td>7888.552004</td>\n",
       "      <td>0.0</td>\n",
       "      <td>0.0</td>\n",
       "      <td>19.0</td>\n",
       "      <td>73.0</td>\n",
       "      <td>231.0</td>\n",
       "      <td>2313.0</td>\n",
       "      <td>7840398.0</td>\n",
       "    </tr>\n",
       "  </tbody>\n",
       "</table>\n",
       "</div>"
      ],
      "text/plain": [
       "                               count        mean          std  min   1%   25%  \\\n",
       "totaltransactions_highway  1314068.0  282.134741  7888.552004  0.0  0.0  19.0   \n",
       "\n",
       "                            50%    75%     99%        max  \n",
       "totaltransactions_highway  73.0  231.0  2313.0  7840398.0  "
      ]
     },
     "execution_count": 64,
     "metadata": {},
     "output_type": "execute_result"
    }
   ],
   "source": [
    "df_last_transaction[['totaltransactions_highway']].describe([0.01,0.25, 0.75, .99]).T"
   ]
  },
  {
   "cell_type": "code",
   "execution_count": 65,
   "metadata": {},
   "outputs": [
    {
     "data": {
      "image/png": "[encoded data removed]",
      "text/plain": [
       "<Figure size 720x432 with 1 Axes>"
      ]
     },
     "metadata": {
      "needs_background": "light"
     },
     "output_type": "display_data"
    }
   ],
   "source": [
    "# Filtering 99% of the data\n",
    "df_last_transaction_filtered = (\n",
    "    df_last_transaction[['totaltransactions_highway']]\n",
    "    .query('totaltransactions_highway <= 2314')\n",
    ")\n",
    "\n",
    "bin_width = 20\n",
    "\n",
    "fig, ax = plt.subplots(figsize = (10,6))\n",
    "(\n",
    "    df_last_transaction_filtered[['totaltransactions_highway']]\n",
    "        .hist(bins = np.arange(\n",
    "                np.min(df_last_transaction_filtered.totaltransactions_highway), \n",
    "                np.max(df_last_transaction_filtered.totaltransactions_highway) + bin_width, \n",
    "                bin_width),\n",
    "              ax = ax\n",
    "        ) \n",
    ")\n",
    "plt.title(\"Histogram of totaltransactions_highway for 99% of the observations.\")\n",
    "plt.show()"
   ]
  },
  {
   "cell_type": "markdown",
   "metadata": {},
   "source": [
    "### totatransactions_parkinglot\n"
   ]
  },
  {
   "cell_type": "code",
   "execution_count": 86,
   "metadata": {},
   "outputs": [
    {
     "data": {
      "text/plain": [
       "totatransactions_parkinglot    0\n",
       "dtype: int64"
      ]
     },
     "execution_count": 86,
     "metadata": {},
     "output_type": "execute_result"
    }
   ],
   "source": [
    "df_last_transaction[['totatransactions_parkinglot']].isna().sum()"
   ]
  },
  {
   "cell_type": "code",
   "execution_count": 87,
   "metadata": {},
   "outputs": [
    {
     "data": {
      "text/plain": [
       "totatransactions_parkinglot    0.0\n",
       "dtype: float64"
      ]
     },
     "execution_count": 87,
     "metadata": {},
     "output_type": "execute_result"
    }
   ],
   "source": [
    "df_last_transaction[['totatransactions_parkinglot']].isna().mean()"
   ]
  },
  {
   "cell_type": "code",
   "execution_count": 67,
   "metadata": {},
   "outputs": [
    {
     "data": {
      "text/html": [
       "<div>\n",
       "<style scoped>\n",
       "    .dataframe tbody tr th:only-of-type {\n",
       "        vertical-align: middle;\n",
       "    }\n",
       "\n",
       "    .dataframe tbody tr th {\n",
       "        vertical-align: top;\n",
       "    }\n",
       "\n",
       "    .dataframe thead th {\n",
       "        text-align: right;\n",
       "    }\n",
       "</style>\n",
       "<table border=\"1\" class=\"dataframe\">\n",
       "  <thead>\n",
       "    <tr style=\"text-align: right;\">\n",
       "      <th></th>\n",
       "      <th>count</th>\n",
       "      <th>mean</th>\n",
       "      <th>std</th>\n",
       "      <th>min</th>\n",
       "      <th>1%</th>\n",
       "      <th>25%</th>\n",
       "      <th>50%</th>\n",
       "      <th>75%</th>\n",
       "      <th>99%</th>\n",
       "      <th>max</th>\n",
       "    </tr>\n",
       "  </thead>\n",
       "  <tbody>\n",
       "    <tr>\n",
       "      <th>totatransactions_parkinglot</th>\n",
       "      <td>1314068.0</td>\n",
       "      <td>1.532104</td>\n",
       "      <td>49.179825</td>\n",
       "      <td>0.0</td>\n",
       "      <td>0.0</td>\n",
       "      <td>0.0</td>\n",
       "      <td>0.0</td>\n",
       "      <td>0.0</td>\n",
       "      <td>13.0</td>\n",
       "      <td>26843.0</td>\n",
       "    </tr>\n",
       "  </tbody>\n",
       "</table>\n",
       "</div>"
      ],
      "text/plain": [
       "                                 count      mean        std  min   1%  25%  \\\n",
       "totatransactions_parkinglot  1314068.0  1.532104  49.179825  0.0  0.0  0.0   \n",
       "\n",
       "                             50%  75%   99%      max  \n",
       "totatransactions_parkinglot  0.0  0.0  13.0  26843.0  "
      ]
     },
     "execution_count": 67,
     "metadata": {},
     "output_type": "execute_result"
    }
   ],
   "source": [
    "df_last_transaction[['totatransactions_parkinglot']].describe([0.01,0.25, 0.75, .99]).T"
   ]
  },
  {
   "cell_type": "code",
   "execution_count": 68,
   "metadata": {},
   "outputs": [
    {
     "data": {
      "image/png": "[encoded data removed]",
      "text/plain": [
       "<Figure size 720x432 with 1 Axes>"
      ]
     },
     "metadata": {
      "needs_background": "light"
     },
     "output_type": "display_data"
    }
   ],
   "source": [
    "# Filtering 99% of the data\n",
    "df_last_transaction_filtered = (\n",
    "    df_last_transaction[['totatransactions_parkinglot']]\n",
    "    .query('totatransactions_parkinglot <= 13')\n",
    ")\n",
    "\n",
    "bin_width = 1\n",
    "\n",
    "fig, ax = plt.subplots(figsize = (10,6))\n",
    "(\n",
    "    df_last_transaction_filtered[['totatransactions_parkinglot']]\n",
    "        .hist(bins = np.arange(\n",
    "                np.min(df_last_transaction_filtered.totatransactions_parkinglot), \n",
    "                np.max(df_last_transaction_filtered.totatransactions_parkinglot) + bin_width, \n",
    "                bin_width),\n",
    "              ax = ax\n",
    "        ) \n",
    ")\n",
    "plt.title(\"Histogram of totatransactions_parkinglot for 99% of the observations.\")\n",
    "plt.show()"
   ]
  },
  {
   "cell_type": "markdown",
   "metadata": {},
   "source": [
    "### totaltransactions_membershipsubscription\n"
   ]
  },
  {
   "cell_type": "code",
   "execution_count": 84,
   "metadata": {},
   "outputs": [
    {
     "data": {
      "text/plain": [
       "totaltransactions_membershipsubscription    0\n",
       "dtype: int64"
      ]
     },
     "execution_count": 84,
     "metadata": {},
     "output_type": "execute_result"
    }
   ],
   "source": [
    "df_last_transaction[['totaltransactions_membershipsubscription']].isna().sum()"
   ]
  },
  {
   "cell_type": "code",
   "execution_count": 85,
   "metadata": {},
   "outputs": [
    {
     "data": {
      "text/plain": [
       "totaltransactions_membershipsubscription    0.0\n",
       "dtype: float64"
      ]
     },
     "execution_count": 85,
     "metadata": {},
     "output_type": "execute_result"
    }
   ],
   "source": [
    "df_last_transaction[['totaltransactions_membershipsubscription']].isna().mean()"
   ]
  },
  {
   "cell_type": "code",
   "execution_count": 69,
   "metadata": {},
   "outputs": [
    {
     "data": {
      "text/html": [
       "<div>\n",
       "<style scoped>\n",
       "    .dataframe tbody tr th:only-of-type {\n",
       "        vertical-align: middle;\n",
       "    }\n",
       "\n",
       "    .dataframe tbody tr th {\n",
       "        vertical-align: top;\n",
       "    }\n",
       "\n",
       "    .dataframe thead th {\n",
       "        text-align: right;\n",
       "    }\n",
       "</style>\n",
       "<table border=\"1\" class=\"dataframe\">\n",
       "  <thead>\n",
       "    <tr style=\"text-align: right;\">\n",
       "      <th></th>\n",
       "      <th>count</th>\n",
       "      <th>mean</th>\n",
       "      <th>std</th>\n",
       "      <th>min</th>\n",
       "      <th>1%</th>\n",
       "      <th>25%</th>\n",
       "      <th>50%</th>\n",
       "      <th>75%</th>\n",
       "      <th>99%</th>\n",
       "      <th>max</th>\n",
       "    </tr>\n",
       "  </thead>\n",
       "  <tbody>\n",
       "    <tr>\n",
       "      <th>totaltransactions_membershipsubscription</th>\n",
       "      <td>1314068.0</td>\n",
       "      <td>13.971922</td>\n",
       "      <td>24.310094</td>\n",
       "      <td>0.0</td>\n",
       "      <td>0.0</td>\n",
       "      <td>0.0</td>\n",
       "      <td>3.0</td>\n",
       "      <td>18.0</td>\n",
       "      <td>107.0</td>\n",
       "      <td>1541.0</td>\n",
       "    </tr>\n",
       "  </tbody>\n",
       "</table>\n",
       "</div>"
      ],
      "text/plain": [
       "                                              count       mean        std  \\\n",
       "totaltransactions_membershipsubscription  1314068.0  13.971922  24.310094   \n",
       "\n",
       "                                          min   1%  25%  50%   75%    99%  \\\n",
       "totaltransactions_membershipsubscription  0.0  0.0  0.0  3.0  18.0  107.0   \n",
       "\n",
       "                                             max  \n",
       "totaltransactions_membershipsubscription  1541.0  "
      ]
     },
     "execution_count": 69,
     "metadata": {},
     "output_type": "execute_result"
    }
   ],
   "source": [
    "df_last_transaction[['totaltransactions_membershipsubscription']].describe([0.01,0.25, 0.75, .99]).T"
   ]
  },
  {
   "cell_type": "code",
   "execution_count": 70,
   "metadata": {},
   "outputs": [
    {
     "data": {
      "image/png": "[encoded data removed]",
      "text/plain": [
       "<Figure size 720x432 with 1 Axes>"
      ]
     },
     "metadata": {
      "needs_background": "light"
     },
     "output_type": "display_data"
    }
   ],
   "source": [
    "# Filtering 99% of the data\n",
    "df_last_transaction_filtered = (\n",
    "    df_last_transaction[['totaltransactions_membershipsubscription']]\n",
    "    .query('totaltransactions_membershipsubscription <= 107')\n",
    ")\n",
    "\n",
    "bin_width = 1\n",
    "\n",
    "fig, ax = plt.subplots(figsize = (10,6))\n",
    "(\n",
    "    df_last_transaction_filtered[['totaltransactions_membershipsubscription']]\n",
    "        .hist(bins = np.arange(\n",
    "                np.min(df_last_transaction_filtered.totaltransactions_membershipsubscription), \n",
    "                np.max(df_last_transaction_filtered.totaltransactions_membershipsubscription) + bin_width, \n",
    "                bin_width),\n",
    "              ax = ax\n",
    "        ) \n",
    ")\n",
    "plt.title(\"Histogram of totaltransactions_membershipsubscription for 99% of the observations.\")\n",
    "plt.show()"
   ]
  },
  {
   "cell_type": "markdown",
   "metadata": {},
   "source": [
    "### avaragebalance\n"
   ]
  },
  {
   "cell_type": "code",
   "execution_count": 82,
   "metadata": {},
   "outputs": [
    {
     "data": {
      "text/plain": [
       "avaragebalance    0\n",
       "dtype: int64"
      ]
     },
     "execution_count": 82,
     "metadata": {},
     "output_type": "execute_result"
    }
   ],
   "source": [
    "df_last_transaction[['avaragebalance']].isna().sum()"
   ]
  },
  {
   "cell_type": "code",
   "execution_count": 83,
   "metadata": {},
   "outputs": [
    {
     "data": {
      "text/plain": [
       "avaragebalance    0.0\n",
       "dtype: float64"
      ]
     },
     "execution_count": 83,
     "metadata": {},
     "output_type": "execute_result"
    }
   ],
   "source": [
    "df_last_transaction[['avaragebalance']].isna().mean()"
   ]
  },
  {
   "cell_type": "code",
   "execution_count": 71,
   "metadata": {},
   "outputs": [
    {
     "data": {
      "text/html": [
       "<div>\n",
       "<style scoped>\n",
       "    .dataframe tbody tr th:only-of-type {\n",
       "        vertical-align: middle;\n",
       "    }\n",
       "\n",
       "    .dataframe tbody tr th {\n",
       "        vertical-align: top;\n",
       "    }\n",
       "\n",
       "    .dataframe thead th {\n",
       "        text-align: right;\n",
       "    }\n",
       "</style>\n",
       "<table border=\"1\" class=\"dataframe\">\n",
       "  <thead>\n",
       "    <tr style=\"text-align: right;\">\n",
       "      <th></th>\n",
       "      <th>count</th>\n",
       "      <th>mean</th>\n",
       "      <th>std</th>\n",
       "      <th>min</th>\n",
       "      <th>1%</th>\n",
       "      <th>25%</th>\n",
       "      <th>50%</th>\n",
       "      <th>75%</th>\n",
       "      <th>99%</th>\n",
       "      <th>max</th>\n",
       "    </tr>\n",
       "  </thead>\n",
       "  <tbody>\n",
       "    <tr>\n",
       "      <th>avaragebalance</th>\n",
       "      <td>1314068.0</td>\n",
       "      <td>43.080851</td>\n",
       "      <td>16042.484915</td>\n",
       "      <td>-13832991.22</td>\n",
       "      <td>-26.44</td>\n",
       "      <td>39.18</td>\n",
       "      <td>52.25</td>\n",
       "      <td>74.21</td>\n",
       "      <td>289.6333</td>\n",
       "      <td>176928.36</td>\n",
       "    </tr>\n",
       "  </tbody>\n",
       "</table>\n",
       "</div>"
      ],
      "text/plain": [
       "                    count       mean           std          min     1%    25%  \\\n",
       "avaragebalance  1314068.0  43.080851  16042.484915 -13832991.22 -26.44  39.18   \n",
       "\n",
       "                  50%    75%       99%        max  \n",
       "avaragebalance  52.25  74.21  289.6333  176928.36  "
      ]
     },
     "execution_count": 71,
     "metadata": {},
     "output_type": "execute_result"
    }
   ],
   "source": [
    "df_last_transaction[['avaragebalance']].describe([0.01,0.25, 0.75, .99]).T"
   ]
  },
  {
   "cell_type": "code",
   "execution_count": 74,
   "metadata": {},
   "outputs": [
    {
     "data": {
      "image/png": "[encoded data removed]",
      "text/plain": [
       "<Figure size 720x432 with 1 Axes>"
      ]
     },
     "metadata": {
      "needs_background": "light"
     },
     "output_type": "display_data"
    }
   ],
   "source": [
    "# Filtering 99% of the data\n",
    "df_last_transaction_filtered = (\n",
    "    df_last_transaction[['avaragebalance']]\n",
    "    .query('avaragebalance >= -27and avaragebalance <= 290')\n",
    ")\n",
    "\n",
    "bin_width = 20\n",
    "\n",
    "fig, ax = plt.subplots(figsize = (10,6))\n",
    "(\n",
    "    df_last_transaction_filtered[['avaragebalance']]\n",
    "        .hist(bins = np.arange(\n",
    "                np.min(df_last_transaction_filtered.avaragebalance), \n",
    "                np.max(df_last_transaction_filtered.avaragebalance) + bin_width, \n",
    "                bin_width),\n",
    "              ax = ax\n",
    "        ) \n",
    ")\n",
    "plt.title(\"Histogram of avaragebalance for 99% of the observations.\")\n",
    "plt.show()"
   ]
  },
  {
   "cell_type": "markdown",
   "metadata": {},
   "source": [
    "### avaragerecharge\n",
    "\n",
    "- Only 3% of the observations have missing values.\n",
    "- They can be imputed."
   ]
  },
  {
   "cell_type": "code",
   "execution_count": 81,
   "metadata": {},
   "outputs": [
    {
     "data": {
      "text/plain": [
       "avaragerecharge    40450\n",
       "dtype: int64"
      ]
     },
     "execution_count": 81,
     "metadata": {},
     "output_type": "execute_result"
    }
   ],
   "source": [
    "df_last_transaction[['avaragerecharge']].isna().sum()"
   ]
  },
  {
   "cell_type": "code",
   "execution_count": 80,
   "metadata": {},
   "outputs": [
    {
     "data": {
      "text/plain": [
       "avaragerecharge    0.030782\n",
       "dtype: float64"
      ]
     },
     "execution_count": 80,
     "metadata": {},
     "output_type": "execute_result"
    }
   ],
   "source": [
    "df_last_transaction[['avaragerecharge']].isna().mean()"
   ]
  },
  {
   "cell_type": "code",
   "execution_count": 76,
   "metadata": {},
   "outputs": [
    {
     "data": {
      "text/html": [
       "<div>\n",
       "<style scoped>\n",
       "    .dataframe tbody tr th:only-of-type {\n",
       "        vertical-align: middle;\n",
       "    }\n",
       "\n",
       "    .dataframe tbody tr th {\n",
       "        vertical-align: top;\n",
       "    }\n",
       "\n",
       "    .dataframe thead th {\n",
       "        text-align: right;\n",
       "    }\n",
       "</style>\n",
       "<table border=\"1\" class=\"dataframe\">\n",
       "  <thead>\n",
       "    <tr style=\"text-align: right;\">\n",
       "      <th></th>\n",
       "      <th>count</th>\n",
       "      <th>mean</th>\n",
       "      <th>std</th>\n",
       "      <th>min</th>\n",
       "      <th>1%</th>\n",
       "      <th>25%</th>\n",
       "      <th>50%</th>\n",
       "      <th>75%</th>\n",
       "      <th>99%</th>\n",
       "      <th>max</th>\n",
       "    </tr>\n",
       "  </thead>\n",
       "  <tbody>\n",
       "    <tr>\n",
       "      <th>avaragerecharge</th>\n",
       "      <td>1273618.0</td>\n",
       "      <td>89.575188</td>\n",
       "      <td>281.841739</td>\n",
       "      <td>-23.0</td>\n",
       "      <td>25.0</td>\n",
       "      <td>50.0</td>\n",
       "      <td>65.0</td>\n",
       "      <td>100.0</td>\n",
       "      <td>350.0</td>\n",
       "      <td>92528.08</td>\n",
       "    </tr>\n",
       "  </tbody>\n",
       "</table>\n",
       "</div>"
      ],
      "text/plain": [
       "                     count       mean         std   min    1%   25%   50%  \\\n",
       "avaragerecharge  1273618.0  89.575188  281.841739 -23.0  25.0  50.0  65.0   \n",
       "\n",
       "                   75%    99%       max  \n",
       "avaragerecharge  100.0  350.0  92528.08  "
      ]
     },
     "execution_count": 76,
     "metadata": {},
     "output_type": "execute_result"
    }
   ],
   "source": [
    "df_last_transaction[['avaragerecharge']].describe([0.01,0.25, 0.75, .99]).T"
   ]
  },
  {
   "cell_type": "code",
   "execution_count": 78,
   "metadata": {},
   "outputs": [
    {
     "data": {
      "image/png": "[encoded data removed]",
      "text/plain": [
       "<Figure size 720x432 with 1 Axes>"
      ]
     },
     "metadata": {
      "needs_background": "light"
     },
     "output_type": "display_data"
    }
   ],
   "source": [
    "# Filtering 99% of the data\n",
    "df_last_transaction_filtered = (\n",
    "    df_last_transaction[['avaragebalance']]\n",
    "    .query('avaragebalance >= 0 and avaragebalance <= 350')\n",
    ")\n",
    "\n",
    "bin_width = 20\n",
    "\n",
    "fig, ax = plt.subplots(figsize = (10,6))\n",
    "(\n",
    "    df_last_transaction_filtered[['avaragebalance']]\n",
    "        .hist(bins = np.arange(\n",
    "                np.min(df_last_transaction_filtered.avaragebalance), \n",
    "                np.max(df_last_transaction_filtered.avaragebalance) + bin_width, \n",
    "                bin_width),\n",
    "              ax = ax\n",
    "        ) \n",
    ")\n",
    "plt.title(\"Histogram of avaragebalance for 99% of the observations.\")\n",
    "plt.show()"
   ]
  }
 ],
 "metadata": {
  "instance_type": "ml.m5.large",
  "kernelspec": {
   "display_name": "Python 3 (Data Science)",
   "language": "python",
   "name": "python3__SAGEMAKER_INTERNAL__arn:aws:sagemaker:us-east-2:429704687514:image/datascience-1.0"
  },
  "language_info": {
   "codemirror_mode": {
    "name": "ipython",
    "version": 3
   },
   "file_extension": ".py",
   "mimetype": "text/x-python",
   "name": "python",
   "nbconvert_exporter": "python",
   "pygments_lexer": "ipython3",
   "version": "3.7.10"
  }
 },
 "nbformat": 4,
 "nbformat_minor": 4
}
