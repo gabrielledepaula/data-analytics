{
 "cells": [
  {
   "attachments": {},
   "cell_type": "markdown",
   "metadata": {},
   "source": [
    "### Criando a conexão"
   ]
  },
  {
   "cell_type": "code",
   "execution_count": 1,
   "metadata": {},
   "outputs": [],
   "source": [
    "import psycopg2 #biblioteca para conectar ao banco\n",
    "import pandas as pd #biblioteca para criação e gerenciamento de data frame. Também utilizada para exportar o dataframe para csv\n",
    "import pandas.io.sql as sqlio #utilizado para integrar o sql com pandas, permitindo exportar os dados direto do banco para um dataframe"
   ]
  },
  {
   "cell_type": "code",
   "execution_count": 9,
   "metadata": {},
   "outputs": [],
   "source": [
    "conn = psycopg2.connect(    \n",
    "    database=\"conectcar\",\n",
    "    user=\"raul_correa\", \n",
    "    password=\"Conect@091!\",\n",
    "    host=\"sdlf-cntcar-redshift-dev.capkkn406tig.us-east-2.redshift.amazonaws.com\",\n",
    "    port=\"5439\"\n",
    ")"
   ]
  },
  {
   "attachments": {},
   "cell_type": "markdown",
   "metadata": {},
   "source": [
    "### Bases Habilitadas - fotos por período"
   ]
  },
  {
   "attachments": {},
   "cell_type": "markdown",
   "metadata": {},
   "source": [
    "#### *fotos mensal 09 meses atrás*"
   ]
  },
  {
   "cell_type": "code",
   "execution_count": 10,
   "metadata": {},
   "outputs": [],
   "source": [
    "#version 3.0\n",
    "cte_BasePF_Clientes1Placa_09 = \"\"\"\"\n",
    "DROP TABLE IF EXISTS #MesRef_09;\n",
    "CREATE TABLE #MesRef_09 (MesRefVar DATE);\n",
    "INSERT INTO #MesRef_09\n",
    "select TO_DATE(ADD_MONTHS(current_date, -9), 'YYYY-MM-01') as MesRefVar\n",
    ";\n",
    "\n",
    "DROP TABLE IF EXISTS #baseHabilitada_09;\n",
    "CREATE TABLE #baseHabilitada_09 (documento VARCHAR, anomes DATE, agregado VARCHAR, anomesCancelamento DATE);\n",
    "INSERT INTO #baseHabilitada_09\n",
    "select distinct\n",
    "d.documento*1 :: float as documento,\n",
    "TO_DATE(datahabilitada, 'YYYY-MM-01') as anomes,\n",
    "a.agregado as agregado,\n",
    "TO_DATE(b.datacancelamento, 'YYYY-MM-01') as anomesCancelamento\n",
    "from cntcar_work.vw_redshift_ciclodevida_basehabilitada_stage as a\n",
    "left join cntcar_work.tb_conectcar_dbo_adesao_stage as b on a.adesaoid = b.adesaoid\n",
    "left join cntcar_work.tb_conectcar_dbo_veiculo_stage as c on b.veiculoID = c.veiculo_id\n",
    "left join conectcar.cntcar_work.tb_conectcar_dbo_cliente_stage as d on b.Clienteid = d.Clienteid\n",
    "where anomes = (SELECT MesRefVar FROM #MesRef_09)\n",
    "and len(documento) <= 11\n",
    ";\n",
    "\n",
    "DROP TABLE IF EXISTS #flagPlacasas_09;\n",
    "CREATE TABLE #flagPlacasas_09 (documento VARCHAR, flagPlacas FLOAT);\n",
    "INSERT INTO #flagPlacasas_09\n",
    "select\n",
    "documento,\n",
    "count (documento) as flagPlacas\n",
    "from #baseHabilitada_09\n",
    "group by documento\n",
    "having flagPlacas > 1\n",
    "order by flagPlacas desc\n",
    ";\n",
    "\n",
    "DROP TABLE IF EXISTS #baseHabilitada_09PFCom1PlacaSemPorto;\n",
    "CREATE TABLE #baseHabilitada_09PFCom1PlacaSemPorto (documento VARCHAR, anomes DATE, agregado VARCHAR, anomescancelamento DATE);\n",
    "INSERT INTO #baseHabilitada_09PFCom1PlacaSemPorto\n",
    "select\n",
    "a.documento ::float,\n",
    "a.anomes,\n",
    "a.agregado,\n",
    "a.anomescancelamento\n",
    "from #baseHabilitada_09 a\n",
    "left join #flagPlacasas_09 b\n",
    "on a.documento = b.documento\n",
    "where b.flagPlacas is NULL\n",
    ";\n",
    "\n",
    "DROP TABLE IF EXISTS #baseHabilitada_09Porto;\n",
    "CREATE TABLE #baseHabilitada_09Porto (documento VARCHAR, anomes DATE, agregado VARCHAR, anomescancelamento DATE);\n",
    "INSERT INTO #baseHabilitada_09Porto\n",
    "select\n",
    "regexp_replace(c.codigointernoparceiro,'[^0-9]+', '') as Documento,\n",
    "TO_DATE(datahabilitada, 'YYYY-MM-01') as anomes,\n",
    "p.agregado,\n",
    "TO_DATE(a.datacancelamento, 'YYYY-MM-01') as anomescancelamento\n",
    "from cntcar_work.vw_redshift_ciclodevida_basehabilitada_stage as bh\n",
    "left outer join cntcar_work.tb_parceiro_dbo_ativacaocontrato_stage ac on ac.adesaoid = bh.adesaoid\n",
    "left outer join cntcar_work.tb_parceiro_dbo_contrato_stage c on c.contratoid = ac.contratoid\n",
    "left outer join cntcar_work.vw_redshift_ciclodevida_ativacao a on a.adesaoid = ac.adesaoid\n",
    "left outer join cntcar_work.vw_ciclodevida_portifolio p on p.adesaoid = bh.adesaoid\n",
    "where\n",
    "upper(p.agregado) = 'PORTO SEGURO'\n",
    "and upper(p.detalhado) not in ('CARROFACIL','CARRO FACIL','CARRO FÁCIL')\n",
    "and upper(a.nomeplano) <> 'LOCADORA'\n",
    "and TO_DATE(datahabilitada, 'YYYY-MM-01') = (SELECT MesRefVar FROM #MesRef_09)\n",
    ";\n",
    "DROP TABLE IF EXISTS #flagPlacasasPorto_09;\n",
    "CREATE TABLE #flagPlacasasPorto_09 (documento VARCHAR, flagPlacas FLOAT);\n",
    "INSERT INTO #flagPlacasasPorto_09\n",
    "select\n",
    "documento,\n",
    "count(documento) as flagPlacas\n",
    "from #baseHabilitada_09Porto\n",
    "group by documento\n",
    "having flagPlacas > 1\n",
    ";\n",
    "DROP TABLE IF EXISTS #baseHabilitada_09PFCom1Porto;\n",
    "CREATE TABLE #baseHabilitada_09PFCom1Porto (documento VARCHAR, anomes DATE, agregado VARCHAR, anomescancelamento DATE);\n",
    "INSERT INTO #baseHabilitada_09PFCom1Porto\n",
    "select\n",
    "a.documento::float,\n",
    "a.anomes,\n",
    "a.agregado,\n",
    "a.anomescancelamento\n",
    "from #baseHabilitada_09Porto a\n",
    "left join #flagPlacasasPorto_09 b on a.documento = b.documento\n",
    "where b.flagPlacas is null and len(a.documento) <=11\n",
    ";\n",
    "DROP TABLE IF EXISTS #basefinal_09;\n",
    "CREATE TABLE #basefinal_09 (documento VARCHAR, anomes DATE, agregado VARCHAR, anomescancelamento DATE);\n",
    "INSERT INTO #basefinal_09\n",
    "select * from #baseHabilitada_09PFCom1PlacaSemPorto\n",
    "union\n",
    "select * from #baseHabilitada_09PFCom1Porto\n",
    ";\n",
    "select distinct * from #basefinal_09\n",
    "\"\"\""
   ]
  },
  {
   "cell_type": "code",
   "execution_count": 11,
   "metadata": {},
   "outputs": [
    {
     "name": "stderr",
     "output_type": "stream",
     "text": [
      "c:\\Users\\raul.correa\\Anaconda3\\lib\\site-packages\\pandas\\io\\sql.py:762: UserWarning: pandas only support SQLAlchemy connectable(engine/connection) ordatabase string URI or sqlite3 DBAPI2 connectionother DBAPI2 objects are not tested, please consider using SQLAlchemy\n",
      "  warnings.warn(\n"
     ]
    }
   ],
   "source": [
    "BasePF_Clientes1Placa_09 = sqlio.read_sql_query(cte_BasePF_Clientes1Placa_09, conn) "
   ]
  },
  {
   "cell_type": "code",
   "execution_count": 12,
   "metadata": {},
   "outputs": [
    {
     "name": "stdout",
     "output_type": "stream",
     "text": [
      "           documento      anomes      agregado anomescancelamento\n",
      "0        35986213882  2022-06-01        Básico               None\n",
      "1        35954427844  2022-06-01      COMPLETO               None\n",
      "2        88254739404  2022-06-01          Itaú         2023-02-01\n",
      "3        25834369880  2022-06-01        Básico               None\n",
      "4        22723974847  2022-06-01      COMPLETO               None\n",
      "...              ...         ...           ...                ...\n",
      "1232405  39708582832  2022-06-01  Porto Seguro               None\n",
      "1232406  34253175805  2022-06-01  Porto Seguro               None\n",
      "1232407  93202490591  2022-06-01  Porto Seguro               None\n",
      "1232408  37318952854  2022-06-01  Porto Seguro               None\n",
      "1232409   8615412430  2022-06-01  Porto Seguro         2022-11-01\n",
      "\n",
      "[1232410 rows x 4 columns]\n"
     ]
    }
   ],
   "source": [
    "print(BasePF_Clientes1Placa_09)"
   ]
  },
  {
   "cell_type": "code",
   "execution_count": null,
   "metadata": {},
   "outputs": [],
   "source": [
    "excluindo_09 = \"\"\"\n",
    "DROP TABLE IF EXISTS #MesRef_09;\n",
    "DROP TABLE IF EXISTS #baseHabilitada_09;\n",
    "DROP TABLE IF EXISTS #flagPlacasas_09;\n",
    "DROP TABLE IF EXISTS #baseHabilitada_09PFCom1Porto;\n",
    "DROP TABLE IF EXISTS #baseHabilitada_09Porto;\n",
    "DROP TABLE IF EXISTS #baseHabilitada_09PFCom1PlacaSemPorto;\n",
    "\"\"\""
   ]
  },
  {
   "cell_type": "code",
   "execution_count": null,
   "metadata": {},
   "outputs": [],
   "source": [
    "sqlio.read_sql_query(excluindo_09, conn) "
   ]
  },
  {
   "attachments": {},
   "cell_type": "markdown",
   "metadata": {},
   "source": [
    "**Cruzando os meses possuindo como referencia o primeiro mes**"
   ]
  },
  {
   "cell_type": "code",
   "execution_count": null,
   "metadata": {},
   "outputs": [],
   "source": []
  },
  {
   "cell_type": "code",
   "execution_count": null,
   "metadata": {},
   "outputs": [],
   "source": [
    "cte_BasePF_Clientes1Placa_09 = sqlio.read_sql_query(cte_BasePF_Clientes1Placa_09, conn) \n",
    "cte_BasePF_Clientes1Placa_08 = sqlio.read_sql_query(cte_BasePF_Clientes1Placa_08, conn) \n",
    "cte_BasePF_Clientes1Placa_07 = sqlio.read_sql_query(cte_BasePF_Clientes1Placa_07, conn) \n",
    "cte_BasePF_Clientes1Placa_06 = sqlio.read_sql_query(cte_BasePF_Clientes1Placa_06, conn) \n",
    "cte_BasePF_Clientes1Placa_05 = sqlio.read_sql_query(cte_BasePF_Clientes1Placa_05, conn) \n",
    "cte_BasePF_Clientes1Placa_04 = sqlio.read_sql_query(cte_BasePF_Clientes1Placa_04, conn) \n",
    "cte_BasePF_Clientes1Placa_03 = sqlio.read_sql_query(cte_BasePF_Clientes1Placa_03, conn) \n",
    "cte_BasePF_Clientes1Placa_02 = sqlio.read_sql_query(cte_BasePF_Clientes1Placa_02, conn)\n",
    "cte_BasePF_Clientes1Placa_01 = sqlio.read_sql_query(cte_BasePF_Clientes1Placa_01, conn)  \n",
    "cte_BasePF_Clientes1Placa_00 = sqlio.read_sql_query(cte_BasePF_Clientes1Placa_00, conn)  \n",
    "\n",
    "ConsolidaMeses = sqlio.read_sql_query(consolidando_meses, conn) "
   ]
  }
 ],
 "metadata": {
  "kernelspec": {
   "display_name": "base",
   "language": "python",
   "name": "python3"
  },
  "language_info": {
   "codemirror_mode": {
    "name": "ipython",
    "version": 3
   },
   "file_extension": ".py",
   "mimetype": "text/x-python",
   "name": "python",
   "nbconvert_exporter": "python",
   "pygments_lexer": "ipython3",
   "version": "3.9.13"
  },
  "orig_nbformat": 4,
  "vscode": {
   "interpreter": {
    "hash": "986918918cc538ae942ffc963b59d7d0920a66751db9100f044b32779537ddfc"
   }
  }
 },
 "nbformat": 4,
 "nbformat_minor": 2
}
