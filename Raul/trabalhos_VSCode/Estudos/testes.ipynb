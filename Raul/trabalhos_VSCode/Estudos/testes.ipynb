{
 "cells": [],
 "metadata": {
  "kernelspec": {
   "display_name": "base",
   "language": "python",
   "name": "python3"
  },
  "language_info": {
   "codemirror_mode": {
    "name": "ipython",
    "version": 3
   },
   "file_extension": ".py",
   "mimetype": "text/x-python",
   "name": "python",
   "nbconvert_exporter": "python",
   "pygments_lexer": "ipython3",
   "version": "3.9.13"
  },
  "orig_nbformat": 4,
  "vscode": {
   "interpreter": {
    "hash": "986918918cc538ae942ffc963b59d7d0920a66751db9100f044b32779537ddfc"
   }
  }
 },
 "nbformat": 4,
 "nbformat_minor": 2
}
