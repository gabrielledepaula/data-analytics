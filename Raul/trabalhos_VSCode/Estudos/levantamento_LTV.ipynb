{
 "cells": [
  {
   "cell_type": "code",
   "execution_count": 26,
   "metadata": {},
   "outputs": [],
   "source": [
    "import psycopg2 #biblioteca para conectar ao banco\n",
    "import pandas as pd #biblioteca para criação e gerenciamento de data frame. Também utilizada para exportar o dataframe para csv\n",
    "import pandas.io.sql as sqlio #utilizado para integrar o sql com pandas, permitindo exportar os dados direto do banco para um dataframe\n",
    "import matplotlib as mpl\n",
    "import seaborn as sns"
   ]
  },
  {
   "cell_type": "code",
   "execution_count": 27,
   "metadata": {},
   "outputs": [],
   "source": [
    "conn = psycopg2.connect(    \n",
    "    database=\"conectcar\",\n",
    "    user=\"raul_correa\", \n",
    "    password=\"Conect@091!\",\n",
    "    host=\"sdlf-cntcar-redshift-dev.capkkn406tig.us-east-2.redshift.amazonaws.com\",\n",
    "    port='5439'\n",
    ")"
   ]
  },
  {
   "cell_type": "code",
   "execution_count": 28,
   "metadata": {},
   "outputs": [],
   "source": [
    "LTV_month = \"\"\"\n",
    "DROP TABLE IF EXISTS #ltvfull;\n",
    "CREATE TABLE #ltvfull (adesaoid BIGINT, detalhado VARCHAR, LTV_days INT, LTV_month INT, SafraEntrada DATE,SafraSaida DATE);\n",
    "INSERT INTO #ltvfull\n",
    "SELECT \n",
    "    a.adesaoid,\n",
    "    c.detalhado,\n",
    "    DATEDIFF (day, a.data, b.datacancelamento) as LTV_days,\n",
    "    DATEDIFF (month, a.data, b.datacancelamento) as LTV_month,\n",
    "    TO_DATE(a.data,'YYYY-MM-01')  as SafraEntrada,\n",
    "    TO_DATE(b.datacancelamento,'YYYY-MM-01') as SafraSaida\n",
    "FROM cntcar_work.tb_redshift_ciclodevida_ativacao_stage as a\n",
    "LEFT JOIN cntcar_work.tb_redshift_ciclodevida_ativacao_stage as b on a.primeiraadesaoid = b.primeiraadesaoid and b.tiposaida ilike '%Cancelamento%' \n",
    "LEFT JOIN cntcar_work.tb_redshift_ciclodevida_portifolio_stage as c on a.adesaoid = c.adesaoid\n",
    "    WHERE a.adesaoorigemid is null --pegando todas as novas adesões\n",
    "    and LTV_days is not null -- excluindo clientes habilitados\n",
    "    and SafraEntrada >= '2014-01-01'\n",
    ";\n",
    "\n",
    "DROP TABLE IF EXISTS #ltvmonth;\n",
    "CREATE TABLE #ltvmonth (detalhado VARCHAR, SafraEntrada DATE, SafraSaida DATE, ltv_month INT, qtd_Adesoes INT);\n",
    "INSERT INTO #ltvmonth\n",
    "SELECT\n",
    "detalhado,\n",
    "SafraEntrada,\n",
    "SafraSaida,\n",
    "LTV_month,\n",
    "count(adesaoid) as qtd_Adesoes\n",
    "from #ltvfull\n",
    "group by 1,2,3,4\n",
    "order by 3 desc\n",
    ";\n",
    "\n",
    "SELECT * FROM #ltvmonth\n",
    "\"\"\""
   ]
  },
  {
   "cell_type": "code",
   "execution_count": 29,
   "metadata": {},
   "outputs": [],
   "source": [
    "DADOSLTV_MONTH = sqlio.read_sql_query(LTV_month, conn) \n",
    "DADOSLTV_MONTH.columns = ['detalhado', 'safraentrada', 'safrasaida','ltv_month', 'qtd_adesoes' ]"
   ]
  },
  {
   "cell_type": "code",
   "execution_count": 30,
   "metadata": {},
   "outputs": [
    {
     "name": "stdout",
     "output_type": "stream",
     "text": [
      "             detalhado safraentrada  safrasaida  ltv_month  qtd_adesoes\n",
      "0             ITAÚ TAG   2017-01-01  2020-02-01         37           12\n",
      "1             ITAÚ TAG   2021-07-01  2022-10-01         15           61\n",
      "2             ITAÚ TAG   2018-02-01  2019-07-01         17           40\n",
      "3             ITAÚ TAG   2016-12-01  2020-07-01         43           16\n",
      "4             ITAÚ TAG   2019-01-01  2020-12-01         23            5\n",
      "...                ...          ...         ...        ...          ...\n",
      "23623           BÁSICO   2018-08-01  2021-05-01         33            3\n",
      "23624  URBANO/RODOVIAS   2019-02-01  2021-03-01         25            1\n",
      "23625  PRÉ EMPRESARIAL   2014-07-01  2023-01-01        102            1\n",
      "23626           BÁSICO   2018-06-01  2021-09-01         39            1\n",
      "23627  PÓS EMPRESARIAL   2019-03-01  2020-05-01         14            1\n",
      "\n",
      "[23628 rows x 5 columns]\n"
     ]
    }
   ],
   "source": [
    "print(DADOSLTV_MONTH)"
   ]
  },
  {
   "cell_type": "code",
   "execution_count": 20,
   "metadata": {},
   "outputs": [
    {
     "data": {
      "text/html": [
       "<div>\n",
       "<style scoped>\n",
       "    .dataframe tbody tr th:only-of-type {\n",
       "        vertical-align: middle;\n",
       "    }\n",
       "\n",
       "    .dataframe tbody tr th {\n",
       "        vertical-align: top;\n",
       "    }\n",
       "\n",
       "    .dataframe thead th {\n",
       "        text-align: right;\n",
       "    }\n",
       "</style>\n",
       "<table border=\"1\" class=\"dataframe\">\n",
       "  <thead>\n",
       "    <tr style=\"text-align: right;\">\n",
       "      <th></th>\n",
       "      <th>ltv_month</th>\n",
       "      <th>qtd_adesoes</th>\n",
       "    </tr>\n",
       "  </thead>\n",
       "  <tbody>\n",
       "    <tr>\n",
       "      <th>count</th>\n",
       "      <td>1118.000000</td>\n",
       "      <td>1118.000000</td>\n",
       "    </tr>\n",
       "    <tr>\n",
       "      <th>mean</th>\n",
       "      <td>3.956172</td>\n",
       "      <td>183.708408</td>\n",
       "    </tr>\n",
       "    <tr>\n",
       "      <th>std</th>\n",
       "      <td>3.118497</td>\n",
       "      <td>970.430131</td>\n",
       "    </tr>\n",
       "    <tr>\n",
       "      <th>min</th>\n",
       "      <td>0.000000</td>\n",
       "      <td>1.000000</td>\n",
       "    </tr>\n",
       "    <tr>\n",
       "      <th>25%</th>\n",
       "      <td>1.000000</td>\n",
       "      <td>5.000000</td>\n",
       "    </tr>\n",
       "    <tr>\n",
       "      <th>50%</th>\n",
       "      <td>3.000000</td>\n",
       "      <td>19.000000</td>\n",
       "    </tr>\n",
       "    <tr>\n",
       "      <th>75%</th>\n",
       "      <td>6.000000</td>\n",
       "      <td>102.750000</td>\n",
       "    </tr>\n",
       "    <tr>\n",
       "      <th>max</th>\n",
       "      <td>12.000000</td>\n",
       "      <td>23251.000000</td>\n",
       "    </tr>\n",
       "  </tbody>\n",
       "</table>\n",
       "</div>"
      ],
      "text/plain": [
       "         ltv_month   qtd_adesoes\n",
       "count  1118.000000   1118.000000\n",
       "mean      3.956172    183.708408\n",
       "std       3.118497    970.430131\n",
       "min       0.000000      1.000000\n",
       "25%       1.000000      5.000000\n",
       "50%       3.000000     19.000000\n",
       "75%       6.000000    102.750000\n",
       "max      12.000000  23251.000000"
      ]
     },
     "execution_count": 20,
     "metadata": {},
     "output_type": "execute_result"
    }
   ],
   "source": [
    "DADOSLTV_MONTH.describe()"
   ]
  },
  {
   "cell_type": "code",
   "execution_count": 7,
   "metadata": {},
   "outputs": [
    {
     "data": {
      "text/plain": [
       "<AxesSubplot:ylabel='Frequency'>"
      ]
     },
     "execution_count": 7,
     "metadata": {},
     "output_type": "execute_result"
    },
    {
     "data": {
      "image/png": "[encoded data removed]",
      "text/plain": [
       "<Figure size 640x480 with 1 Axes>"
      ]
     },
     "metadata": {},
     "output_type": "display_data"
    }
   ],
   "source": [
    "DADOSLTV_MONTH.ltv_month.plot(kind= 'hist')"
   ]
  },
  {
   "cell_type": "code",
   "execution_count": 8,
   "metadata": {},
   "outputs": [
    {
     "data": {
      "text/plain": [
       "<AxesSubplot:ylabel='ltv_month'>"
      ]
     },
     "execution_count": 8,
     "metadata": {},
     "output_type": "execute_result"
    },
    {
     "data": {
      "image/png": "[encoded data removed]",
      "text/plain": [
       "<Figure size 640x480 with 1 Axes>"
      ]
     },
     "metadata": {},
     "output_type": "display_data"
    }
   ],
   "source": [
    "sns.boxplot( y =DADOSLTV_MONTH.ltv_month) #QUARTIS"
   ]
  },
  {
   "cell_type": "code",
   "execution_count": 30,
   "metadata": {},
   "outputs": [
    {
     "name": "stderr",
     "output_type": "stream",
     "text": [
      "c:\\Users\\raul.correa\\Anaconda3\\lib\\site-packages\\seaborn\\distributions.py:2619: FutureWarning: `distplot` is a deprecated function and will be removed in a future version. Please adapt your code to use either `displot` (a figure-level function with similar flexibility) or `histplot` (an axes-level function for histograms).\n",
      "  warnings.warn(msg, FutureWarning)\n"
     ]
    },
    {
     "data": {
      "text/plain": [
       "<AxesSubplot:xlabel='ltv_month', ylabel='Density'>"
      ]
     },
     "execution_count": 30,
     "metadata": {},
     "output_type": "execute_result"
    },
    {
     "data": {
      "image/png": "[encoded data removed]",
      "text/plain": [
       "<Figure size 640x480 with 1 Axes>"
      ]
     },
     "metadata": {},
     "output_type": "display_data"
    }
   ],
   "source": [
    "sns.distplot(DADOSLTV_MONTH.ltv_month)"
   ]
  },
  {
   "attachments": {},
   "cell_type": "markdown",
   "metadata": {},
   "source": [
    "## Analisando Completo"
   ]
  },
  {
   "cell_type": "code",
   "execution_count": 21,
   "metadata": {},
   "outputs": [
    {
     "data": {
      "text/html": [
       "<div>\n",
       "<style scoped>\n",
       "    .dataframe tbody tr th:only-of-type {\n",
       "        vertical-align: middle;\n",
       "    }\n",
       "\n",
       "    .dataframe tbody tr th {\n",
       "        vertical-align: top;\n",
       "    }\n",
       "\n",
       "    .dataframe thead th {\n",
       "        text-align: right;\n",
       "    }\n",
       "</style>\n",
       "<table border=\"1\" class=\"dataframe\">\n",
       "  <thead>\n",
       "    <tr style=\"text-align: right;\">\n",
       "      <th></th>\n",
       "      <th>detalhado</th>\n",
       "      <th>safraentrada</th>\n",
       "      <th>safrasaida</th>\n",
       "      <th>ltv_month</th>\n",
       "      <th>qtd_adesoes</th>\n",
       "    </tr>\n",
       "  </thead>\n",
       "  <tbody>\n",
       "    <tr>\n",
       "      <th>10</th>\n",
       "      <td>COMPLETO</td>\n",
       "      <td>2022-06-01</td>\n",
       "      <td>2022-07-01</td>\n",
       "      <td>1</td>\n",
       "      <td>120</td>\n",
       "    </tr>\n",
       "    <tr>\n",
       "      <th>19</th>\n",
       "      <td>COMPLETO</td>\n",
       "      <td>2023-01-01</td>\n",
       "      <td>2023-02-01</td>\n",
       "      <td>1</td>\n",
       "      <td>171</td>\n",
       "    </tr>\n",
       "    <tr>\n",
       "      <th>27</th>\n",
       "      <td>COMPLETO</td>\n",
       "      <td>2022-03-01</td>\n",
       "      <td>2023-02-01</td>\n",
       "      <td>11</td>\n",
       "      <td>91</td>\n",
       "    </tr>\n",
       "    <tr>\n",
       "      <th>67</th>\n",
       "      <td>COMPLETO</td>\n",
       "      <td>2023-01-01</td>\n",
       "      <td>2023-03-01</td>\n",
       "      <td>2</td>\n",
       "      <td>65</td>\n",
       "    </tr>\n",
       "    <tr>\n",
       "      <th>74</th>\n",
       "      <td>COMPLETO</td>\n",
       "      <td>2022-08-01</td>\n",
       "      <td>2022-11-01</td>\n",
       "      <td>3</td>\n",
       "      <td>98</td>\n",
       "    </tr>\n",
       "  </tbody>\n",
       "</table>\n",
       "</div>"
      ],
      "text/plain": [
       "   detalhado safraentrada  safrasaida  ltv_month  qtd_adesoes\n",
       "10  COMPLETO   2022-06-01  2022-07-01          1          120\n",
       "19  COMPLETO   2023-01-01  2023-02-01          1          171\n",
       "27  COMPLETO   2022-03-01  2023-02-01         11           91\n",
       "67  COMPLETO   2023-01-01  2023-03-01          2           65\n",
       "74  COMPLETO   2022-08-01  2022-11-01          3           98"
      ]
     },
     "execution_count": 21,
     "metadata": {},
     "output_type": "execute_result"
    }
   ],
   "source": [
    "DADOSLTVCOMPLETO = DADOSLTV_MONTH[(DADOSLTV_MONTH.detalhado == \"Completo\" )|(DADOSLTV_MONTH.detalhado == \"COMPLETO\")|(DADOSLTV_MONTH.detalhado == \"completo\" )]\n",
    "DADOSLTVCOMPLETO.head()"
   ]
  },
  {
   "cell_type": "code",
   "execution_count": 22,
   "metadata": {},
   "outputs": [
    {
     "data": {
      "text/html": [
       "<div>\n",
       "<style scoped>\n",
       "    .dataframe tbody tr th:only-of-type {\n",
       "        vertical-align: middle;\n",
       "    }\n",
       "\n",
       "    .dataframe tbody tr th {\n",
       "        vertical-align: top;\n",
       "    }\n",
       "\n",
       "    .dataframe thead th {\n",
       "        text-align: right;\n",
       "    }\n",
       "</style>\n",
       "<table border=\"1\" class=\"dataframe\">\n",
       "  <thead>\n",
       "    <tr style=\"text-align: right;\">\n",
       "      <th></th>\n",
       "      <th>ltv_month</th>\n",
       "      <th>qtd_adesoes</th>\n",
       "    </tr>\n",
       "  </thead>\n",
       "  <tbody>\n",
       "    <tr>\n",
       "      <th>count</th>\n",
       "      <td>91.000000</td>\n",
       "      <td>91.000000</td>\n",
       "    </tr>\n",
       "    <tr>\n",
       "      <th>mean</th>\n",
       "      <td>4.000000</td>\n",
       "      <td>85.384615</td>\n",
       "    </tr>\n",
       "    <tr>\n",
       "      <th>std</th>\n",
       "      <td>3.179797</td>\n",
       "      <td>35.100101</td>\n",
       "    </tr>\n",
       "    <tr>\n",
       "      <th>min</th>\n",
       "      <td>0.000000</td>\n",
       "      <td>6.000000</td>\n",
       "    </tr>\n",
       "    <tr>\n",
       "      <th>25%</th>\n",
       "      <td>1.000000</td>\n",
       "      <td>68.000000</td>\n",
       "    </tr>\n",
       "    <tr>\n",
       "      <th>50%</th>\n",
       "      <td>3.000000</td>\n",
       "      <td>82.000000</td>\n",
       "    </tr>\n",
       "    <tr>\n",
       "      <th>75%</th>\n",
       "      <td>6.000000</td>\n",
       "      <td>96.000000</td>\n",
       "    </tr>\n",
       "    <tr>\n",
       "      <th>max</th>\n",
       "      <td>12.000000</td>\n",
       "      <td>229.000000</td>\n",
       "    </tr>\n",
       "  </tbody>\n",
       "</table>\n",
       "</div>"
      ],
      "text/plain": [
       "       ltv_month  qtd_adesoes\n",
       "count  91.000000    91.000000\n",
       "mean    4.000000    85.384615\n",
       "std     3.179797    35.100101\n",
       "min     0.000000     6.000000\n",
       "25%     1.000000    68.000000\n",
       "50%     3.000000    82.000000\n",
       "75%     6.000000    96.000000\n",
       "max    12.000000   229.000000"
      ]
     },
     "execution_count": 22,
     "metadata": {},
     "output_type": "execute_result"
    }
   ],
   "source": [
    "DADOSLTVCOMPLETO.describe()"
   ]
  },
  {
   "cell_type": "code",
   "execution_count": 11,
   "metadata": {},
   "outputs": [
    {
     "name": "stderr",
     "output_type": "stream",
     "text": [
      "C:\\Users\\raul.correa\\AppData\\Local\\Temp\\ipykernel_14708\\1617607316.py:1: FutureWarning: Dropping of nuisance columns in DataFrame reductions (with 'numeric_only=None') is deprecated; in a future version this will raise TypeError.  Select only valid columns before calling the reduction.\n",
      "  DADOSLTVCOMPLETO.median()\n"
     ]
    },
    {
     "data": {
      "text/plain": [
       "ltv_month      21.0\n",
       "qtd_adesoes    59.0\n",
       "dtype: float64"
      ]
     },
     "execution_count": 11,
     "metadata": {},
     "output_type": "execute_result"
    }
   ],
   "source": [
    "DADOSLTVCOMPLETO.median()"
   ]
  },
  {
   "cell_type": "code",
   "execution_count": 43,
   "metadata": {},
   "outputs": [
    {
     "data": {
      "text/plain": [
       "<AxesSubplot:ylabel='ltv_month'>"
      ]
     },
     "execution_count": 43,
     "metadata": {},
     "output_type": "execute_result"
    },
    {
     "data": {
      "image/png": "[encoded data removed]",
      "text/plain": [
       "<Figure size 640x480 with 1 Axes>"
      ]
     },
     "metadata": {},
     "output_type": "display_data"
    }
   ],
   "source": [
    "sns.boxplot( y =DADOSLTVCOMPLETO.ltv_month) #QUARTIS"
   ]
  },
  {
   "cell_type": "code",
   "execution_count": 44,
   "metadata": {},
   "outputs": [
    {
     "name": "stderr",
     "output_type": "stream",
     "text": [
      "c:\\Users\\raul.correa\\Anaconda3\\lib\\site-packages\\seaborn\\distributions.py:2619: FutureWarning: `distplot` is a deprecated function and will be removed in a future version. Please adapt your code to use either `displot` (a figure-level function with similar flexibility) or `histplot` (an axes-level function for histograms).\n",
      "  warnings.warn(msg, FutureWarning)\n"
     ]
    },
    {
     "data": {
      "text/plain": [
       "<AxesSubplot:xlabel='ltv_month', ylabel='Density'>"
      ]
     },
     "execution_count": 44,
     "metadata": {},
     "output_type": "execute_result"
    },
    {
     "data": {
      "image/png": "[encoded data removed]",
      "text/plain": [
       "<Figure size 640x480 with 1 Axes>"
      ]
     },
     "metadata": {},
     "output_type": "display_data"
    }
   ],
   "source": [
    "sns.distplot(DADOSLTVCOMPLETO.ltv_month)"
   ]
  },
  {
   "attachments": {},
   "cell_type": "markdown",
   "metadata": {},
   "source": [
    "## Analisando Básico"
   ]
  },
  {
   "cell_type": "code",
   "execution_count": 46,
   "metadata": {},
   "outputs": [
    {
     "data": {
      "text/html": [
       "<div>\n",
       "<style scoped>\n",
       "    .dataframe tbody tr th:only-of-type {\n",
       "        vertical-align: middle;\n",
       "    }\n",
       "\n",
       "    .dataframe tbody tr th {\n",
       "        vertical-align: top;\n",
       "    }\n",
       "\n",
       "    .dataframe thead th {\n",
       "        text-align: right;\n",
       "    }\n",
       "</style>\n",
       "<table border=\"1\" class=\"dataframe\">\n",
       "  <thead>\n",
       "    <tr style=\"text-align: right;\">\n",
       "      <th></th>\n",
       "      <th>detalhado</th>\n",
       "      <th>safraentrada</th>\n",
       "      <th>safrasaida</th>\n",
       "      <th>ltv_month</th>\n",
       "      <th>qtd_adesoes</th>\n",
       "    </tr>\n",
       "  </thead>\n",
       "  <tbody>\n",
       "    <tr>\n",
       "      <th>30</th>\n",
       "      <td>BÁSICO</td>\n",
       "      <td>2015-03-01</td>\n",
       "      <td>2017-08-01</td>\n",
       "      <td>29</td>\n",
       "      <td>212</td>\n",
       "    </tr>\n",
       "    <tr>\n",
       "      <th>31</th>\n",
       "      <td>BÁSICO</td>\n",
       "      <td>2014-11-01</td>\n",
       "      <td>2018-09-01</td>\n",
       "      <td>46</td>\n",
       "      <td>24</td>\n",
       "    </tr>\n",
       "    <tr>\n",
       "      <th>32</th>\n",
       "      <td>BÁSICO</td>\n",
       "      <td>2014-03-01</td>\n",
       "      <td>2017-04-01</td>\n",
       "      <td>37</td>\n",
       "      <td>17</td>\n",
       "    </tr>\n",
       "    <tr>\n",
       "      <th>34</th>\n",
       "      <td>BÁSICO</td>\n",
       "      <td>2014-04-01</td>\n",
       "      <td>2019-06-01</td>\n",
       "      <td>62</td>\n",
       "      <td>1515</td>\n",
       "    </tr>\n",
       "    <tr>\n",
       "      <th>35</th>\n",
       "      <td>BÁSICO</td>\n",
       "      <td>2016-01-01</td>\n",
       "      <td>2021-12-01</td>\n",
       "      <td>71</td>\n",
       "      <td>62</td>\n",
       "    </tr>\n",
       "  </tbody>\n",
       "</table>\n",
       "</div>"
      ],
      "text/plain": [
       "   detalhado safraentrada  safrasaida  ltv_month  qtd_adesoes\n",
       "30    BÁSICO   2015-03-01  2017-08-01         29          212\n",
       "31    BÁSICO   2014-11-01  2018-09-01         46           24\n",
       "32    BÁSICO   2014-03-01  2017-04-01         37           17\n",
       "34    BÁSICO   2014-04-01  2019-06-01         62         1515\n",
       "35    BÁSICO   2016-01-01  2021-12-01         71           62"
      ]
     },
     "execution_count": 46,
     "metadata": {},
     "output_type": "execute_result"
    }
   ],
   "source": [
    "DADOSLTVBASICO = DADOSLTV_MONTH[(DADOSLTV_MONTH.detalhado == \"Basico\" )|(DADOSLTV_MONTH.detalhado == \"Básico\")|(DADOSLTV_MONTH.detalhado == \"BÁSICO\" )]\n",
    "DADOSLTVBASICO.head()"
   ]
  },
  {
   "cell_type": "code",
   "execution_count": 47,
   "metadata": {},
   "outputs": [
    {
     "data": {
      "text/html": [
       "<div>\n",
       "<style scoped>\n",
       "    .dataframe tbody tr th:only-of-type {\n",
       "        vertical-align: middle;\n",
       "    }\n",
       "\n",
       "    .dataframe tbody tr th {\n",
       "        vertical-align: top;\n",
       "    }\n",
       "\n",
       "    .dataframe thead th {\n",
       "        text-align: right;\n",
       "    }\n",
       "</style>\n",
       "<table border=\"1\" class=\"dataframe\">\n",
       "  <thead>\n",
       "    <tr style=\"text-align: right;\">\n",
       "      <th></th>\n",
       "      <th>ltv_month</th>\n",
       "      <th>qtd_adesoes</th>\n",
       "    </tr>\n",
       "  </thead>\n",
       "  <tbody>\n",
       "    <tr>\n",
       "      <th>count</th>\n",
       "      <td>7347.000000</td>\n",
       "      <td>7347.000000</td>\n",
       "    </tr>\n",
       "    <tr>\n",
       "      <th>mean</th>\n",
       "      <td>39.503743</td>\n",
       "      <td>104.368722</td>\n",
       "    </tr>\n",
       "    <tr>\n",
       "      <th>std</th>\n",
       "      <td>28.331707</td>\n",
       "      <td>661.416843</td>\n",
       "    </tr>\n",
       "    <tr>\n",
       "      <th>min</th>\n",
       "      <td>0.000000</td>\n",
       "      <td>1.000000</td>\n",
       "    </tr>\n",
       "    <tr>\n",
       "      <th>25%</th>\n",
       "      <td>16.000000</td>\n",
       "      <td>12.000000</td>\n",
       "    </tr>\n",
       "    <tr>\n",
       "      <th>50%</th>\n",
       "      <td>35.000000</td>\n",
       "      <td>25.000000</td>\n",
       "    </tr>\n",
       "    <tr>\n",
       "      <th>75%</th>\n",
       "      <td>60.000000</td>\n",
       "      <td>50.000000</td>\n",
       "    </tr>\n",
       "    <tr>\n",
       "      <th>max</th>\n",
       "      <td>118.000000</td>\n",
       "      <td>21571.000000</td>\n",
       "    </tr>\n",
       "  </tbody>\n",
       "</table>\n",
       "</div>"
      ],
      "text/plain": [
       "         ltv_month   qtd_adesoes\n",
       "count  7347.000000   7347.000000\n",
       "mean     39.503743    104.368722\n",
       "std      28.331707    661.416843\n",
       "min       0.000000      1.000000\n",
       "25%      16.000000     12.000000\n",
       "50%      35.000000     25.000000\n",
       "75%      60.000000     50.000000\n",
       "max     118.000000  21571.000000"
      ]
     },
     "execution_count": 47,
     "metadata": {},
     "output_type": "execute_result"
    }
   ],
   "source": [
    "DADOSLTVBASICO.describe()"
   ]
  },
  {
   "cell_type": "code",
   "execution_count": 48,
   "metadata": {},
   "outputs": [
    {
     "data": {
      "text/plain": [
       "<AxesSubplot:ylabel='ltv_month'>"
      ]
     },
     "execution_count": 48,
     "metadata": {},
     "output_type": "execute_result"
    },
    {
     "data": {
      "image/png": "[encoded data removed]",
      "text/plain": [
       "<Figure size 640x480 with 1 Axes>"
      ]
     },
     "metadata": {},
     "output_type": "display_data"
    }
   ],
   "source": [
    "sns.boxplot( y =DADOSLTVBASICO.ltv_month) #QUARTIS"
   ]
  },
  {
   "cell_type": "code",
   "execution_count": 32,
   "metadata": {},
   "outputs": [
    {
     "data": {
      "text/html": [
       "<div>\n",
       "<style scoped>\n",
       "    .dataframe tbody tr th:only-of-type {\n",
       "        vertical-align: middle;\n",
       "    }\n",
       "\n",
       "    .dataframe tbody tr th {\n",
       "        vertical-align: top;\n",
       "    }\n",
       "\n",
       "    .dataframe thead th {\n",
       "        text-align: right;\n",
       "    }\n",
       "</style>\n",
       "<table border=\"1\" class=\"dataframe\">\n",
       "  <thead>\n",
       "    <tr style=\"text-align: right;\">\n",
       "      <th></th>\n",
       "      <th>detalhado</th>\n",
       "      <th>safraentrada</th>\n",
       "      <th>safrasaida</th>\n",
       "      <th>ltv_month</th>\n",
       "      <th>qtd_adesoes</th>\n",
       "    </tr>\n",
       "  </thead>\n",
       "  <tbody>\n",
       "    <tr>\n",
       "      <th>0</th>\n",
       "      <td>ITAÚ TAG</td>\n",
       "      <td>2017-01-01</td>\n",
       "      <td>2020-02-01</td>\n",
       "      <td>37</td>\n",
       "      <td>12</td>\n",
       "    </tr>\n",
       "    <tr>\n",
       "      <th>1</th>\n",
       "      <td>ITAÚ TAG</td>\n",
       "      <td>2021-07-01</td>\n",
       "      <td>2022-10-01</td>\n",
       "      <td>15</td>\n",
       "      <td>61</td>\n",
       "    </tr>\n",
       "    <tr>\n",
       "      <th>2</th>\n",
       "      <td>ITAÚ TAG</td>\n",
       "      <td>2018-02-01</td>\n",
       "      <td>2019-07-01</td>\n",
       "      <td>17</td>\n",
       "      <td>40</td>\n",
       "    </tr>\n",
       "    <tr>\n",
       "      <th>3</th>\n",
       "      <td>ITAÚ TAG</td>\n",
       "      <td>2016-12-01</td>\n",
       "      <td>2020-07-01</td>\n",
       "      <td>43</td>\n",
       "      <td>16</td>\n",
       "    </tr>\n",
       "    <tr>\n",
       "      <th>4</th>\n",
       "      <td>ITAÚ TAG</td>\n",
       "      <td>2019-01-01</td>\n",
       "      <td>2020-12-01</td>\n",
       "      <td>23</td>\n",
       "      <td>5</td>\n",
       "    </tr>\n",
       "  </tbody>\n",
       "</table>\n",
       "</div>"
      ],
      "text/plain": [
       "  detalhado safraentrada  safrasaida  ltv_month  qtd_adesoes\n",
       "0  ITAÚ TAG   2017-01-01  2020-02-01         37           12\n",
       "1  ITAÚ TAG   2021-07-01  2022-10-01         15           61\n",
       "2  ITAÚ TAG   2018-02-01  2019-07-01         17           40\n",
       "3  ITAÚ TAG   2016-12-01  2020-07-01         43           16\n",
       "4  ITAÚ TAG   2019-01-01  2020-12-01         23            5"
      ]
     },
     "execution_count": 32,
     "metadata": {},
     "output_type": "execute_result"
    }
   ],
   "source": [
    "DADOSLTVITAU = DADOSLTV_MONTH[(DADOSLTV_MONTH.detalhado == \"Itaú Tag\" )|(DADOSLTV_MONTH.detalhado == \"ITAÚ TAG\")|(DADOSLTV_MONTH.detalhado == \"tag itaú\" )]\n",
    "DADOSLTVITAU.head()"
   ]
  },
  {
   "cell_type": "code",
   "execution_count": 33,
   "metadata": {},
   "outputs": [
    {
     "data": {
      "text/html": [
       "<div>\n",
       "<style scoped>\n",
       "    .dataframe tbody tr th:only-of-type {\n",
       "        vertical-align: middle;\n",
       "    }\n",
       "\n",
       "    .dataframe tbody tr th {\n",
       "        vertical-align: top;\n",
       "    }\n",
       "\n",
       "    .dataframe thead th {\n",
       "        text-align: right;\n",
       "    }\n",
       "</style>\n",
       "<table border=\"1\" class=\"dataframe\">\n",
       "  <thead>\n",
       "    <tr style=\"text-align: right;\">\n",
       "      <th></th>\n",
       "      <th>ltv_month</th>\n",
       "      <th>qtd_adesoes</th>\n",
       "    </tr>\n",
       "  </thead>\n",
       "  <tbody>\n",
       "    <tr>\n",
       "      <th>count</th>\n",
       "      <td>3428.000000</td>\n",
       "      <td>3428.000000</td>\n",
       "    </tr>\n",
       "    <tr>\n",
       "      <th>mean</th>\n",
       "      <td>27.143232</td>\n",
       "      <td>23.434364</td>\n",
       "    </tr>\n",
       "    <tr>\n",
       "      <th>std</th>\n",
       "      <td>19.924212</td>\n",
       "      <td>58.167017</td>\n",
       "    </tr>\n",
       "    <tr>\n",
       "      <th>min</th>\n",
       "      <td>0.000000</td>\n",
       "      <td>1.000000</td>\n",
       "    </tr>\n",
       "    <tr>\n",
       "      <th>25%</th>\n",
       "      <td>10.000000</td>\n",
       "      <td>4.000000</td>\n",
       "    </tr>\n",
       "    <tr>\n",
       "      <th>50%</th>\n",
       "      <td>23.500000</td>\n",
       "      <td>8.000000</td>\n",
       "    </tr>\n",
       "    <tr>\n",
       "      <th>75%</th>\n",
       "      <td>41.000000</td>\n",
       "      <td>17.000000</td>\n",
       "    </tr>\n",
       "    <tr>\n",
       "      <th>max</th>\n",
       "      <td>84.000000</td>\n",
       "      <td>708.000000</td>\n",
       "    </tr>\n",
       "  </tbody>\n",
       "</table>\n",
       "</div>"
      ],
      "text/plain": [
       "         ltv_month  qtd_adesoes\n",
       "count  3428.000000  3428.000000\n",
       "mean     27.143232    23.434364\n",
       "std      19.924212    58.167017\n",
       "min       0.000000     1.000000\n",
       "25%      10.000000     4.000000\n",
       "50%      23.500000     8.000000\n",
       "75%      41.000000    17.000000\n",
       "max      84.000000   708.000000"
      ]
     },
     "execution_count": 33,
     "metadata": {},
     "output_type": "execute_result"
    }
   ],
   "source": [
    "DADOSLTVITAU.describe()"
   ]
  }
 ],
 "metadata": {
  "kernelspec": {
   "display_name": "base",
   "language": "python",
   "name": "python3"
  },
  "language_info": {
   "codemirror_mode": {
    "name": "ipython",
    "version": 3
   },
   "file_extension": ".py",
   "mimetype": "text/x-python",
   "name": "python",
   "nbconvert_exporter": "python",
   "pygments_lexer": "ipython3",
   "version": "3.9.13"
  },
  "orig_nbformat": 4,
  "vscode": {
   "interpreter": {
    "hash": "986918918cc538ae942ffc963b59d7d0920a66751db9100f044b32779537ddfc"
   }
  }
 },
 "nbformat": 4,
 "nbformat_minor": 2
}
