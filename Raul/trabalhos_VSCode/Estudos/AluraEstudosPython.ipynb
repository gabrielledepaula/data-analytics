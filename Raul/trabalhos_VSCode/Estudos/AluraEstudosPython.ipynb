{
  "cells": [
    {
      "cell_type": "markdown",
      "metadata": {
        "id": "V1IcvmSUSayl"
      },
      "source": [
        "🐍 *ESTUDOS EM PYTHON*"
      ]
    },
    {
      "attachments": {},
      "cell_type": "markdown",
      "metadata": {
        "id": "TjP8PoZFhPgu"
      },
      "source": [
        "# **COMANDOS INICIAIS**"
      ]
    },
    {
      "cell_type": "code",
      "execution_count": 1,
      "metadata": {
        "id": "CEBHh0bgPKsd"
      },
      "outputs": [
        {
          "data": {
            "text/plain": [
              "28"
            ]
          },
          "execution_count": 1,
          "metadata": {},
          "output_type": "execute_result"
        }
      ],
      "source": [
        "idade =28\n",
        "idade"
      ]
    },
    {
      "cell_type": "code",
      "execution_count": 2,
      "metadata": {
        "id": "ylIt7iKMMLh9"
      },
      "outputs": [],
      "source": [
        "idade = 10\n",
        "\n",
        "def verica_se_pode_dirigir(idade):\n",
        "  if idade >= 18:\n",
        "    print(\"Tem permissao para dirigir\")\n",
        "  else:\n",
        "    print(\"nao tem permissao para dirigir\")"
      ]
    },
    {
      "cell_type": "code",
      "execution_count": 3,
      "metadata": {
        "id": "oHyBihh6RCZy"
      },
      "outputs": [
        {
          "name": "stdout",
          "output_type": "stream",
          "text": [
            "nao tem permissao para dirigir\n"
          ]
        }
      ],
      "source": [
        "verica_se_pode_dirigir(idade)"
      ]
    },
    {
      "cell_type": "code",
      "execution_count": 4,
      "metadata": {
        "id": "jDmviToxNQdJ"
      },
      "outputs": [],
      "source": [
        "def verifica_se_pode_dirigir_sem_parametros():\n",
        "  idade = input('qual sua idade ')\n",
        "  idade = int(idade)\n",
        "  if idade >=18:\n",
        "    print('tem permissao para dirigir')\n",
        "  else:\n",
        "    print('nao tem permissao para dirigir')"
      ]
    },
    {
      "cell_type": "code",
      "execution_count": 5,
      "metadata": {
        "id": "rJ-Ie0coQ1FA"
      },
      "outputs": [
        {
          "name": "stdout",
          "output_type": "stream",
          "text": [
            "nao tem permissao para dirigir\n"
          ]
        }
      ],
      "source": [
        "  verifica_se_pode_dirigir_sem_parametros()"
      ]
    },
    {
      "attachments": {},
      "cell_type": "markdown",
      "metadata": {
        "id": "RS2Y1kRNSKLY"
      },
      "source": [
        "## **Listas**\n"
      ]
    },
    {
      "cell_type": "code",
      "execution_count": 6,
      "metadata": {
        "id": "78KJotiwS4wG"
      },
      "outputs": [],
      "source": [
        "idades = [18, 22, 15, 50]\n",
        "#         0    1   2   3\n",
        "#         0   -3  -2  -1\n"
      ]
    },
    {
      "cell_type": "code",
      "execution_count": 7,
      "metadata": {
        "id": "_9xL6jy-TCC8"
      },
      "outputs": [
        {
          "data": {
            "text/plain": [
              "22"
            ]
          },
          "execution_count": 7,
          "metadata": {},
          "output_type": "execute_result"
        }
      ],
      "source": [
        "idades [1]\n"
      ]
    },
    {
      "cell_type": "code",
      "execution_count": 8,
      "metadata": {
        "id": "cUcLBTshTFiu"
      },
      "outputs": [
        {
          "data": {
            "text/plain": [
              "[18, 22, 15]"
            ]
          },
          "execution_count": 8,
          "metadata": {},
          "output_type": "execute_result"
        }
      ],
      "source": [
        "idades[0:3]\n",
        "#ele sempre excluira o ultimo elemento [0:'3-1']"
      ]
    },
    {
      "cell_type": "code",
      "execution_count": 9,
      "metadata": {
        "id": "8kIlX_23T_7Q"
      },
      "outputs": [
        {
          "data": {
            "text/plain": [
              "[18, 22, 15, 50]"
            ]
          },
          "execution_count": 9,
          "metadata": {},
          "output_type": "execute_result"
        }
      ],
      "source": [
        "idades[0:]\n",
        "#indo ate o final"
      ]
    },
    {
      "cell_type": "code",
      "execution_count": 10,
      "metadata": {
        "id": "GDy83F1hTHey"
      },
      "outputs": [
        {
          "data": {
            "text/plain": [
              "[18]"
            ]
          },
          "execution_count": 10,
          "metadata": {},
          "output_type": "execute_result"
        }
      ],
      "source": [
        "idades[0:-3]"
      ]
    },
    {
      "attachments": {},
      "cell_type": "markdown",
      "metadata": {
        "id": "dTyQnHv6UTiO"
      },
      "source": [
        "## **Laços e Loops**"
      ]
    },
    {
      "cell_type": "code",
      "execution_count": 11,
      "metadata": {
        "id": "up-Eu0qhVlqe"
      },
      "outputs": [],
      "source": [
        "lista_idades = [10, 20, 30, 40, 8, 9 , 11, 64, 76, 22, 18]"
      ]
    },
    {
      "cell_type": "code",
      "execution_count": 12,
      "metadata": {
        "id": "jn3MWBwNUZwX"
      },
      "outputs": [],
      "source": [
        "def verica_se_pode_dirigir(idade):\n",
        "  if idade >= 18:\n",
        "    print(f'{idade} anos de idade, tem permissao para dirigir')\n",
        "  else:\n",
        "    print(f'{idade} anos de idade, nao tem permissao para dirigir')"
      ]
    },
    {
      "cell_type": "code",
      "execution_count": 13,
      "metadata": {
        "id": "ilOdCctrV2yP"
      },
      "outputs": [
        {
          "name": "stdout",
          "output_type": "stream",
          "text": [
            "10 anos de idade, nao tem permissao para dirigir\n",
            "20 anos de idade, tem permissao para dirigir\n",
            "30 anos de idade, tem permissao para dirigir\n",
            "40 anos de idade, tem permissao para dirigir\n",
            "8 anos de idade, nao tem permissao para dirigir\n",
            "9 anos de idade, nao tem permissao para dirigir\n",
            "11 anos de idade, nao tem permissao para dirigir\n",
            "64 anos de idade, tem permissao para dirigir\n",
            "76 anos de idade, tem permissao para dirigir\n",
            "22 anos de idade, tem permissao para dirigir\n",
            "18 anos de idade, tem permissao para dirigir\n"
          ]
        }
      ],
      "source": [
        "for idade in lista_idades: \n",
        "  verica_se_pode_dirigir(idade)"
      ]
    },
    {
      "attachments": {},
      "cell_type": "markdown",
      "metadata": {
        "id": "bkPrSdWfe_hz"
      },
      "source": [
        "## **Boolean**"
      ]
    },
    {
      "cell_type": "code",
      "execution_count": 14,
      "metadata": {
        "id": "w6CVPhgRWPok"
      },
      "outputs": [],
      "source": [
        "permissoes = []\n",
        "lista_idadesz = [20, 14, 40]\n",
        "\n",
        "def verifica_se_pode_dirigir_boolean(lista_idadesz, permissoes):\n",
        "  for idade in lista_idadesz:\n",
        "    if idade >=18:\n",
        "      permissoes.append(True) #append atribui valores dentro de uma lista\n",
        "    else:\n",
        "      permissoes.append(False)"
      ]
    },
    {
      "cell_type": "code",
      "execution_count": 15,
      "metadata": {
        "id": "lm80r1C_ft-D"
      },
      "outputs": [],
      "source": [
        "verifica_se_pode_dirigir_boolean(lista_idadesz, permissoes)"
      ]
    },
    {
      "cell_type": "code",
      "execution_count": 16,
      "metadata": {
        "id": "-ldJ-OU8f3ax"
      },
      "outputs": [
        {
          "data": {
            "text/plain": [
              "[True, False, True]"
            ]
          },
          "execution_count": 16,
          "metadata": {},
          "output_type": "execute_result"
        }
      ],
      "source": [
        "permissoes"
      ]
    },
    {
      "attachments": {},
      "cell_type": "markdown",
      "metadata": {
        "id": "XcILugqTg-oT"
      },
      "source": [
        "## **Tipos de lista**"
      ]
    },
    {
      "cell_type": "code",
      "execution_count": 17,
      "metadata": {
        "id": "PDy2e_oqhCH3"
      },
      "outputs": [
        {
          "name": "stdout",
          "output_type": "stream",
          "text": [
            "O elemento Raul é do tipo: <class 'str'>\n",
            "O elemento 26 é do tipo: <class 'int'>\n",
            "O elemento True é do tipo: <class 'bool'>\n",
            "O elemento 18 é do tipo: <class 'str'>\n",
            "O elemento 1.1111111111111112 é do tipo: <class 'float'>\n"
          ]
        }
      ],
      "source": [
        "lista = ['Raul', 26, True, '18', 1.1111111111111111]\n",
        "\n",
        "for elemento in lista:\n",
        "  print(f'O elemento {elemento} é do tipo:', type(elemento))"
      ]
    },
    {
      "attachments": {},
      "cell_type": "markdown",
      "metadata": {
        "id": "pYxU8mMMi4hp"
      },
      "source": [
        "## **Import**"
      ]
    },
    {
      "cell_type": "code",
      "execution_count": 18,
      "metadata": {
        "id": "YqgUXyi2iwJX"
      },
      "outputs": [
        {
          "ename": "SyntaxError",
          "evalue": "invalid syntax (1617858630.py, line 4)",
          "output_type": "error",
          "traceback": [
            "\u001b[1;36m  File \u001b[1;32m\"C:\\Users\\raul.correa\\AppData\\Local\\Temp\\ipykernel_28860\\1617858630.py\"\u001b[1;36m, line \u001b[1;32m4\u001b[0m\n\u001b[1;33m    from\u001b[0m\n\u001b[1;37m         ^\u001b[0m\n\u001b[1;31mSyntaxError\u001b[0m\u001b[1;31m:\u001b[0m invalid syntax\n"
          ]
        }
      ],
      "source": [
        "#importando uma lib na aplicação\n",
        "from random import randrange \n",
        "from random import seed\n",
        "from "
      ]
    },
    {
      "cell_type": "code",
      "execution_count": null,
      "metadata": {
        "id": "vKJxYzUZi_lz"
      },
      "outputs": [],
      "source": [
        "seed(11)\n",
        "randrange(0, 11)\n"
      ]
    },
    {
      "cell_type": "code",
      "execution_count": null,
      "metadata": {
        "id": "NTQ3au9ljXYj"
      },
      "outputs": [],
      "source": [
        "notas_matematica =[]\n",
        "for notas in range(8):\n",
        "  notas_matematica.append(randrange(0,11))"
      ]
    },
    {
      "cell_type": "code",
      "execution_count": null,
      "metadata": {
        "colab": {
          "base_uri": "https://localhost:8080/"
        },
        "id": "wcG9ZYi0jlXQ",
        "outputId": "fea15fb0-b285-41c5-80ed-ee7a16a8a5a3"
      },
      "outputs": [
        {
          "data": {
            "text/plain": [
              "[8, 7, 7, 8, 9, 3, 2, 8]"
            ]
          },
          "execution_count": 72,
          "metadata": {},
          "output_type": "execute_result"
        }
      ],
      "source": [
        "notas_matematica"
      ]
    },
    {
      "attachments": {},
      "cell_type": "markdown",
      "metadata": {
        "id": "yWvLJUv7lrWF"
      },
      "source": [
        "## **MatPlotLib**"
      ]
    },
    {
      "cell_type": "code",
      "execution_count": null,
      "metadata": {
        "id": "MfDhcaDDlqlj"
      },
      "outputs": [],
      "source": [
        "import matplotlib.pyplot as plt"
      ]
    },
    {
      "cell_type": "code",
      "execution_count": null,
      "metadata": {
        "colab": {
          "base_uri": "https://localhost:8080/",
          "height": 295
        },
        "id": "h-nrQMYMl3U4",
        "outputId": "95f3564e-e12b-4033-98c7-ce9c81380439"
      },
      "outputs": [
        {
          "ename": "NameError",
          "evalue": "name 'notas_matematica' is not defined",
          "output_type": "error",
          "traceback": [
            "\u001b[1;31m---------------------------------------------------------------------------\u001b[0m",
            "\u001b[1;31mNameError\u001b[0m                                 Traceback (most recent call last)",
            "\u001b[1;32m~\\AppData\\Local\\Temp\\ipykernel_2812\\3859576549.py\u001b[0m in \u001b[0;36m<module>\u001b[1;34m\u001b[0m\n\u001b[0;32m      1\u001b[0m \u001b[0mx\u001b[0m \u001b[1;33m=\u001b[0m \u001b[0mlist\u001b[0m\u001b[1;33m(\u001b[0m\u001b[0mrange\u001b[0m\u001b[1;33m(\u001b[0m\u001b[1;36m1\u001b[0m\u001b[1;33m,\u001b[0m \u001b[1;36m9\u001b[0m\u001b[1;33m)\u001b[0m\u001b[1;33m)\u001b[0m\u001b[1;33m\u001b[0m\u001b[1;33m\u001b[0m\u001b[0m\n\u001b[1;32m----> 2\u001b[1;33m \u001b[0my\u001b[0m \u001b[1;33m=\u001b[0m \u001b[0mnotas_matematica\u001b[0m\u001b[1;33m\u001b[0m\u001b[1;33m\u001b[0m\u001b[0m\n\u001b[0m\u001b[0;32m      3\u001b[0m \u001b[1;33m\u001b[0m\u001b[0m\n\u001b[0;32m      4\u001b[0m \u001b[0mplt\u001b[0m\u001b[1;33m.\u001b[0m\u001b[0mplot\u001b[0m\u001b[1;33m(\u001b[0m\u001b[0mx\u001b[0m\u001b[1;33m,\u001b[0m \u001b[0my\u001b[0m\u001b[1;33m,\u001b[0m \u001b[0mmarker\u001b[0m \u001b[1;33m=\u001b[0m\u001b[1;34m'o'\u001b[0m\u001b[1;33m)\u001b[0m\u001b[1;33m\u001b[0m\u001b[1;33m\u001b[0m\u001b[0m\n\u001b[0;32m      5\u001b[0m \u001b[0mplt\u001b[0m\u001b[1;33m.\u001b[0m\u001b[0mtitle\u001b[0m\u001b[1;33m(\u001b[0m\u001b[1;34m'Notas de Matematica'\u001b[0m\u001b[1;33m)\u001b[0m\u001b[1;33m\u001b[0m\u001b[1;33m\u001b[0m\u001b[0m\n",
            "\u001b[1;31mNameError\u001b[0m: name 'notas_matematica' is not defined"
          ]
        }
      ],
      "source": [
        "x = list(range(1, 9))\n",
        "y = notas_matematica\n",
        "\n",
        "plt.plot(x, y, marker ='o')\n",
        "plt.title('Notas de Matematica')\n",
        "plt.xlabel('Provas')\n",
        "plt.ylabel('Notas')\n",
        "plt.show()\n",
        "\n",
        "\n"
      ]
    },
    {
      "cell_type": "markdown",
      "metadata": {
        "id": "kn-Kvoh0GiB6"
      },
      "source": []
    },
    {
      "attachments": {},
      "cell_type": "markdown",
      "metadata": {
        "id": "rVyFN9FgGjtB"
      },
      "source": [
        "# **INTRODUCAO AO DATA SCIENCE**\n"
      ]
    },
    {
      "attachments": {},
      "cell_type": "markdown",
      "metadata": {
        "id": "RbtB4Y21KY2g"
      },
      "source": [
        "## **Pandas**"
      ]
    },
    {
      "cell_type": "code",
      "execution_count": null,
      "metadata": {
        "id": "7Ng5WrATGqld"
      },
      "outputs": [],
      "source": [
        "import pandas as pd\n",
        "notas = pd.read_csv('/ratings.csv')\n",
        "notas.head()"
      ]
    },
    {
      "cell_type": "code",
      "execution_count": null,
      "metadata": {
        "colab": {
          "base_uri": "https://localhost:8080/"
        },
        "id": "X-pVTs2-IupC",
        "outputId": "2f11bcd4-85ff-4bc3-8d82-bccab9944529"
      },
      "outputs": [
        {
          "data": {
            "text/plain": [
              "(100836, 4)"
            ]
          },
          "execution_count": 6,
          "metadata": {},
          "output_type": "execute_result"
        }
      ],
      "source": [
        "notas.shape #formato da tabela"
      ]
    },
    {
      "cell_type": "code",
      "execution_count": null,
      "metadata": {
        "id": "ciCqcSrOI40N"
      },
      "outputs": [],
      "source": [
        "notas.columns = ['usuarioId','filmeId', 'nota', 'momento'] #pandas dataframe RENOMEANDO HEADER"
      ]
    },
    {
      "cell_type": "code",
      "execution_count": null,
      "metadata": {
        "id": "B0ijOerpJMLO"
      },
      "outputs": [],
      "source": [
        "notas['nota'].unique() #pandas data series"
      ]
    },
    {
      "cell_type": "code",
      "execution_count": null,
      "metadata": {
        "id": "5vI7rcyKJbVE"
      },
      "outputs": [],
      "source": [
        "notas['nota'].value_counts()"
      ]
    },
    {
      "cell_type": "code",
      "execution_count": null,
      "metadata": {
        "id": "CGT8RfbnJ-aV"
      },
      "outputs": [],
      "source": [
        "notas['nota'].mean()"
      ]
    },
    {
      "cell_type": "code",
      "execution_count": null,
      "metadata": {
        "id": "xqo35bhgKnF1"
      },
      "outputs": [],
      "source": [
        "notas.nota.plot(kind= 'hist') #PLOT GRÁFICOS"
      ]
    },
    {
      "cell_type": "code",
      "execution_count": null,
      "metadata": {
        "id": "epYpa8kHKrWt"
      },
      "outputs": [],
      "source": [
        "notas.nota.plot(kind= 'hist')"
      ]
    },
    {
      "cell_type": "code",
      "execution_count": null,
      "metadata": {
        "id": "iO-NZ-Q6LpTs"
      },
      "outputs": [],
      "source": [
        "print('media', notas['nota'].mean())\n",
        "print('mediana', notas['nota'].median())"
      ]
    },
    {
      "cell_type": "code",
      "execution_count": null,
      "metadata": {
        "id": "B3FrT0v9MJvg"
      },
      "outputs": [],
      "source": [
        "notas.nota.describe() #visao geral das medidas através do describe"
      ]
    },
    {
      "attachments": {},
      "cell_type": "markdown",
      "metadata": {
        "id": "9LcqaHeRMpdG"
      },
      "source": [
        "## **Seaborn**"
      ]
    },
    {
      "cell_type": "code",
      "execution_count": null,
      "metadata": {
        "id": "EYpeKKqKMxfO"
      },
      "outputs": [],
      "source": [
        "import seaborn as sns\n",
        "sns.boxplot(notas.nota) #QUARTIS"
      ]
    },
    {
      "cell_type": "code",
      "execution_count": null,
      "metadata": {
        "id": "FkMiQJo1M5Pz"
      },
      "outputs": [],
      "source": [
        "filmes = pd.read_csv('/movies.csv')\n",
        "filmes.columns = ['filmesId', 'titulo', 'generos']\n",
        "filmes.head()"
      ]
    },
    {
      "attachments": {},
      "cell_type": "markdown",
      "metadata": {
        "id": "s-tjZFYaRqmM"
      },
      "source": [
        "## **Analisando os dados**"
      ]
    },
    {
      "cell_type": "code",
      "execution_count": null,
      "metadata": {
        "id": "EzHpzxGAQi8S"
      },
      "outputs": [],
      "source": [
        "notas.query('filmeId == 1').nota.describe()"
      ]
    },
    {
      "cell_type": "code",
      "execution_count": null,
      "metadata": {
        "id": "eIvwZQ0nRSGK"
      },
      "outputs": [],
      "source": [
        "notas.query('filmeId == 2').nota.describe()"
      ]
    },
    {
      "cell_type": "code",
      "execution_count": null,
      "metadata": {
        "id": "yege-d1cR-FX"
      },
      "outputs": [],
      "source": [
        "medias_por_filme = notas.groupby(\"filmeId\").mean()[\"nota\"]\n",
        "medias_por_filme"
      ]
    },
    {
      "cell_type": "code",
      "execution_count": null,
      "metadata": {
        "colab": {
          "base_uri": "https://localhost:8080/",
          "height": 282
        },
        "id": "SDyaTnt3f_qS",
        "outputId": "73901d3d-d562-4963-c40f-1ab7a53bea1a"
      },
      "outputs": [
        {
          "data": {
            "text/plain": [
              "<matplotlib.axes._subplots.AxesSubplot at 0x7fb6f44c17c0>"
            ]
          },
          "execution_count": 16,
          "metadata": {},
          "output_type": "execute_result"
        },
        {
          "data": {
            "image/png": "[encoded data removed]",
            "text/plain": [
              "<Figure size 432x288 with 1 Axes>"
            ]
          },
          "metadata": {
            "needs_background": "light"
          },
          "output_type": "display_data"
        }
      ],
      "source": [
        "medias_por_filme.plot(kind ='hist') #grafico histograma"
      ]
    },
    {
      "cell_type": "code",
      "execution_count": null,
      "metadata": {
        "colab": {
          "base_uri": "https://localhost:8080/",
          "height": 269
        },
        "id": "jjCH_IuhgS5-",
        "outputId": "328161fa-f057-48b5-ad72-23cdd5b781e4"
      },
      "outputs": [
        {
          "data": {
            "text/plain": [
              "<matplotlib.axes._subplots.AxesSubplot at 0x7fb6f2067e50>"
            ]
          },
          "execution_count": 23,
          "metadata": {},
          "output_type": "execute_result"
        },
        {
          "data": {
            "image/png": "[encoded data removed]",
            "text/plain": [
              "<Figure size 432x288 with 1 Axes>"
            ]
          },
          "metadata": {
            "needs_background": "light"
          },
          "output_type": "display_data"
        }
      ],
      "source": [
        "sns.boxplot(y = medias_por_filme)"
      ]
    },
    {
      "cell_type": "code",
      "execution_count": null,
      "metadata": {
        "colab": {
          "base_uri": "https://localhost:8080/",
          "height": 351
        },
        "id": "TErCJDq3g0ml",
        "outputId": "4cf829ec-ae71-4a17-8350-466d2864968a"
      },
      "outputs": [
        {
          "name": "stderr",
          "output_type": "stream",
          "text": [
            "/usr/local/lib/python3.8/dist-packages/seaborn/distributions.py:2619: FutureWarning: `distplot` is a deprecated function and will be removed in a future version. Please adapt your code to use either `displot` (a figure-level function with similar flexibility) or `histplot` (an axes-level function for histograms).\n",
            "  warnings.warn(msg, FutureWarning)\n"
          ]
        },
        {
          "data": {
            "text/plain": [
              "<matplotlib.axes._subplots.AxesSubplot at 0x7fb6f2079bb0>"
            ]
          },
          "execution_count": 20,
          "metadata": {},
          "output_type": "execute_result"
        },
        {
          "data": {
            "image/png": "[encoded data removed]",
            "text/plain": [
              "<Figure size 432x288 with 1 Axes>"
            ]
          },
          "metadata": {
            "needs_background": "light"
          },
          "output_type": "display_data"
        }
      ],
      "source": [
        "sns.distplot(medias_por_filme)"
      ]
    },
    {
      "cell_type": "code",
      "execution_count": null,
      "metadata": {
        "colab": {
          "base_uri": "https://localhost:8080/",
          "height": 334
        },
        "id": "0XswTyL3hYsg",
        "outputId": "f59e6297-c5fa-4a1f-8fc0-cf5f4f34f86e"
      },
      "outputs": [
        {
          "data": {
            "text/plain": [
              "(array([ 108.,  185.,  309.,  694.,  962., 1840., 2211., 2275.,  798.,\n",
              "         342.]),\n",
              " array([0.5 , 0.95, 1.4 , 1.85, 2.3 , 2.75, 3.2 , 3.65, 4.1 , 4.55, 5.  ]),\n",
              " <a list of 10 Patch objects>)"
            ]
          },
          "execution_count": 22,
          "metadata": {},
          "output_type": "execute_result"
        },
        {
          "data": {
            "image/png": "[encoded data removed]",
            "text/plain": [
              "<Figure size 432x288 with 1 Axes>"
            ]
          },
          "metadata": {
            "needs_background": "light"
          },
          "output_type": "display_data"
        }
      ],
      "source": [
        "import matplotlib.pyplot as plt\n",
        "plt.hist(medias_por_filme)"
      ]
    },
    {
      "cell_type": "code",
      "execution_count": null,
      "metadata": {
        "id": "K5NM-buwkJnx"
      },
      "outputs": [],
      "source": [
        "tmdb = pd.read_csv('/tmdb_5000_movies.csv')\n",
        "tmdb.head()"
      ]
    },
    {
      "cell_type": "code",
      "execution_count": null,
      "metadata": {
        "id": "n7QoCErHncio"
      },
      "outputs": [],
      "source": [
        "print(tmdb.original_language.unique()) #categorica nominal\n",
        "print(tmdb.budget.unique()) #quantitativo continuo"
      ]
    },
    {
      "cell_type": "code",
      "execution_count": null,
      "metadata": {
        "id": "r3dny2acqbUV"
      },
      "outputs": [],
      "source": [
        "contagem_de_lingua = tmdb.original_language.value_counts().to_frame().reset_index()\n",
        "contagem_de_lingua "
      ]
    },
    {
      "cell_type": "code",
      "execution_count": null,
      "metadata": {
        "colab": {
          "base_uri": "https://localhost:8080/",
          "height": 297
        },
        "id": "h-Iu__OqrSLY",
        "outputId": "caad91ea-6383-476d-ee0f-a80cad265630"
      },
      "outputs": [
        {
          "data": {
            "text/plain": [
              "<matplotlib.axes._subplots.AxesSubplot at 0x7fb6f1840040>"
            ]
          },
          "execution_count": 45,
          "metadata": {},
          "output_type": "execute_result"
        },
        {
          "data": {
            "image/png": "[encoded data removed]",
            "text/plain": [
              "<Figure size 432x288 with 1 Axes>"
            ]
          },
          "metadata": {
            "needs_background": "light"
          },
          "output_type": "display_data"
        }
      ],
      "source": [
        "sns.barplot(x ='original_language', y = 'index', data = contagem_de_lingua.head())"
      ]
    },
    {
      "cell_type": "code",
      "execution_count": null,
      "metadata": {
        "colab": {
          "base_uri": "https://localhost:8080/",
          "height": 386
        },
        "id": "7GDwpkGmsX9t",
        "outputId": "293419b5-73ca-441a-e936-61f7be14fe60"
      },
      "outputs": [
        {
          "data": {
            "text/plain": [
              "<seaborn.axisgrid.FacetGrid at 0x7fb6f2030430>"
            ]
          },
          "execution_count": 48,
          "metadata": {},
          "output_type": "execute_result"
        },
        {
          "data": {
            "image/png": "[encoded data removed]",
            "text/plain": [
              "<Figure size 360x360 with 1 Axes>"
            ]
          },
          "metadata": {
            "needs_background": "light"
          },
          "output_type": "display_data"
        }
      ],
      "source": [
        "sns.catplot(x = 'original_language',kind ='count', data=tmdb)"
      ]
    },
    {
      "cell_type": "markdown",
      "metadata": {
        "id": "wOKgG17ewPGQ"
      },
      "source": []
    }
  ],
  "metadata": {
    "colab": {
      "collapsed_sections": [
        "TjP8PoZFhPgu",
        "RS2Y1kRNSKLY",
        "dTyQnHv6UTiO",
        "bkPrSdWfe_hz",
        "XcILugqTg-oT",
        "pYxU8mMMi4hp",
        "yWvLJUv7lrWF"
      ],
      "provenance": []
    },
    "kernelspec": {
      "display_name": "base",
      "language": "python",
      "name": "python3"
    },
    "language_info": {
      "codemirror_mode": {
        "name": "ipython",
        "version": 3
      },
      "file_extension": ".py",
      "mimetype": "text/x-python",
      "name": "python",
      "nbconvert_exporter": "python",
      "pygments_lexer": "ipython3",
      "version": "3.9.13"
    },
    "vscode": {
      "interpreter": {
        "hash": "986918918cc538ae942ffc963b59d7d0920a66751db9100f044b32779537ddfc"
      }
    }
  },
  "nbformat": 4,
  "nbformat_minor": 0
}
